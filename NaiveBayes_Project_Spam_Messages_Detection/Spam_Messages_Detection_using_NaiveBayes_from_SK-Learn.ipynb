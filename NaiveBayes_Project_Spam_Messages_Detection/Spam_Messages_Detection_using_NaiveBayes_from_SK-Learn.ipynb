{
 "cells": [
  {
   "cell_type": "markdown",
   "metadata": {
    "_cell_guid": "4a92a4a9-e124-4daf-9ab3-2a9f6c4899e9",
    "_uuid": "a22d42929a30a29eb46caf1aac1ba9d24bb2aec7"
   },
   "source": [
    "# 垃圾邮件分类\n",
    "\n",
    "https://www.kaggle.com/uciml/sms-spam-collection-dataset"
   ]
  },
  {
   "cell_type": "markdown",
   "metadata": {
    "_cell_guid": "d6b1ab40-34da-4645-98c4-4b61c97895f6",
    "_uuid": "0259bd59e4fad41ffd78aa5a510a83ef07daab7f",
    "collapsed": true
   },
   "source": [
    "读取数据"
   ]
  },
  {
   "cell_type": "code",
   "execution_count": null,
   "metadata": {
    "_cell_guid": "a89760f4-9075-42be-b4c4-c8c87d175c88",
    "_uuid": "4429a082ddabcb23261daec29ee1ae9e68ba2a2e",
    "collapsed": true
   },
   "outputs": [],
   "source": [
    "import pandas as pd\n",
    "import numpy as np \n",
    "import pandas as pd \n",
    "import matplotlib.pyplot as plt # 画图常用库\n",
    "\n",
    "data_dir = \"../input/\"\n",
    "\n",
    "df = pd.read_csv(data_dir + '/spam.csv', encoding='latin-1')  \n",
    "# 编码相关阅读http://blog.csdn.net/robertcpp/article/details/7837712 \n",
    "\n",
    "# 查看数据\n",
    "print (df.head())\n",
    "df.shape"
   ]
  },
  {
   "cell_type": "markdown",
   "metadata": {
    "_cell_guid": "67acf5ec-1b9d-46f2-937a-48d43d615cc5",
    "_uuid": "dba56aaa22e5b5644fd62770e9ee1e9722a283af"
   },
   "source": [
    "把数据拆分为train 和 test"
   ]
  },
  {
   "cell_type": "code",
   "execution_count": null,
   "metadata": {
    "_cell_guid": "aef04972-5890-4b3a-b0d9-f70d7981287b",
    "_uuid": "0fd1c53204501212d3dae7b60fd8c4af6cdbd067",
    "collapsed": true
   },
   "outputs": [],
   "source": [
    "from sklearn.model_selection import train_test_split\n",
    "\n",
    "# split into train and test\n",
    "data_train, data_test, labels_train, labels_test = train_test_split(\n",
    "    df.v2,\n",
    "    df.v1, \n",
    "    test_size=0.2, \n",
    "    random_state=0) \n",
    "\n",
    "print ('拆分过后的每个邮件内容')\n",
    "\n",
    "print (data_train.head())\n",
    "print (labels_train.head())"
   ]
  },
  {
   "cell_type": "markdown",
   "metadata": {
    "_cell_guid": "272d1ea1-3e8b-4a73-97e2-99905e7d4e4b",
    "_uuid": "77f7dfa64504b410f548b5570bbf1d9abec9fd91"
   },
   "source": [
    "统计训练集里面单词个数"
   ]
  },
  {
   "cell_type": "code",
   "execution_count": null,
   "metadata": {
    "_cell_guid": "273f8e30-397b-4c63-ac08-88be32d61979",
    "_uuid": "0be1cef52ee1cffc71007be2181a842915cd47bb",
    "collapsed": true
   },
   "outputs": [],
   "source": [
    "from sklearn.feature_extraction.text import CountVectorizer\n",
    "\n",
    "vectorizer = CountVectorizer()\n",
    "\n",
    "data_train_count = vectorizer.fit_transform(data_train)\n",
    "data_test_count  = vectorizer.transform(data_test)\n",
    "# print ('统计每个单词出现的频率')\n",
    "# print (data_train_count.shape)\n",
    "# print (vectorizer.vocabulary_)\n",
    "# print (data_test_count.shape)\n",
    "\n"
   ]
  },
  {
   "cell_type": "markdown",
   "metadata": {
    "_cell_guid": "8176b13f-ed49-43fa-844e-2445c533d237",
    "_uuid": "7972abd7b32472bb42573b71ce20c9cdfdb37666"
   },
   "source": [
    "演示CountVectorizer用法"
   ]
  },
  {
   "cell_type": "code",
   "execution_count": null,
   "metadata": {
    "_cell_guid": "76be376a-0c66-4001-ac99-9b968ce62781",
    "_uuid": "bc7497787d1d19eee918fec0faabe29669a8b3fb",
    "collapsed": true
   },
   "outputs": [],
   "source": [
    "import pandas as pd \n",
    "import matplotlib.pyplot as plt # 画图常用库\n",
    "vect = CountVectorizer()\n",
    "example = ['I love you, good bad bad', 'you are soo good']\n",
    "\n",
    "result = vect.fit_transform(example)\n",
    "print(result)\n",
    "print (vect.vocabulary_)\n",
    "\n"
   ]
  },
  {
   "cell_type": "code",
   "execution_count": null,
   "metadata": {
    "_cell_guid": "2748a8b3-911d-44f2-bf4e-946f6bebdaba",
    "_uuid": "a425a72a8460687ba0c067893f82b11d04d6f025",
    "collapsed": true
   },
   "outputs": [],
   "source": [
    "\n",
    "word_freq_df = pd.DataFrame({'term': vectorizer.get_feature_names(), 'occurrences':data_train_count.toarray().sum(axis=0)})\n",
    "word_freq_df['frequency'] = word_freq_df['occurrences']/np.sum(word_freq_df['occurrences'])\n",
    "plt.plot(word_freq_df.occurrences)\n",
    "plt.show() # 显示图形\n",
    "\n",
    "\n",
    "word_freq_df_sort = word_freq_df.sort_values(by=['occurrences'], ascending=False)\n",
    "word_freq_df_sort.head()\n",
    "\n"
   ]
  },
  {
   "cell_type": "code",
   "execution_count": null,
   "metadata": {
    "_cell_guid": "406d0b4b-bb4b-4db8-a94f-67b002e3797c",
    "_uuid": "f8e259bb2ef260294478c4ec7929cdd10b68d84a",
    "collapsed": true
   },
   "outputs": [],
   "source": [
    "# 查看发现train 和 test 的feature不一致\n",
    "\n",
    "print (data_train_count.shape, labels_train.shape, data_test_count.shape)"
   ]
  },
  {
   "cell_type": "markdown",
   "metadata": {
    "_cell_guid": "3cfdaa3e-c3b7-45f0-8846-13f7e85c6da7",
    "_uuid": "2c5911ddfa38f04cecdc3abff12ede045d167347"
   },
   "source": [
    "选择比较重要的feature"
   ]
  },
  {
   "cell_type": "markdown",
   "metadata": {
    "_cell_guid": "b4a698f1-fdde-4858-8043-3902d870bc90",
    "_uuid": "d1ccbf1a3bfbdd521c52db477e9d40e9d4268212"
   },
   "source": [
    "训练模型"
   ]
  },
  {
   "cell_type": "code",
   "execution_count": null,
   "metadata": {
    "_cell_guid": "708ea854-0c20-4ac0-97b7-90075d8f63c4",
    "_uuid": "ad1c1cf6085fdf9d83c34c68b324f1c73e710315",
    "collapsed": true
   },
   "outputs": [],
   "source": [
    "\n",
    "from sklearn.naive_bayes import MultinomialNB\n",
    "from sklearn.metrics import accuracy_score\n",
    "\n",
    "clf = MultinomialNB()\n",
    "clf.fit(data_train_count, labels_train)\n",
    "predictions = clf.predict(data_test_count)\n",
    "print(predictions)\n"
   ]
  },
  {
   "cell_type": "code",
   "execution_count": null,
   "metadata": {
    "_cell_guid": "7fa3e576-9b9b-48ec-b408-c3861ca079a2",
    "_uuid": "265782347ee4ecfae5a53be5d399134d40f81829",
    "collapsed": true
   },
   "outputs": [],
   "source": [
    "# 检测模型\n",
    "\n",
    "from sklearn.metrics import accuracy_score,classification_report,confusion_matrix\n",
    "from sklearn.model_selection import cross_val_score\n",
    "\n",
    "\n",
    "print (accuracy_score(labels_test, predictions))\n",
    "print (classification_report(labels_test, predictions))\n",
    "print (confusion_matrix(labels_test, predictions))\n",
    "\n",
    "\n",
    "cross_val = cross_val_score(clf, data_train_count, labels_train, cv=20, scoring='accuracy')\n",
    "print (cross_val)\n",
    "print (np.mean(cross_val))"
   ]
  }
 ],
 "metadata": {
  "kernelspec": {
   "display_name": "Python 3",
   "language": "python",
   "name": "python3"
  },
  "language_info": {
   "codemirror_mode": {
    "name": "ipython",
    "version": 3
   },
   "file_extension": ".py",
   "mimetype": "text/x-python",
   "name": "python",
   "nbconvert_exporter": "python",
   "pygments_lexer": "ipython3",
   "version": "3.6.4"
  }
 },
 "nbformat": 4,
 "nbformat_minor": 1
}
