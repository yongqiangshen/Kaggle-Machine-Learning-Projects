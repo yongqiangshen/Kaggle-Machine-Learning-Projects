{
 "cells": [
  {
   "cell_type": "markdown",
   "metadata": {
    "_cell_guid": "35c09e50-c0da-49c9-a7bb-a13bfffc14f0",
    "_uuid": "f8f1d73da2ce0643d06242ca1f2f76e8b2aaeec7"
   },
   "source": [
    "## Classify whether images contain either a dog or a cat with Deep Learning\n",
    "\n",
    "- Data source： https://www.kaggle.com/c/dogs-vs-cats "
   ]
  },
  {
   "cell_type": "code",
   "execution_count": 1,
   "metadata": {
    "_cell_guid": "0cb82a60-0c7b-4765-b572-99ebd3b56bd7",
    "_uuid": "a23fee6cad7f5850fc91d108c8319f5b21967cf7"
   },
   "outputs": [],
   "source": [
    "import cv2 # pip3 install opencv-python\n",
    "import numpy as np \n",
    "import os \n",
    "from random import shuffle  \n",
    "from tqdm import tqdm \n",
    "import matplotlib.pyplot as plt "
   ]
  },
  {
   "cell_type": "code",
   "execution_count": 2,
   "metadata": {
    "_cell_guid": "6524d40f-fd19-47a9-877d-76f2d3cb99e2",
    "_uuid": "bfa17717ba2483886e792149f4fc18b54dc19bd8"
   },
   "outputs": [],
   "source": [
    "train_dir = 'train/'\n",
    "test_dir = 'test/'\n",
    "img_size = 50\n",
    "lr = 1e-3"
   ]
  },
  {
   "cell_type": "markdown",
   "metadata": {
    "_cell_guid": "536adb35-4783-47a0-8825-b26b842116eb",
    "_uuid": "0f045348eb3e7a987d275dfc0460179bcca39ce0"
   },
   "source": [
    "Change label to dummy variables"
   ]
  },
  {
   "cell_type": "code",
   "execution_count": 3,
   "metadata": {
    "_cell_guid": "c3623f27-1846-47d8-804d-eb0cef4bd511",
    "_uuid": "efa72ed3f0c43aa8d883cf5bea8390df54682a41"
   },
   "outputs": [],
   "source": [
    "def label_img(img):\n",
    "    word_label = img.split('.')[-3]\n",
    "    if word_label == 'cat': return [1,0]\n",
    "    elif word_label == 'dog': return [0,1]"
   ]
  },
  {
   "cell_type": "code",
   "execution_count": 4,
   "metadata": {
    "_cell_guid": "3a9c0479-ebeb-4e7e-9d9d-d2b98297c64d",
    "_uuid": "42b397f96e5293a6803ef437cd39aef49b5543a0"
   },
   "outputs": [],
   "source": [
    "def create_train_data():\n",
    "    training_data = []\n",
    "    for img in tqdm(os.listdir(train_dir)):\n",
    "        if (not img.endswith('.jpg')):\n",
    "            continue\n",
    "        label = label_img(img)\n",
    "        path = os.path.join(train_dir, img)\n",
    "        img = cv2.imread(path, cv2.IMREAD_GRAYSCALE)  \n",
    "        img = cv2.resize(img, (img_size, img_size) )  # Make them the same size\n",
    "        training_data.append([np.array(img), np.array(label)])\n",
    "    shuffle(training_data)\n",
    "    return training_data\n",
    "        "
   ]
  },
  {
   "cell_type": "code",
   "execution_count": 5,
   "metadata": {
    "_cell_guid": "789bd383-0f70-4b18-aa9a-57c3c29c931d",
    "_uuid": "412e4bd3c01b33cc855a93ba7c998319bb6c215b"
   },
   "outputs": [
    {
     "name": "stderr",
     "output_type": "stream",
     "text": [
      "100%|██████████| 25000/25000 [00:23<00:00, 1068.86it/s]\n"
     ]
    }
   ],
   "source": [
    "train_data = create_train_data()"
   ]
  },
  {
   "cell_type": "markdown",
   "metadata": {
    "_cell_guid": "9982136a-7a62-4fc7-b1c3-a2b44882d29a",
    "_uuid": "3c062509ed811af10fc3393daa8eac0dea1c2f28"
   },
   "source": [
    "Process test data"
   ]
  },
  {
   "cell_type": "code",
   "execution_count": null,
   "metadata": {
    "_cell_guid": "18771d95-0514-4c6a-82e6-c4301fa0c0de",
    "_uuid": "9a57c7078b58f98cb898817982091170bd55bf60"
   },
   "outputs": [],
   "source": [
    "def process_test_data():\n",
    "    testing_data = []\n",
    "    for img in tqdm(os.listdir(test_dir)):\n",
    "        if (not img.endswith('.jpg')):\n",
    "            continue\n",
    "        path = os.path.join(test_dir,img)\n",
    "        img_num = img.split('.')[0]\n",
    "        img = cv2.imread(path,cv2.IMREAD_GRAYSCALE)\n",
    "        img = cv2.resize(img, (img_size, img_size))\n",
    "        testing_data.append([np.array(img), img_num])\n",
    "        \n",
    "    shuffle(testing_data)\n",
    "    return testing_data"
   ]
  },
  {
   "cell_type": "code",
   "execution_count": null,
   "metadata": {
    "_cell_guid": "8e836bfb-d204-4126-8ccd-5b597e2569f8",
    "_uuid": "88b68c9e329b9258a1df081179d3f5ea28576a54"
   },
   "outputs": [
    {
     "ename": "ModuleNotFoundError",
     "evalue": "No module named 'numpy.core._multiarray_umath'",
     "output_type": "error",
     "traceback": [
      "\u001b[0;31m---------------------------------------------------------------------------\u001b[0m",
      "\u001b[0;31mModuleNotFoundError\u001b[0m                       Traceback (most recent call last)",
      "\u001b[0;31mModuleNotFoundError\u001b[0m: No module named 'numpy.core._multiarray_umath'"
     ]
    },
    {
     "ename": "SystemError",
     "evalue": "<class '_frozen_importlib._ModuleLockManager'> returned a result with an error set",
     "output_type": "error",
     "traceback": [
      "\u001b[0;31m---------------------------------------------------------------------------\u001b[0m",
      "\u001b[0;31mImportError\u001b[0m                               Traceback (most recent call last)",
      "\u001b[0;31mImportError\u001b[0m: numpy.core.multiarray failed to import",
      "\nThe above exception was the direct cause of the following exception:\n",
      "\u001b[0;31mSystemError\u001b[0m                               Traceback (most recent call last)",
      "\u001b[0;32m~/anaconda3/lib/python3.6/importlib/_bootstrap.py\u001b[0m in \u001b[0;36m_find_and_load\u001b[0;34m(name, import_)\u001b[0m\n",
      "\u001b[0;31mSystemError\u001b[0m: <class '_frozen_importlib._ModuleLockManager'> returned a result with an error set"
     ]
    },
    {
     "ename": "ImportError",
     "evalue": "numpy.core._multiarray_umath failed to import",
     "output_type": "error",
     "traceback": [
      "\u001b[0;31m---------------------------------------------------------------------------\u001b[0m",
      "\u001b[0;31mImportError\u001b[0m                               Traceback (most recent call last)",
      "\u001b[0;31mImportError\u001b[0m: numpy.core._multiarray_umath failed to import"
     ]
    },
    {
     "ename": "ImportError",
     "evalue": "numpy.core.umath failed to import",
     "output_type": "error",
     "traceback": [
      "\u001b[0;31m---------------------------------------------------------------------------\u001b[0m",
      "\u001b[0;31mImportError\u001b[0m                               Traceback (most recent call last)",
      "\u001b[0;31mImportError\u001b[0m: numpy.core.umath failed to import"
     ]
    }
   ],
   "source": [
    "import tflearn \n",
    "from tflearn.layers.conv import conv_2d, max_pool_2d  \n",
    "from tflearn.layers.core import input_data, dropout, fully_connected \n",
    "from tflearn.layers.estimator import regression # cross entropy"
   ]
  },
  {
   "cell_type": "code",
   "execution_count": null,
   "metadata": {
    "_cell_guid": "39064a5f-4a96-486b-a7a5-9e16822ef11d",
    "_uuid": "8d3400344b6a8b2e534902754cc31d38c1a44332"
   },
   "outputs": [],
   "source": [
    "import tensorflow as tf\n",
    "tf.reset_default_graph()"
   ]
  },
  {
   "cell_type": "code",
   "execution_count": null,
   "metadata": {
    "_cell_guid": "9175e81c-4d07-4538-be58-40e75bbbe313",
    "_uuid": "9887bad9c97d781d8bea9d7c895ef0b0b78efded"
   },
   "outputs": [],
   "source": [
    "convnet = input_data(shape = [None, img_size, img_size, 1], name = 'input')"
   ]
  },
  {
   "cell_type": "code",
   "execution_count": null,
   "metadata": {
    "_cell_guid": "84fcc685-8210-43c8-b1d8-f56b057aecc6",
    "_uuid": "bbe2e040962310cb482d704ced4ddaa8ea291330"
   },
   "outputs": [],
   "source": [
    "convnet = conv_2d(convnet, 32, 5, activation='relu')\n",
    "convnet = max_pool_2d(convnet, 5)\n",
    "\n",
    "convnet = conv_2d(convnet, 64, 5, activation='relu')\n",
    "convnet = max_pool_2d(convnet, 5)\n",
    "\n",
    "convnet = conv_2d(convnet, 128, 5, activation='relu')\n",
    "convnet = max_pool_2d(convnet, 5)\n",
    "\n",
    "convnet = conv_2d(convnet, 64, 5, activation='relu')\n",
    "convnet = max_pool_2d(convnet, 5)\n",
    "\n",
    "convnet = conv_2d(convnet, 32, 5, activation='relu')\n",
    "convnet = max_pool_2d(convnet, 5)"
   ]
  },
  {
   "cell_type": "code",
   "execution_count": null,
   "metadata": {
    "_cell_guid": "0af75664-fa22-4f27-8ead-0c726dc5bcde",
    "_uuid": "e1a11e56920aebe74190bb3aafbcf5bd0db8f2dc"
   },
   "outputs": [],
   "source": [
    "convnet = fully_connected(convnet, 1024, activation = 'relu')\n",
    "convnet = dropout(convnet, 0.8)\n",
    "\n",
    "convnet = fully_connected(convnet, 2, activation='softmax')\n",
    "convnet = regression(convnet, optimizer='adam', learning_rate = lr, loss='categorical_crossentropy', name='targets')"
   ]
  },
  {
   "cell_type": "code",
   "execution_count": null,
   "metadata": {
    "_cell_guid": "e0ad9579-4c77-410f-aefa-902143293143",
    "_uuid": "4d48e2753416f68c2990179d86435a6504151fb6"
   },
   "outputs": [],
   "source": [
    "model = tflearn.DNN(convnet, tensorboard_dir='log')"
   ]
  },
  {
   "cell_type": "code",
   "execution_count": null,
   "metadata": {
    "_cell_guid": "14a810d7-1c1d-4143-9970-0cbc12552790",
    "_uuid": "b10f6d54adbbeb205f8e5b4d7f4eac806808fcc9"
   },
   "outputs": [],
   "source": [
    "train = train_data[:-500]"
   ]
  },
  {
   "cell_type": "code",
   "execution_count": null,
   "metadata": {
    "_cell_guid": "f8903829-712f-4d3d-9b2b-2a79812fc5f0",
    "_uuid": "3d0ce598b0cd3e017c36f8503cb7d86459475649"
   },
   "outputs": [],
   "source": [
    "test = train_data[-500:]"
   ]
  },
  {
   "cell_type": "code",
   "execution_count": null,
   "metadata": {
    "_cell_guid": "9f45f285-71b5-475a-82a6-2cdc435b4fb3",
    "_uuid": "0c9485ab403a9c1b9da89c29a397a70be45f17f4"
   },
   "outputs": [],
   "source": [
    "X = np.array([i[0] for i in train], dtype=np.float64).reshape(-1, img_size, img_size, 1)\n",
    "y = np.array([i[1] for i in train], dtype=np.float64)\n",
    "Xtest = np.array([i[0] for i in test], dtype=np.float64).reshape(-1, img_size, img_size, 1)\n",
    "ytest = np.array([i[1] for i in test], dtype=np.float64)"
   ]
  },
  {
   "cell_type": "markdown",
   "metadata": {
    "_cell_guid": "5b77e6fd-1ff3-4358-94c0-9ea86aed7a74",
    "_uuid": "c803b11fbf8c3477cbf7db8e5e1b9b7748a53796"
   },
   "source": [
    "Train data"
   ]
  },
  {
   "cell_type": "code",
   "execution_count": null,
   "metadata": {
    "_cell_guid": "c134c32b-634d-441c-81cc-80c4d045e3d2",
    "_uuid": "6d00534c4767b65da6a2fa0c0060ca5a29f6bfd0"
   },
   "outputs": [],
   "source": [
    "model.fit({'input': X}, {'targets': y}, n_epoch=3, validation_set=({'input': Xtest}, {'targets': ytest}), snapshot_step=500, show_metric=True, run_id='model' )"
   ]
  },
  {
   "cell_type": "markdown",
   "metadata": {
    "_cell_guid": "537b6e6a-6f67-43c9-be08-e76ddd063c62",
    "_uuid": "57f3808d8909798129c037af61daea9cbbe9569d"
   },
   "source": [
    "Test data"
   ]
  },
  {
   "cell_type": "code",
   "execution_count": null,
   "metadata": {
    "_cell_guid": "d428a06c-5565-43bf-8793-a7d7674628a6",
    "_uuid": "b54efb6f2a03faf887c62601018b2f55f5cfd837"
   },
   "outputs": [],
   "source": [
    "test_data = process_test_data()"
   ]
  },
  {
   "cell_type": "code",
   "execution_count": null,
   "metadata": {
    "_cell_guid": "a9af38e0-fe27-454a-98b9-f11029365157",
    "_uuid": "cfca9f6ee19d32c6a10e7b5294145c3a7e2d8b54"
   },
   "outputs": [],
   "source": [
    "fig = plt.figure()\n",
    "for num,data in enumerate(test_data[:16]):\n",
    "    img_num = data[1]\n",
    "    img_data = data[0]\n",
    "    y = fig.add_subplot(4, 4, num+1)\n",
    "    orig = img_data\n",
    "    data = img_data.reshape(img_size, img_size, 1)\n",
    "    model_out = model.predict([data])[0]\n",
    "    if np.argmax(model_out) == 1: \n",
    "        label = 'Dog'\n",
    "    else: \n",
    "        label = 'Cat'\n",
    "    \n",
    "    y.imshow(orig, cmap='gray')\n",
    "    plt.title(label)\n",
    "    y.axes.get_xaxis().set_visible(False)\n",
    "    y.axes.get_yaxis().set_visible(False)\n",
    "    \n",
    "plt.tight_layout()\n",
    "plt.show()"
   ]
  },
  {
   "cell_type": "code",
   "execution_count": null,
   "metadata": {
    "_cell_guid": "3205ca41-8881-4b01-ba57-426ab59738e3",
    "_uuid": "3c3476ed45a2bd8e5fc0b5172c2df4d50a42e182"
   },
   "outputs": [],
   "source": []
  }
 ],
 "metadata": {
  "kernelspec": {
   "display_name": "Python 3",
   "language": "python",
   "name": "python3"
  },
  "language_info": {
   "codemirror_mode": {
    "name": "ipython",
    "version": 3
   },
   "file_extension": ".py",
   "mimetype": "text/x-python",
   "name": "python",
   "nbconvert_exporter": "python",
   "pygments_lexer": "ipython3",
   "version": "3.6.8"
  }
 },
 "nbformat": 4,
 "nbformat_minor": 1
}
