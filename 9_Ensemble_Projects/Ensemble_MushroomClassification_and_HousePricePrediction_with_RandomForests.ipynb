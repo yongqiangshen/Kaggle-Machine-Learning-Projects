{
 "cells": [
  {
   "cell_type": "markdown",
   "metadata": {
    "_cell_guid": "bbdaf27f-0db2-4bd2-ba3f-6ac43bb15204",
    "_uuid": "c31063247b2a32b1db5ac62d400ed39d4926590b",
    "collapsed": true
   },
   "source": [
    "## Mushroom Classification with Random Forests\n",
    "### Safe to eat or deadly poison?\n",
    "\n",
    "\n",
    "- Data source： https://www.kaggle.com/uciml/mushroom-classification/data  \n",
    "- Compare Random Forests, Decision Tree, and Logistic Regression models"
   ]
  },
  {
   "cell_type": "code",
   "execution_count": 1,
   "metadata": {
    "_cell_guid": "e02c321a-2344-45e3-b00d-67d3165af8de",
    "_uuid": "7035a7c63380d4838bbeba442b6738aafa36b00d"
   },
   "outputs": [],
   "source": [
    "\n",
    "%matplotlib inline\n",
    "import os\n",
    "import numpy as np\n",
    "import pandas as pd\n",
    "import matplotlib.pyplot as plt\n",
    "\n",
    "from sklearn.preprocessing import LabelEncoder, StandardScaler\n",
    "from sklearn.ensemble import RandomForestClassifier\n",
    "from sklearn.tree import DecisionTreeClassifier\n",
    "from sklearn.linear_model import LogisticRegression\n",
    "from sklearn.model_selection import cross_val_score\n",
    "\n",
    "np.random.seed(19)"
   ]
  },
  {
   "cell_type": "code",
   "execution_count": 2,
   "metadata": {
    "_cell_guid": "a3d93f83-c63e-4c07-9bfb-03aded57503e",
    "_uuid": "fc55a3a45f9b06e2615a79d424f826bd421e1f1e"
   },
   "outputs": [],
   "source": [
    "data_folder = \"\"\n",
    "data = pd.read_csv(os.path.join(data_folder, \"mushrooms.csv\"), header=None)\n"
   ]
  },
  {
   "cell_type": "code",
   "execution_count": 3,
   "metadata": {
    "_cell_guid": "95757c63-cb02-408e-8f1d-a8a8ce384ee4",
    "_uuid": "0437d9d9f8314358babbbd8ec2310a936d7d7432"
   },
   "outputs": [
    {
     "data": {
      "text/html": [
       "<div>\n",
       "<style scoped>\n",
       "    .dataframe tbody tr th:only-of-type {\n",
       "        vertical-align: middle;\n",
       "    }\n",
       "\n",
       "    .dataframe tbody tr th {\n",
       "        vertical-align: top;\n",
       "    }\n",
       "\n",
       "    .dataframe thead th {\n",
       "        text-align: right;\n",
       "    }\n",
       "</style>\n",
       "<table border=\"1\" class=\"dataframe\">\n",
       "  <thead>\n",
       "    <tr style=\"text-align: right;\">\n",
       "      <th></th>\n",
       "      <th>0</th>\n",
       "      <th>1</th>\n",
       "      <th>2</th>\n",
       "      <th>3</th>\n",
       "      <th>4</th>\n",
       "      <th>5</th>\n",
       "      <th>6</th>\n",
       "      <th>7</th>\n",
       "      <th>8</th>\n",
       "      <th>9</th>\n",
       "      <th>...</th>\n",
       "      <th>13</th>\n",
       "      <th>14</th>\n",
       "      <th>15</th>\n",
       "      <th>16</th>\n",
       "      <th>17</th>\n",
       "      <th>18</th>\n",
       "      <th>19</th>\n",
       "      <th>20</th>\n",
       "      <th>21</th>\n",
       "      <th>22</th>\n",
       "    </tr>\n",
       "  </thead>\n",
       "  <tbody>\n",
       "    <tr>\n",
       "      <th>0</th>\n",
       "      <td>class</td>\n",
       "      <td>cap-shape</td>\n",
       "      <td>cap-surface</td>\n",
       "      <td>cap-color</td>\n",
       "      <td>bruises</td>\n",
       "      <td>odor</td>\n",
       "      <td>gill-attachment</td>\n",
       "      <td>gill-spacing</td>\n",
       "      <td>gill-size</td>\n",
       "      <td>gill-color</td>\n",
       "      <td>...</td>\n",
       "      <td>stalk-surface-below-ring</td>\n",
       "      <td>stalk-color-above-ring</td>\n",
       "      <td>stalk-color-below-ring</td>\n",
       "      <td>veil-type</td>\n",
       "      <td>veil-color</td>\n",
       "      <td>ring-number</td>\n",
       "      <td>ring-type</td>\n",
       "      <td>spore-print-color</td>\n",
       "      <td>population</td>\n",
       "      <td>habitat</td>\n",
       "    </tr>\n",
       "    <tr>\n",
       "      <th>1</th>\n",
       "      <td>p</td>\n",
       "      <td>x</td>\n",
       "      <td>s</td>\n",
       "      <td>n</td>\n",
       "      <td>t</td>\n",
       "      <td>p</td>\n",
       "      <td>f</td>\n",
       "      <td>c</td>\n",
       "      <td>n</td>\n",
       "      <td>k</td>\n",
       "      <td>...</td>\n",
       "      <td>s</td>\n",
       "      <td>w</td>\n",
       "      <td>w</td>\n",
       "      <td>p</td>\n",
       "      <td>w</td>\n",
       "      <td>o</td>\n",
       "      <td>p</td>\n",
       "      <td>k</td>\n",
       "      <td>s</td>\n",
       "      <td>u</td>\n",
       "    </tr>\n",
       "    <tr>\n",
       "      <th>2</th>\n",
       "      <td>e</td>\n",
       "      <td>x</td>\n",
       "      <td>s</td>\n",
       "      <td>y</td>\n",
       "      <td>t</td>\n",
       "      <td>a</td>\n",
       "      <td>f</td>\n",
       "      <td>c</td>\n",
       "      <td>b</td>\n",
       "      <td>k</td>\n",
       "      <td>...</td>\n",
       "      <td>s</td>\n",
       "      <td>w</td>\n",
       "      <td>w</td>\n",
       "      <td>p</td>\n",
       "      <td>w</td>\n",
       "      <td>o</td>\n",
       "      <td>p</td>\n",
       "      <td>n</td>\n",
       "      <td>n</td>\n",
       "      <td>g</td>\n",
       "    </tr>\n",
       "    <tr>\n",
       "      <th>3</th>\n",
       "      <td>e</td>\n",
       "      <td>b</td>\n",
       "      <td>s</td>\n",
       "      <td>w</td>\n",
       "      <td>t</td>\n",
       "      <td>l</td>\n",
       "      <td>f</td>\n",
       "      <td>c</td>\n",
       "      <td>b</td>\n",
       "      <td>n</td>\n",
       "      <td>...</td>\n",
       "      <td>s</td>\n",
       "      <td>w</td>\n",
       "      <td>w</td>\n",
       "      <td>p</td>\n",
       "      <td>w</td>\n",
       "      <td>o</td>\n",
       "      <td>p</td>\n",
       "      <td>n</td>\n",
       "      <td>n</td>\n",
       "      <td>m</td>\n",
       "    </tr>\n",
       "    <tr>\n",
       "      <th>4</th>\n",
       "      <td>p</td>\n",
       "      <td>x</td>\n",
       "      <td>y</td>\n",
       "      <td>w</td>\n",
       "      <td>t</td>\n",
       "      <td>p</td>\n",
       "      <td>f</td>\n",
       "      <td>c</td>\n",
       "      <td>n</td>\n",
       "      <td>n</td>\n",
       "      <td>...</td>\n",
       "      <td>s</td>\n",
       "      <td>w</td>\n",
       "      <td>w</td>\n",
       "      <td>p</td>\n",
       "      <td>w</td>\n",
       "      <td>o</td>\n",
       "      <td>p</td>\n",
       "      <td>k</td>\n",
       "      <td>s</td>\n",
       "      <td>u</td>\n",
       "    </tr>\n",
       "  </tbody>\n",
       "</table>\n",
       "<p>5 rows × 23 columns</p>\n",
       "</div>"
      ],
      "text/plain": [
       "      0          1            2          3        4     5                6   \\\n",
       "0  class  cap-shape  cap-surface  cap-color  bruises  odor  gill-attachment   \n",
       "1      p          x            s          n        t     p                f   \n",
       "2      e          x            s          y        t     a                f   \n",
       "3      e          b            s          w        t     l                f   \n",
       "4      p          x            y          w        t     p                f   \n",
       "\n",
       "             7          8           9    ...                           13  \\\n",
       "0  gill-spacing  gill-size  gill-color   ...     stalk-surface-below-ring   \n",
       "1             c          n           k   ...                            s   \n",
       "2             c          b           k   ...                            s   \n",
       "3             c          b           n   ...                            s   \n",
       "4             c          n           n   ...                            s   \n",
       "\n",
       "                       14                      15         16          17  \\\n",
       "0  stalk-color-above-ring  stalk-color-below-ring  veil-type  veil-color   \n",
       "1                       w                       w          p           w   \n",
       "2                       w                       w          p           w   \n",
       "3                       w                       w          p           w   \n",
       "4                       w                       w          p           w   \n",
       "\n",
       "            18         19                 20          21       22  \n",
       "0  ring-number  ring-type  spore-print-color  population  habitat  \n",
       "1            o          p                  k           s        u  \n",
       "2            o          p                  n           n        g  \n",
       "3            o          p                  n           n        m  \n",
       "4            o          p                  k           s        u  \n",
       "\n",
       "[5 rows x 23 columns]"
      ]
     },
     "execution_count": 3,
     "metadata": {},
     "output_type": "execute_result"
    }
   ],
   "source": [
    "data.head()"
   ]
  },
  {
   "cell_type": "code",
   "execution_count": 4,
   "metadata": {
    "_cell_guid": "c3a788db-b04b-47b0-98b5-be7f8965aedc",
    "_uuid": "6773eee25108c36a099e20cd342a21c6b667a3a2"
   },
   "outputs": [],
   "source": [
    "data[0] = data.apply(lambda row: 0 if row[0] == 'e' else 1, axis=1)"
   ]
  },
  {
   "cell_type": "code",
   "execution_count": 5,
   "metadata": {
    "_cell_guid": "a332adf8-b7cf-4084-87d9-33b73bc5929f",
    "_uuid": "c44b1f9a888d2858bc6af34976029bbf261b373f"
   },
   "outputs": [],
   "source": [
    "# Replace \"null\" with missing\"\n",
    "cols = np.arange(1,23)\n",
    "for col in cols:\n",
    "    if np.any(data[col].isnull()):\n",
    "        data.loc[df[col].isnull(), col] = 'missing'\n"
   ]
  },
  {
   "cell_type": "code",
   "execution_count": 6,
   "metadata": {
    "_cell_guid": "a7a672a7-c089-4922-a39a-d2e03c29f34c",
    "_uuid": "0423f5bcaf57a4b97d16362e20156f54f06a198d"
   },
   "outputs": [
    {
     "name": "stdout",
     "output_type": "stream",
     "text": [
      "dimensionality:  161\n"
     ]
    }
   ],
   "source": [
    "labelEncoders = dict()\n",
    "\n",
    "# one hot encoding\n",
    "for col in cols:\n",
    "    encoder = LabelEncoder()\n",
    "    values = data[col].tolist()\n",
    "    values.append('missing')  \n",
    "    encoder.fit(values)\n",
    "    labelEncoders[col] = encoder\n",
    "\n",
    "dimensionality = 0\n",
    "for col, encoder in labelEncoders.items():\n",
    "    dimensionality += len(encoder.classes_)\n",
    "print(\"dimensionality:  %d\" % (dimensionality))"
   ]
  },
  {
   "cell_type": "code",
   "execution_count": 7,
   "metadata": {
    "_cell_guid": "ba566614-8b23-498b-a9b0-13f5ac5c4e73",
    "_uuid": "0fcd2737a955218fdebbb98eb1a0494f585a4798"
   },
   "outputs": [],
   "source": [
    "def transform(df):\n",
    "    N, _ = df.shape\n",
    "    X = np.zeros((N, dimensionality))\n",
    "    i = 0\n",
    "    for col ,encoder in labelEncoders.items():\n",
    "        k = len(encoder.classes_)\n",
    "        X[np.arange(N), encoder.transform(df[col]) + i] = 1\n",
    "        i += k\n",
    "    return X"
   ]
  },
  {
   "cell_type": "code",
   "execution_count": 8,
   "metadata": {
    "_cell_guid": "d99499d7-3ecc-4765-a7b9-eebf7742b981",
    "_uuid": "e5114a159b9887e95681cdcb6cf0e434f639576e"
   },
   "outputs": [],
   "source": [
    "X = transform(data)\n",
    "Y = data[0].as_matrix()"
   ]
  },
  {
   "cell_type": "markdown",
   "metadata": {
    "_cell_guid": "0ee2944c-5387-40ff-bcf1-40b6997934ba",
    "_uuid": "b27c24257fbe7c491795f595524476a521cd66c9"
   },
   "source": [
    "### Logistic Regression"
   ]
  },
  {
   "cell_type": "code",
   "execution_count": 9,
   "metadata": {
    "_cell_guid": "6870207e-d792-4063-b768-828cf07202d3",
    "_uuid": "22b1e13f9a728e3f0df5e3c0dc420aacbe4f42e6"
   },
   "outputs": [
    {
     "name": "stdout",
     "output_type": "stream",
     "text": [
      "logistic Regression performance: 0.927358\n"
     ]
    }
   ],
   "source": [
    "logistic_model = LogisticRegression()\n",
    "print(\"logistic Regression performance: %f\" % (cross_val_score(logistic_model, X, Y, cv=8).mean()))"
   ]
  },
  {
   "cell_type": "markdown",
   "metadata": {
    "_cell_guid": "30bc0ffc-644c-46b7-b35f-96ef6705cd43",
    "_uuid": "ee751756c96e16ca037a44dd162e94cf946f4ab6"
   },
   "source": [
    "### Decision Tress"
   ]
  },
  {
   "cell_type": "code",
   "execution_count": 10,
   "metadata": {
    "_cell_guid": "31b0e549-9476-49a5-b5f8-3209db3e6bde",
    "_uuid": "d35657480a7622028d7529a52409f0b3827520de"
   },
   "outputs": [
    {
     "name": "stdout",
     "output_type": "stream",
     "text": [
      "Decision Tree performance: 0.945475\n"
     ]
    }
   ],
   "source": [
    "tree_model = DecisionTreeClassifier()\n",
    "print(\"Decision Tree performance: %f\" % (cross_val_score(tree_model, X, Y, cv=8).mean()))"
   ]
  },
  {
   "cell_type": "markdown",
   "metadata": {
    "_cell_guid": "18faa344-ba9a-47d4-b0c1-f56410d8a447",
    "_uuid": "6ab04b9ff29984d11e59ecb6bbcbfbcc6d6925f8"
   },
   "source": [
    "### Random Forests"
   ]
  },
  {
   "cell_type": "code",
   "execution_count": 11,
   "metadata": {
    "_cell_guid": "a8d0252c-ac29-4034-a1e5-f9d3ab911fa0",
    "_uuid": "dabb259bb45e9e774fbc90deee325c8dbcf21b2a"
   },
   "outputs": [
    {
     "name": "stdout",
     "output_type": "stream",
     "text": [
      "Random Forest performance: 0.942519\n"
     ]
    }
   ],
   "source": [
    "forest = RandomForestClassifier(n_estimators=20)\n",
    "print(\"Random Forest performance: %f\" % (cross_val_score(tree_model, X, Y, cv=8).mean()))"
   ]
  },
  {
   "cell_type": "code",
   "execution_count": 12,
   "metadata": {
    "_cell_guid": "9b4c9d2b-8e8f-44c6-aaf6-95514d679729",
    "_uuid": "aac01d4a572f7f1ea9b619aef75ce793c59c2fa9"
   },
   "outputs": [],
   "source": [
    "from sklearn.base import BaseEstimator"
   ]
  },
  {
   "cell_type": "code",
   "execution_count": 13,
   "metadata": {
    "_cell_guid": "91ac41c5-f105-47e9-b1e4-4105c987c860",
    "_uuid": "4b6dbf4266b531ef2773e9d6656101fd33386cfe"
   },
   "outputs": [],
   "source": [
    "class FakeRandomForest(BaseEstimator):\n",
    "    \n",
    "    def __init__(self, M):\n",
    "        self.M = M\n",
    "        \n",
    "        \n",
    "    def fit(self, X, Y, n_features=None):\n",
    "        N,D = X.shape\n",
    "        if n_features is None:\n",
    "            n_features = int(np.sqrt(D))\n",
    "        \n",
    "        self.models = []\n",
    "        \n",
    "        self.features = []\n",
    "        \n",
    "        for m in range(self.M):\n",
    "            tree = DecisionTreeClassifier()\n",
    "            \n",
    "            idx = np.random.choice(N, size=N, replace=True)\n",
    "            X_current = X[idx]\n",
    "            Y_current = Y[idx]\n",
    "            \n",
    "            features = np.random.choice(D, size=n_features, replace=False)\n",
    "            \n",
    "            tree.fit(X_current[:, features], Y_current)\n",
    "            self.features.append(features)\n",
    "            self.models.append(tree)\n",
    "            \n",
    "    \n",
    "    def predict(self, X):\n",
    "        N = len(X)\n",
    "        results = np.zeros(N)\n",
    "        for features, tree in zip(self.features, self.models):\n",
    "            results += tree.predict(X[:, features])\n",
    "        return np.round(results/ self.M)\n",
    "    \n",
    "    def score(self, X, Y):\n",
    "        prediction = self.predict(X)\n",
    "        return np.mean(prediction == Y)\n",
    "        \n",
    "            \n",
    "            \n",
    "            "
   ]
  },
  {
   "cell_type": "markdown",
   "metadata": {
    "_cell_guid": "ceabd7e5-0359-4c36-a9e5-5aed2f80d4dd",
    "_uuid": "c222d15bfe12c26fa1d58b06192b7f383eb63543"
   },
   "source": [
    "### Bagging Decision Tress"
   ]
  },
  {
   "cell_type": "code",
   "execution_count": 14,
   "metadata": {
    "_cell_guid": "4242a9f8-e0a9-4b09-88ca-70998316bd65",
    "_uuid": "f44f1e96f1d518e0d235949eaac736b701a25f83"
   },
   "outputs": [],
   "source": [
    "class BaggedTreeClassifier(BaseEstimator):\n",
    "    def __init__(self, M):\n",
    "        self.M = M\n",
    "\n",
    "    def fit(self, X, Y):\n",
    "        N = len(X)\n",
    "        self.models = []\n",
    "        for m in range(self.M):\n",
    "            idx = np.random.choice(N, size=N, replace=True)\n",
    "            Xb = X[idx]\n",
    "            Yb = Y[idx]\n",
    "\n",
    "            model = DecisionTreeClassifier(max_depth=2)\n",
    "            model.fit(Xb, Yb)\n",
    "            self.models.append(model)\n",
    "\n",
    "    def predict(self, X):\n",
    "        # no need to keep a dictionary since we are doing binary classification\n",
    "        predictions = np.zeros(len(X))\n",
    "        for model in self.models:\n",
    "            predictions += model.predict(X)\n",
    "        return np.round(predictions / self.M)\n",
    "\n",
    "    def score(self, X, Y):\n",
    "        P = self.predict(X)\n",
    "        return np.mean(Y == P)"
   ]
  },
  {
   "cell_type": "code",
   "execution_count": 15,
   "metadata": {
    "_cell_guid": "288f97bf-ae5e-41f6-aa10-840a044734ea",
    "_uuid": "88e3e59c5ad064743772daca669146e3f8c8dc08"
   },
   "outputs": [],
   "source": [
    "baggedtc = BaggedTreeClassifier(20)"
   ]
  },
  {
   "cell_type": "code",
   "execution_count": 16,
   "metadata": {
    "_cell_guid": "b43597d9-ba26-4ebe-a9ce-4ff649fc17b5",
    "_uuid": "1b1935d86f5821f399351136b1c79d83ca6fe367"
   },
   "outputs": [
    {
     "data": {
      "text/plain": [
       "0.9064519413521586"
      ]
     },
     "execution_count": 16,
     "metadata": {},
     "output_type": "execute_result"
    }
   ],
   "source": [
    "cross_val_score(baggedtc, X, Y, cv=8).mean()"
   ]
  },
  {
   "cell_type": "code",
   "execution_count": 17,
   "metadata": {
    "_cell_guid": "3c28e12a-5230-4e57-8a37-0ef2dacc0024",
    "_uuid": "a72b5eb3b22cbd1969cb52140a38c363028fa461"
   },
   "outputs": [],
   "source": [
    "fakerf = FakeRandomForest(20)"
   ]
  },
  {
   "cell_type": "code",
   "execution_count": 18,
   "metadata": {
    "_cell_guid": "4c5fa720-0efc-4545-886d-2f24c3ed587b",
    "_uuid": "3305c00b46ef3ee05c6f5f712590772c84f75f0d"
   },
   "outputs": [
    {
     "data": {
      "text/plain": [
       "0.8918014962569334"
      ]
     },
     "execution_count": 18,
     "metadata": {},
     "output_type": "execute_result"
    }
   ],
   "source": [
    "cross_val_score(fakerf, X, Y, cv=8).mean()"
   ]
  },
  {
   "cell_type": "markdown",
   "metadata": {
    "_cell_guid": "8108afdc-0a36-409d-840f-c809fd82ebbb",
    "_uuid": "bb25c86cf7b1f889bee856ea04b2d2b8c13ab84d"
   },
   "source": [
    "### Pridict house price with Random Forests Regression  \n",
    "\n",
    "- Data source： https://www.kaggle.com/harlfoxem/housesalesprediction/data  \n",
    "- Compare Random Forest Regression with Linear Regression"
   ]
  },
  {
   "cell_type": "code",
   "execution_count": 19,
   "metadata": {
    "_cell_guid": "c5e8b181-b987-4910-b32d-2363ae225e30",
    "_uuid": "f230463b95fa69ccb0e0e69bfa80954c21b27e17"
   },
   "outputs": [],
   "source": [
    "from sklearn.ensemble import RandomForestRegressor\n",
    "from sklearn.linear_model import LinearRegression"
   ]
  },
  {
   "cell_type": "code",
   "execution_count": 20,
   "metadata": {
    "_cell_guid": "a3851831-8428-416c-ab60-8b82969228bb",
    "_uuid": "6c29c2acfe3cdb656af7bb17dc7f765a0fd7adf7"
   },
   "outputs": [],
   "source": [
    "house_data = pd.read_csv(os.path.join(data_folder, \"kc_house_data.csv\"))"
   ]
  },
  {
   "cell_type": "code",
   "execution_count": 21,
   "metadata": {
    "_cell_guid": "a4b8d625-3b5e-4d4b-bfa3-7c8061b6976c",
    "_uuid": "e26cfeb4476085546525897dcd19068cb29de106"
   },
   "outputs": [
    {
     "data": {
      "text/html": [
       "<div>\n",
       "<style scoped>\n",
       "    .dataframe tbody tr th:only-of-type {\n",
       "        vertical-align: middle;\n",
       "    }\n",
       "\n",
       "    .dataframe tbody tr th {\n",
       "        vertical-align: top;\n",
       "    }\n",
       "\n",
       "    .dataframe thead th {\n",
       "        text-align: right;\n",
       "    }\n",
       "</style>\n",
       "<table border=\"1\" class=\"dataframe\">\n",
       "  <thead>\n",
       "    <tr style=\"text-align: right;\">\n",
       "      <th></th>\n",
       "      <th>id</th>\n",
       "      <th>date</th>\n",
       "      <th>price</th>\n",
       "      <th>bedrooms</th>\n",
       "      <th>bathrooms</th>\n",
       "      <th>sqft_living</th>\n",
       "      <th>sqft_lot</th>\n",
       "      <th>floors</th>\n",
       "      <th>waterfront</th>\n",
       "      <th>view</th>\n",
       "      <th>...</th>\n",
       "      <th>grade</th>\n",
       "      <th>sqft_above</th>\n",
       "      <th>sqft_basement</th>\n",
       "      <th>yr_built</th>\n",
       "      <th>yr_renovated</th>\n",
       "      <th>zipcode</th>\n",
       "      <th>lat</th>\n",
       "      <th>long</th>\n",
       "      <th>sqft_living15</th>\n",
       "      <th>sqft_lot15</th>\n",
       "    </tr>\n",
       "  </thead>\n",
       "  <tbody>\n",
       "    <tr>\n",
       "      <th>0</th>\n",
       "      <td>7129300520</td>\n",
       "      <td>20141013T000000</td>\n",
       "      <td>221900.0</td>\n",
       "      <td>3</td>\n",
       "      <td>1.00</td>\n",
       "      <td>1180</td>\n",
       "      <td>5650</td>\n",
       "      <td>1.0</td>\n",
       "      <td>0</td>\n",
       "      <td>0</td>\n",
       "      <td>...</td>\n",
       "      <td>7</td>\n",
       "      <td>1180</td>\n",
       "      <td>0</td>\n",
       "      <td>1955</td>\n",
       "      <td>0</td>\n",
       "      <td>98178</td>\n",
       "      <td>47.5112</td>\n",
       "      <td>-122.257</td>\n",
       "      <td>1340</td>\n",
       "      <td>5650</td>\n",
       "    </tr>\n",
       "    <tr>\n",
       "      <th>1</th>\n",
       "      <td>6414100192</td>\n",
       "      <td>20141209T000000</td>\n",
       "      <td>538000.0</td>\n",
       "      <td>3</td>\n",
       "      <td>2.25</td>\n",
       "      <td>2570</td>\n",
       "      <td>7242</td>\n",
       "      <td>2.0</td>\n",
       "      <td>0</td>\n",
       "      <td>0</td>\n",
       "      <td>...</td>\n",
       "      <td>7</td>\n",
       "      <td>2170</td>\n",
       "      <td>400</td>\n",
       "      <td>1951</td>\n",
       "      <td>1991</td>\n",
       "      <td>98125</td>\n",
       "      <td>47.7210</td>\n",
       "      <td>-122.319</td>\n",
       "      <td>1690</td>\n",
       "      <td>7639</td>\n",
       "    </tr>\n",
       "    <tr>\n",
       "      <th>2</th>\n",
       "      <td>5631500400</td>\n",
       "      <td>20150225T000000</td>\n",
       "      <td>180000.0</td>\n",
       "      <td>2</td>\n",
       "      <td>1.00</td>\n",
       "      <td>770</td>\n",
       "      <td>10000</td>\n",
       "      <td>1.0</td>\n",
       "      <td>0</td>\n",
       "      <td>0</td>\n",
       "      <td>...</td>\n",
       "      <td>6</td>\n",
       "      <td>770</td>\n",
       "      <td>0</td>\n",
       "      <td>1933</td>\n",
       "      <td>0</td>\n",
       "      <td>98028</td>\n",
       "      <td>47.7379</td>\n",
       "      <td>-122.233</td>\n",
       "      <td>2720</td>\n",
       "      <td>8062</td>\n",
       "    </tr>\n",
       "    <tr>\n",
       "      <th>3</th>\n",
       "      <td>2487200875</td>\n",
       "      <td>20141209T000000</td>\n",
       "      <td>604000.0</td>\n",
       "      <td>4</td>\n",
       "      <td>3.00</td>\n",
       "      <td>1960</td>\n",
       "      <td>5000</td>\n",
       "      <td>1.0</td>\n",
       "      <td>0</td>\n",
       "      <td>0</td>\n",
       "      <td>...</td>\n",
       "      <td>7</td>\n",
       "      <td>1050</td>\n",
       "      <td>910</td>\n",
       "      <td>1965</td>\n",
       "      <td>0</td>\n",
       "      <td>98136</td>\n",
       "      <td>47.5208</td>\n",
       "      <td>-122.393</td>\n",
       "      <td>1360</td>\n",
       "      <td>5000</td>\n",
       "    </tr>\n",
       "    <tr>\n",
       "      <th>4</th>\n",
       "      <td>1954400510</td>\n",
       "      <td>20150218T000000</td>\n",
       "      <td>510000.0</td>\n",
       "      <td>3</td>\n",
       "      <td>2.00</td>\n",
       "      <td>1680</td>\n",
       "      <td>8080</td>\n",
       "      <td>1.0</td>\n",
       "      <td>0</td>\n",
       "      <td>0</td>\n",
       "      <td>...</td>\n",
       "      <td>8</td>\n",
       "      <td>1680</td>\n",
       "      <td>0</td>\n",
       "      <td>1987</td>\n",
       "      <td>0</td>\n",
       "      <td>98074</td>\n",
       "      <td>47.6168</td>\n",
       "      <td>-122.045</td>\n",
       "      <td>1800</td>\n",
       "      <td>7503</td>\n",
       "    </tr>\n",
       "  </tbody>\n",
       "</table>\n",
       "<p>5 rows × 21 columns</p>\n",
       "</div>"
      ],
      "text/plain": [
       "           id             date     price  bedrooms  bathrooms  sqft_living  \\\n",
       "0  7129300520  20141013T000000  221900.0         3       1.00         1180   \n",
       "1  6414100192  20141209T000000  538000.0         3       2.25         2570   \n",
       "2  5631500400  20150225T000000  180000.0         2       1.00          770   \n",
       "3  2487200875  20141209T000000  604000.0         4       3.00         1960   \n",
       "4  1954400510  20150218T000000  510000.0         3       2.00         1680   \n",
       "\n",
       "   sqft_lot  floors  waterfront  view     ...      grade  sqft_above  \\\n",
       "0      5650     1.0           0     0     ...          7        1180   \n",
       "1      7242     2.0           0     0     ...          7        2170   \n",
       "2     10000     1.0           0     0     ...          6         770   \n",
       "3      5000     1.0           0     0     ...          7        1050   \n",
       "4      8080     1.0           0     0     ...          8        1680   \n",
       "\n",
       "   sqft_basement  yr_built  yr_renovated  zipcode      lat     long  \\\n",
       "0              0      1955             0    98178  47.5112 -122.257   \n",
       "1            400      1951          1991    98125  47.7210 -122.319   \n",
       "2              0      1933             0    98028  47.7379 -122.233   \n",
       "3            910      1965             0    98136  47.5208 -122.393   \n",
       "4              0      1987             0    98074  47.6168 -122.045   \n",
       "\n",
       "   sqft_living15  sqft_lot15  \n",
       "0           1340        5650  \n",
       "1           1690        7639  \n",
       "2           2720        8062  \n",
       "3           1360        5000  \n",
       "4           1800        7503  \n",
       "\n",
       "[5 rows x 21 columns]"
      ]
     },
     "execution_count": 21,
     "metadata": {},
     "output_type": "execute_result"
    }
   ],
   "source": [
    "house_data.head()"
   ]
  },
  {
   "cell_type": "code",
   "execution_count": 22,
   "metadata": {
    "_cell_guid": "0d9ee37e-c085-484c-ae4d-3515ac2affc9",
    "_uuid": "e723723191547d696cf2e9eaaff1076ec66ad89c"
   },
   "outputs": [
    {
     "data": {
      "text/plain": [
       "Index(['id', 'date', 'price', 'bedrooms', 'bathrooms', 'sqft_living',\n",
       "       'sqft_lot', 'floors', 'waterfront', 'view', 'condition', 'grade',\n",
       "       'sqft_above', 'sqft_basement', 'yr_built', 'yr_renovated', 'zipcode',\n",
       "       'lat', 'long', 'sqft_living15', 'sqft_lot15'],\n",
       "      dtype='object')"
      ]
     },
     "execution_count": 22,
     "metadata": {},
     "output_type": "execute_result"
    }
   ],
   "source": [
    "house_data.columns"
   ]
  },
  {
   "cell_type": "code",
   "execution_count": 23,
   "metadata": {
    "_cell_guid": "c70c8a0f-2d99-465a-97d3-cd64b1aa6946",
    "_uuid": "9581dd9eab60c0226b47081daae58033aebd2a46"
   },
   "outputs": [],
   "source": [
    "# price is the target\n",
    "NUMERICAL_COLS = ['price', 'bedrooms', 'bathrooms', 'sqft_living', 'sqft_lot', 'sqft_above','sqft_basement',\n",
    "                 'sqft_living15', 'sqft_lot15']"
   ]
  },
  {
   "cell_type": "code",
   "execution_count": 24,
   "metadata": {
    "_cell_guid": "48e4e3ea-99ff-415a-8b45-7bb6af820698",
    "_uuid": "cddcbaa01cb63a542c7f42896baf5d20ae957edc"
   },
   "outputs": [],
   "source": [
    "scalers = dict()\n",
    "for col in NUMERICAL_COLS:\n",
    "    scaler = StandardScaler()\n",
    "    scaler.fit(house_data[col].as_matrix().astype(np.float64).reshape(-1,1))\n",
    "    scalers[col] = scaler\n",
    "    "
   ]
  },
  {
   "cell_type": "code",
   "execution_count": 25,
   "metadata": {
    "_cell_guid": "ba02b7e3-5836-4868-8c9b-5a5495547dbf",
    "_uuid": "42c92baed72e80b7339db89e39178e1428bd0bdd"
   },
   "outputs": [],
   "source": [
    "def transform_numerical(df):\n",
    "    N, _ = df.shape\n",
    "    D = len(NUMERICAL_COLS)\n",
    "    result = np.zeros((N,D))\n",
    "    i = 0\n",
    "    for col, scaler in scalers.items():\n",
    "        result[:, i] = scaler.transform(df[col].as_matrix().astype(np.float64).reshape(1,-1))\n",
    "        i += 1\n",
    "    return result    \n"
   ]
  },
  {
   "cell_type": "code",
   "execution_count": 26,
   "metadata": {
    "_cell_guid": "03756b3f-69b0-4a59-a432-912622736061",
    "_uuid": "4bcff237a463ee2685bb9ed16c9290284e92eade"
   },
   "outputs": [],
   "source": [
    "from sklearn.model_selection import train_test_split"
   ]
  },
  {
   "cell_type": "code",
   "execution_count": 27,
   "metadata": {
    "_cell_guid": "0425bdb7-d993-4578-ae85-84dce1ae88ff",
    "_uuid": "8f507d0691f7bb25c512feec6b5904c40edaa870"
   },
   "outputs": [],
   "source": [
    "hdata = transform_numerical(house_data)"
   ]
  },
  {
   "cell_type": "code",
   "execution_count": 28,
   "metadata": {
    "_cell_guid": "ae11e2dd-d478-4f6b-9e92-db31bb133df5",
    "_uuid": "1bec699d5a34dae52813c6535fcbe8164259d58b"
   },
   "outputs": [],
   "source": [
    "train_data, test_data = train_test_split(hdata, test_size=0.2)"
   ]
  },
  {
   "cell_type": "code",
   "execution_count": 29,
   "metadata": {
    "_cell_guid": "fd0256c4-d61b-4035-aa62-d2d52739f91d",
    "_uuid": "1cdbf7586a24c7f7560746f9f6d7665335c72bb4"
   },
   "outputs": [],
   "source": [
    "trainX, trainY = train_data[:,1:], train_data[:, 0]\n",
    "testX, testY = test_data[:, 1:], test_data[:, 0]\n"
   ]
  },
  {
   "cell_type": "code",
   "execution_count": 30,
   "metadata": {
    "_cell_guid": "bbaf0c96-ece0-4c2b-8089-c049a5f76880",
    "_uuid": "c55ea87f7e748c0d162966304a2d9f01d7f9edb6"
   },
   "outputs": [],
   "source": [
    "rfregressor = RandomForestRegressor(n_estimators=100)\n",
    "rfregressor.fit(trainX, trainY)\n",
    "predictions = rfregressor.predict(testX)"
   ]
  },
  {
   "cell_type": "markdown",
   "metadata": {
    "_cell_guid": "5cafa7a5-621e-4910-9634-0c7129dcc862",
    "_uuid": "77e314a003efc26b129bc01354b625d65423be59"
   },
   "source": [
    "### Show result"
   ]
  },
  {
   "cell_type": "code",
   "execution_count": 31,
   "metadata": {
    "_cell_guid": "28395c1d-b373-410c-b39d-ce441b248a11",
    "_uuid": "c6aa0984d65e4c36c4869b691612129e589e6556"
   },
   "outputs": [
    {
     "data": {
      "image/png": "[encoded data removed]",
      "text/plain": [
       "<matplotlib.figure.Figure at 0x1a086f3780>"
      ]
     },
     "metadata": {},
     "output_type": "display_data"
    }
   ],
   "source": [
    "plt.scatter(testY, predictions)\n",
    "plt.xlabel(\"target\")\n",
    "plt.ylabel(\"prediction\")\n",
    "ymin = np.round(min(min(testY), min(predictions)))\n",
    "ymax = np.ceil(max(max(testY), max(predictions)))\n",
    "r = range(int(ymin), int(ymax) + 1)\n",
    "plt.plot(r,r)\n",
    "plt.show()"
   ]
  },
  {
   "cell_type": "code",
   "execution_count": 32,
   "metadata": {
    "_cell_guid": "afe045f6-c94e-481c-8bdd-a7bea4ce9e12",
    "_uuid": "5f03dd047d65d70dcb9fe7e6afd33adc117dfa1b"
   },
   "outputs": [
    {
     "data": {
      "image/png": "[encoded data removed]",
      "text/plain": [
       "<matplotlib.figure.Figure at 0x1a086dd0f0>"
      ]
     },
     "metadata": {},
     "output_type": "display_data"
    }
   ],
   "source": [
    "plt.plot(testY, label='targets')\n",
    "plt.plot(predictions, label='predictions')\n",
    "plt.legend()\n",
    "plt.show()"
   ]
  },
  {
   "cell_type": "code",
   "execution_count": 33,
   "metadata": {
    "_cell_guid": "2f1be2d9-3c8a-48ea-a039-0477cbaa52a6",
    "_uuid": "49bca334a3929e7b291437582f594c4a3cff9272"
   },
   "outputs": [
    {
     "name": "stdout",
     "output_type": "stream",
     "text": [
      "linear regression performance: 0.519845\n"
     ]
    }
   ],
   "source": [
    "lr = LinearRegression()\n",
    "print(\"linear regression performance: %f\" % (cross_val_score(lr, trainX, trainY).mean()))"
   ]
  },
  {
   "cell_type": "code",
   "execution_count": 34,
   "metadata": {
    "_cell_guid": "55b0d423-86b8-4148-b5f4-4db130ae62fb",
    "_uuid": "b63293fba0f6cc551f5f4c2730dc7fd8e9b0956a"
   },
   "outputs": [
    {
     "name": "stdout",
     "output_type": "stream",
     "text": [
      "random forest regressor performance: 0.621258\n"
     ]
    }
   ],
   "source": [
    "print(\"random forest regressor performance: %f\" % (cross_val_score(rfregressor, trainX, trainY).mean()))"
   ]
  },
  {
   "cell_type": "code",
   "execution_count": 35,
   "metadata": {
    "_cell_guid": "408fa673-f770-4e4a-9a1e-eaa7a7bb45eb",
    "_uuid": "0b118463665f50ab75b2d3ae43faa04d70db7097"
   },
   "outputs": [
    {
     "name": "stdout",
     "output_type": "stream",
     "text": [
      "linear regression test score: 0.497784\n"
     ]
    }
   ],
   "source": [
    "lr.fit(trainX, trainY)\n",
    "print(\"linear regression test score: %f\" % (lr.score(testX, testY)))"
   ]
  },
  {
   "cell_type": "code",
   "execution_count": 36,
   "metadata": {
    "_cell_guid": "4334d988-0606-4dcf-ba25-a0e85f06f9cb",
    "_uuid": "8a80974125e247b2182c439a6b28184173533500"
   },
   "outputs": [
    {
     "name": "stdout",
     "output_type": "stream",
     "text": [
      "random forest regressor test score: 0.605620\n"
     ]
    }
   ],
   "source": [
    "rfregressor.fit(trainX, trainY)\n",
    "print(\"random forest regressor test score: %f\" % (rfregressor.score(testX, testY)))"
   ]
  }
 ],
 "metadata": {
  "kernelspec": {
   "display_name": "Python 3",
   "language": "python",
   "name": "python3"
  },
  "language_info": {
   "codemirror_mode": {
    "name": "ipython",
    "version": 3
   },
   "file_extension": ".py",
   "mimetype": "text/x-python",
   "name": "python",
   "nbconvert_exporter": "python",
   "pygments_lexer": "ipython3",
   "version": "3.6.4"
  }
 },
 "nbformat": 4,
 "nbformat_minor": 1
}
