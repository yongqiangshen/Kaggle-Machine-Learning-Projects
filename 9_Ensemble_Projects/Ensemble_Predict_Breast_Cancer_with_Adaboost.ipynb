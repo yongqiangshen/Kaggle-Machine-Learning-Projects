{
  "cells": [
    {
      "metadata": {
        "_uuid": "60d9e5aa23339a1e1f54de30fbe98f28107c9b90",
        "_cell_guid": "6e4a6460-549b-49c0-b4b2-4f1c04f21cba"
      },
      "cell_type": "markdown",
      "source": "### 本节课调用adaboost以及基于简单决策树实现adaboost模型  \n\n#### 我们将利用adaboost模型对肿瘤类型进行判断与分类\n\n- 数据来源： https://www.kaggle.com/uciml/breast-cancer-wisconsin-data  \n- 对比模型： Adaboost模型"
    },
    {
      "metadata": {
        "_cell_guid": "ed0107aa-edd5-48d6-b069-4a223aa9e7b6",
        "_uuid": "29c7720a36806cb8bb96e060c57e4d6fb8796001",
        "collapsed": true,
        "trusted": false
      },
      "cell_type": "code",
      "source": "# necessary imports\n%matplotlib inline\nimport os\nimport numpy as np\nimport pandas as pd\nimport matplotlib.pyplot as plt\n\nfrom sklearn.preprocessing import LabelEncoder, StandardScaler\nfrom sklearn.ensemble import AdaBoostClassifier\nfrom sklearn.tree import DecisionTreeClassifier\nfrom sklearn.linear_model import LogisticRegression\nfrom sklearn.model_selection import cross_val_score\n\nnp.random.seed(19)",
      "execution_count": null,
      "outputs": []
    },
    {
      "metadata": {
        "_cell_guid": "b857bc0c-b35a-4b8f-957f-0aee4d70e923",
        "_uuid": "0bd35f6971428a907cb6297790fd42f365826990",
        "collapsed": true,
        "trusted": false
      },
      "cell_type": "code",
      "source": "",
      "execution_count": null,
      "outputs": []
    },
    {
      "metadata": {
        "_cell_guid": "3b81e18c-7bf9-4991-a744-b0f439344387",
        "_uuid": "7adf62e0623f6beff47f1df33801c1f616c68a1a",
        "collapsed": true,
        "trusted": false
      },
      "cell_type": "code",
      "source": "data_folder = \"../input\"\ndata = pd.read_csv(os.path.join(data_folder, \"breastCancer.csv\"))",
      "execution_count": null,
      "outputs": []
    },
    {
      "metadata": {
        "_cell_guid": "9894a654-cb79-4416-a3e7-f11ef3cf91ca",
        "_uuid": "81efe4f11427942671523082a95967b4613e3879",
        "collapsed": true,
        "trusted": false
      },
      "cell_type": "code",
      "source": "data.head()",
      "execution_count": null,
      "outputs": []
    },
    {
      "metadata": {
        "_uuid": "056ccd03d8868a91de3c8a65dd7b159cd45c5616",
        "_cell_guid": "5d070482-9c15-4838-a6dc-fdefbfc1f2f7"
      },
      "cell_type": "markdown",
      "source": "#### 检查需要预测的目标"
    },
    {
      "metadata": {
        "_cell_guid": "afc0c94c-4379-4508-8c73-b81e3af959bd",
        "_uuid": "2e2e014b00c7c6c8e6d6dd122c9c37571fd4aa20",
        "collapsed": true,
        "trusted": false
      },
      "cell_type": "code",
      "source": "data['diagnosis'].value_counts()",
      "execution_count": null,
      "outputs": []
    },
    {
      "metadata": {
        "_uuid": "12ddcbb25be4c3fd30d3ed8a6c9273a88e1c7a2e",
        "_cell_guid": "9190ce6a-7156-4303-9a55-ec2311d7e436"
      },
      "cell_type": "markdown",
      "source": "#### 过滤不需要的信息"
    },
    {
      "metadata": {
        "_cell_guid": "0902dee2-652d-4ef1-864e-7c96fd1f8c43",
        "_uuid": "1596e035bbd15ac950d081f212a887cf546e1fe2",
        "collapsed": true,
        "trusted": false
      },
      "cell_type": "code",
      "source": "data.drop('id',axis=1,inplace=True)\ndata.drop('Unnamed: 32',axis=1,inplace=True)",
      "execution_count": null,
      "outputs": []
    },
    {
      "metadata": {
        "_uuid": "63a11097efe810430ff004cd471e000e2eb20741",
        "_cell_guid": "30fca590-9a89-4c81-9707-2e4c48a9bf1b"
      },
      "cell_type": "markdown",
      "source": "#### 转换预测的目标   M：1， B：-1"
    },
    {
      "metadata": {
        "_cell_guid": "feb27313-d7fe-4748-be50-1d5d95cc666a",
        "_uuid": "d7c6696523d63e270789225bd2648bfbe692303b",
        "collapsed": true,
        "trusted": false
      },
      "cell_type": "code",
      "source": "data['diagnosis'] = data['diagnosis'].apply(lambda x : +1 if x=='M' else -1)",
      "execution_count": null,
      "outputs": []
    },
    {
      "metadata": {
        "_uuid": "8547aef862e55ac432006c36acbb1f1f46a97a47",
        "_cell_guid": "3a091c8f-23e6-4fcd-8205-a60e5df2e594"
      },
      "cell_type": "markdown",
      "source": "#### 观察数据的基本信息"
    },
    {
      "metadata": {
        "_cell_guid": "b3593ec4-7213-4f7d-a18e-089bbd57b2c9",
        "_uuid": "fc7016df1e03cd62a8753d71d3a57438bb1a2510",
        "collapsed": true,
        "trusted": false
      },
      "cell_type": "code",
      "source": "data.describe()",
      "execution_count": null,
      "outputs": []
    },
    {
      "metadata": {
        "_cell_guid": "e9118c0e-9122-4cf5-9a14-2eceedd699ef",
        "_uuid": "b74501e0b66f95825e439ea668ea0ea4bc5450d4",
        "collapsed": true,
        "trusted": false
      },
      "cell_type": "code",
      "source": "data.info()",
      "execution_count": null,
      "outputs": []
    },
    {
      "metadata": {
        "_cell_guid": "6f2a847c-4a4f-40e5-b89b-4d2187c601c6",
        "_uuid": "ffa23e62f975160aa0333046743fd8767a2036b2",
        "collapsed": true,
        "trusted": false
      },
      "cell_type": "code",
      "source": "import seaborn as sns\nsns.countplot(data['diagnosis'])",
      "execution_count": null,
      "outputs": []
    },
    {
      "metadata": {
        "_uuid": "0619b66c0f26443f7d5f035ebdded6965fe11749",
        "_cell_guid": "477a75d4-8d9c-46b4-90ef-bd7491dee503"
      },
      "cell_type": "markdown",
      "source": "#### 利用前6个特征，设定目标变量"
    },
    {
      "metadata": {
        "_cell_guid": "17a8e603-f2aa-4a2a-81b2-ba1841bcb555",
        "_uuid": "10f53ae3dc90d26d72a403ac62a35b6b6d87f7fa",
        "collapsed": true,
        "trusted": false
      },
      "cell_type": "code",
      "source": "features = data.columns[1:7]\ntarget = 'diagnosis'\nfeatures",
      "execution_count": null,
      "outputs": []
    },
    {
      "metadata": {
        "_uuid": "74f16819307e4d25a24c5d07d8b7f8b7c12017c4",
        "_cell_guid": "7e220018-c449-4595-a018-09f951d2b3fb"
      },
      "cell_type": "markdown",
      "source": "#### 特征探索  \n\n- 比较6个特征与恶性肿瘤的关系"
    },
    {
      "metadata": {
        "_cell_guid": "d64a2fa1-364e-44a2-97b5-f9556d75c72e",
        "_uuid": "25428a99ec697ef8d2770b77de8f929068f65e9b",
        "collapsed": true,
        "trusted": false
      },
      "cell_type": "code",
      "source": "i = 0\nfor feature in features:\n\n    bins = 25\n    # 将特征的直方图画出来\n    plt.hist(data[feature], bins=bins, color='lightblue', label= 'Total', alpha=1)\n    plt.hist(data[feature][data[target] == 1], bins=bins, color='k', label='M-bad', alpha=0.5)\n    \n    plt.xlabel(feature)\n    plt.ylabel('Amount of count')\n    \n    plt.legend()\n    \n    plt.show()",
      "execution_count": null,
      "outputs": []
    },
    {
      "metadata": {
        "_cell_guid": "56f62995-7a3b-4d30-9842-408f708b3703",
        "_uuid": "a80e307feb764f7e0ce7d97ae8430979d1fe50c2",
        "collapsed": true,
        "trusted": false
      },
      "cell_type": "code",
      "source": "from sklearn.model_selection import train_test_split\ntrain_data, test_data = train_test_split(data, test_size=0.3)",
      "execution_count": null,
      "outputs": []
    },
    {
      "metadata": {
        "_cell_guid": "ce89a14b-8362-4b1c-87a4-fd19f33b9170",
        "_uuid": "f9408b26caaa9c665dc145085b2e3cc694ea2075",
        "collapsed": true,
        "trusted": false
      },
      "cell_type": "code",
      "source": "trainX, trainY = train_data[data.columns[1:]], train_data[target]\ntestX, testY = test_data[data.columns[1:]], test_data[target]",
      "execution_count": null,
      "outputs": []
    },
    {
      "metadata": {
        "_uuid": "506c7c997b9eed08db22f8ea68953ad871011b20",
        "_cell_guid": "84950d04-beb9-4dde-b66d-b748e5a0d685"
      },
      "cell_type": "markdown",
      "source": "### Logistic回归的表现"
    },
    {
      "metadata": {
        "_cell_guid": "835dc529-7ffc-4e9f-b621-cba91138ede5",
        "_uuid": "30a38352d816995be1ce0be7de91d0e3f9a64edc",
        "collapsed": true,
        "trusted": false
      },
      "cell_type": "code",
      "source": "logistic_model = LogisticRegression()\nprint(\"Logistic Regression performance: %f\" % (cross_val_score(logistic_model, trainX, trainY, cv=8).mean()))",
      "execution_count": null,
      "outputs": []
    },
    {
      "metadata": {
        "_uuid": "97a460612bb65eac4249dada2b7e8033c7b05795",
        "_cell_guid": "8cfec1bf-0602-4ab5-822f-349164d87501"
      },
      "cell_type": "markdown",
      "source": "### 决策树的表现"
    },
    {
      "metadata": {
        "_cell_guid": "6e7bcb84-658e-4be8-977e-5a28d0be648a",
        "_uuid": "a4a9b2160b06fa2e395ea5920584dbfdea5f3702",
        "collapsed": true,
        "trusted": false
      },
      "cell_type": "code",
      "source": "tree_model = DecisionTreeClassifier()\nprint(\"Decision Tree performance: %f\" % (cross_val_score(tree_model, trainX, trainY, cv=8).mean()))",
      "execution_count": null,
      "outputs": []
    },
    {
      "metadata": {
        "_uuid": "8503c173200f4dfb3d5ade174f4b4ce625f47e2d",
        "_cell_guid": "cf6d1bd8-a809-4ddc-b12b-1b8e6e3d1e94"
      },
      "cell_type": "markdown",
      "source": "### 直接调用adaboost模型的表现"
    },
    {
      "metadata": {
        "_cell_guid": "d48a7448-c562-4a7b-833f-6fded20ca52e",
        "_uuid": "bdc330bd2d0cdcb2a330cd6be29b7ab668433266",
        "collapsed": true,
        "trusted": false
      },
      "cell_type": "code",
      "source": "ada_model = AdaBoostClassifier(n_estimators=200)\nprint(\"Decision Tree performance: %f\" % (cross_val_score(ada_model, trainX, trainY, cv=8).mean()))",
      "execution_count": null,
      "outputs": []
    },
    {
      "metadata": {
        "_uuid": "2fdd80de161ecb19c0e5371e752688b36773f713",
        "_cell_guid": "3ea9902c-7c45-4e70-8b4d-b1dce5ba29de"
      },
      "cell_type": "markdown",
      "source": "### 测试集的表现"
    },
    {
      "metadata": {
        "_cell_guid": "2a9bb202-a350-434d-9117-b459d64e85c8",
        "_uuid": "f52c3ac2a49d96053d8fe92b6352d4a39375ed10",
        "collapsed": true,
        "trusted": false
      },
      "cell_type": "code",
      "source": "logistic_model = LogisticRegression()\nlogistic_model.fit(trainX, trainY)\nprint(\"Logistic Regression test performance: %f\" % logistic_model.score(testX, testY))",
      "execution_count": null,
      "outputs": []
    },
    {
      "metadata": {
        "_cell_guid": "248a9d98-94fe-4171-8e35-9622fbbdb28e",
        "_uuid": "9ead8bfb744206fa071fbb2b1ed41e8bd6e39407",
        "collapsed": true,
        "trusted": false
      },
      "cell_type": "code",
      "source": "tree_model = DecisionTreeClassifier()\ntree_model.fit(trainX, trainY)\nprint(\"Decision Tree test performance: %f\" % tree_model.score(testX, testY))",
      "execution_count": null,
      "outputs": []
    },
    {
      "metadata": {
        "_cell_guid": "c23daf86-97a7-4f9c-b56b-6cd941c8cab0",
        "_uuid": "2bd1419a049a85e0b3504e2c0def032dfdf348e3",
        "collapsed": true,
        "trusted": false
      },
      "cell_type": "code",
      "source": "ada_model = AdaBoostClassifier(n_estimators=200)\nada_model.fit(trainX, trainY)\nprint(\"Adaboost test performance: %f\" % ada_model.score(testX, testY))",
      "execution_count": null,
      "outputs": []
    },
    {
      "metadata": {
        "_uuid": "c987980cb5d1b7ba8833cd4dcb49b968627e1967",
        "_cell_guid": "70cc63b7-65a3-44a1-b50e-b430b2d9bdfe"
      },
      "cell_type": "markdown",
      "source": "#### Adaboost的实现"
    },
    {
      "metadata": {
        "_cell_guid": "24bcc433-116a-4b5d-8567-327900becff3",
        "_uuid": "858298241b8a86ad6d7055862609ad2bbd2a5d1a",
        "collapsed": true,
        "trusted": false
      },
      "cell_type": "code",
      "source": "from sklearn.base import BaseEstimator\nclass Adaboost(BaseEstimator):\n    \n    def __init__(self, M):\n        self.M = M\n        \n    def fit(self, X, Y):\n        self.models = []\n        self.model_weights = []\n        \n        N, _ = X.shape\n        alpha = np.ones(N) / N\n        \n        for m in range(self.M):\n            tree = DecisionTreeClassifier(max_depth=2)\n            tree.fit(X, Y, sample_weight=alpha)\n            prediction = tree.predict(X)\n            \n            # 计算加权错误\n            weighted_error = alpha.dot(prediction != Y)\n            \n            # 计算当前模型的权重\n            model_weight = 0.5 * (np.log(1 - weighted_error) - np.log(weighted_error))\n            \n            # 更新数据的权重\n            alpha = alpha * np.exp(-model_weight * Y * prediction)\n            \n            # 数据权重normalize\n            alpha = alpha / alpha.sum()\n            \n            self.models.append(tree)\n            self.model_weights.append(model_weight)\n            \n    def predict(self, X):\n        N, _ = X.shape\n        result = np.zeros(N)\n        for wt, tree in zip(self.model_weights, self.models):\n            result += wt * tree.predict(X)\n        \n        return np.sign(result)\n    \n    def score(self, X, Y):\n        prediction = self.predict(X)\n        return np.mean(prediction == Y)",
      "execution_count": null,
      "outputs": []
    },
    {
      "metadata": {
        "_uuid": "2947dbf6b5d0bf714f6a48edb288d59aef4a8be9",
        "_cell_guid": "f72eaaf4-60a6-46ba-9178-41449beecdee"
      },
      "cell_type": "markdown",
      "source": "### Adaboost的表现"
    },
    {
      "metadata": {
        "_cell_guid": "3cd71bc2-8963-4ea9-8cdf-5ab704782aca",
        "_uuid": "a678006de3526d011c169bd9dd9daedbe9dda0c6",
        "collapsed": true,
        "trusted": false
      },
      "cell_type": "code",
      "source": "adamodel = Adaboost(200)\nprint(\"Adaboost model performance: %f\" % (cross_val_score(adamodel, trainX.as_matrix().astype(np.float64), trainY.as_matrix().astype(np.float64), cv=8).mean()))",
      "execution_count": null,
      "outputs": []
    },
    {
      "metadata": {
        "_uuid": "563fa0eefcf89cb1256e82d443acd6c49654d6e1",
        "_cell_guid": "6b0c7c19-8b81-45f3-93c1-5ade3c3fd764"
      },
      "cell_type": "markdown",
      "source": "### 测试集的表现"
    },
    {
      "metadata": {
        "_cell_guid": "5aa00be9-cbe5-41a8-ac62-b66ebc0cd396",
        "_uuid": "93e0917a3a08d5ae07e18d10c09cf569a6cd6ab2",
        "collapsed": true,
        "trusted": false
      },
      "cell_type": "code",
      "source": "adamodel.fit(trainX.as_matrix().astype(np.float64), trainY.as_matrix().astype(np.float64))\nprint(\"Adaboost model test performance: %f\" % adamodel.score(testX.as_matrix().astype(np.float64), testY.as_matrix().astype(np.float64)))",
      "execution_count": null,
      "outputs": []
    },
    {
      "metadata": {
        "_cell_guid": "d8076c9a-85eb-4fd9-9f4c-fff4cdf76518",
        "_uuid": "af8b68473c3673f3b04caa45a11c08d6490af092",
        "collapsed": true,
        "trusted": false
      },
      "cell_type": "code",
      "source": "",
      "execution_count": null,
      "outputs": []
    }
  ],
  "metadata": {
    "language_info": {
      "codemirror_mode": {
        "version": 3,
        "name": "ipython"
      },
      "mimetype": "text/x-python",
      "file_extension": ".py",
      "pygments_lexer": "ipython3",
      "nbconvert_exporter": "python",
      "version": "3.6.4",
      "name": "python"
    },
    "kernelspec": {
      "display_name": "Python 3",
      "language": "python",
      "name": "python3"
    }
  },
  "nbformat": 4,
  "nbformat_minor": 1
}