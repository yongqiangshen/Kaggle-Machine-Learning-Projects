{
  "cells": [
    {
      "metadata": {
        "_uuid": "6d9b1b98c39f6a7db7ff9cacec9d8befd1983bd6",
        "_cell_guid": "0721706d-58d7-4ff6-b27f-bfa14717edd8"
      },
      "cell_type": "markdown",
      "source": "## bias 和variance对比实现  \n\n#### 这节课我们在人工点集上利用不同自由度的多项式进行线性回归，对比不同自由度下模型的bias和variance"
    },
    {
      "metadata": {
        "_cell_guid": "17268ce9-1bf9-46fb-bd4b-7284b854a7e9",
        "_uuid": "1db51a4f511856d700ddb53404724b32da951716",
        "collapsed": true,
        "trusted": false
      },
      "cell_type": "code",
      "source": "%matplotlib inline\nimport numpy as np\nimport matplotlib.pyplot as plt\nfrom sklearn.linear_model import LinearRegression\nfrom sklearn.metrics import mean_squared_error as mse\n\n# 数据集个数\nNum_datasets = 50\nnoise_level = 0.5\n\n# 最大的degree\nmax_degree = 12\n\n# 每个数据集里的数据个数\nN = 25\n\n# 用于训练的数据数\ntrainN = int(N * 0.9)\n\nnp.random.seed(2)",
      "execution_count": null,
      "outputs": []
    },
    {
      "metadata": {
        "_uuid": "f670919784b114b32c9bfc47c853e1e25271efb2",
        "_cell_guid": "8e44d992-89ea-4f21-a2ce-d76563afdf7c"
      },
      "cell_type": "markdown",
      "source": ""
    },
    {
      "metadata": {
        "_cell_guid": "6db0a862-919c-4eed-a84e-54fb0990239b",
        "_uuid": "53ed368fd836a76ef11c8dd3885247d70233de7a",
        "collapsed": true,
        "trusted": false
      },
      "cell_type": "code",
      "source": "def make_poly(x, degree):\n    \"\"\"\n    input: x  N by 1\n    output: N by degree + 1\n    \"\"\"\n    N = len(x)\n    result = np.empty((N, degree+1))\n    for d in range(degree + 1):\n        result[:,d] = x ** d\n        if d > 1:\n            result[:, d] = (result[:, d] - result[:, d].mean()) / result[:,d].std()\n    return result\n\ndef f(X):\n    \"\"\"\n    input: x\n    output: sin(x)\n    \"\"\"\n    return np.sin(X)\n        ",
      "execution_count": null,
      "outputs": []
    },
    {
      "metadata": {
        "_uuid": "3b2240ddeda6a223d4adb1e788ae8754cff4f56f",
        "_cell_guid": "b5160cc4-b3f3-4317-897c-5183a716545e"
      },
      "cell_type": "markdown",
      "source": "#### 目标函数为sin   "
    },
    {
      "metadata": {
        "_uuid": "724cc4f922a7c5d642e8d8c2476a58468e29139a",
        "_cell_guid": "72e9ff85-7f7b-4237-a68f-bfe8a6b5b096",
        "trusted": false,
        "collapsed": true
      },
      "cell_type": "code",
      "source": "x_axis = np.linspace(-np.pi, np.pi, 100)\ny_axis = f(x_axis)\nplt.plot(x_axis, y_axis)",
      "execution_count": null,
      "outputs": []
    },
    {
      "metadata": {
        "_cell_guid": "4a2d05ce-c80f-4231-9672-cbfd84659333",
        "_uuid": "02b61f14cf9dc3748b448aad49de8bdad764a4e4",
        "collapsed": true,
        "trusted": false
      },
      "cell_type": "code",
      "source": "# 基础点集\nX = np.linspace(-np.pi, np.pi, N)\nnp.random.shuffle(X)\nf_X = f(X)\n\n# allData: N by 13\nallData = make_poly(X, max_degree)\n\n\n# 每一个训练集上的训练得分与测试得分\ntrain_scores = np.zeros((Num_datasets, max_degree))\ntest_scores = np.zeros((Num_datasets, max_degree))\n\n\ntrain_predictions = np.zeros((trainN, Num_datasets, max_degree))\nprediction_curves = np.zeros((100, Num_datasets, max_degree))\n\nmodel = LinearRegression()\n",
      "execution_count": null,
      "outputs": []
    },
    {
      "metadata": {
        "_uuid": "3f3fa54e63b785a5c27cb7e8498fbab21cb5a357",
        "_cell_guid": "c42123a9-1c74-4446-86f0-0081ba3c1fae",
        "trusted": false,
        "collapsed": true
      },
      "cell_type": "code",
      "source": "plt.scatter(X, f_X)",
      "execution_count": null,
      "outputs": []
    },
    {
      "metadata": {
        "_uuid": "51e2109a5337301dcb9358c91001d7c3feabd5c2",
        "_cell_guid": "10dd9d77-17d7-4c9a-aebe-121b550641cc"
      },
      "cell_type": "markdown",
      "source": "#### 每一个数据集上用不同degree的多项式拟合"
    },
    {
      "metadata": {
        "_cell_guid": "092df78d-aae7-4fd1-9d02-4b80762fc0b9",
        "_uuid": "01bdbd19c634f6aed8811ea833eca601a3e248b6",
        "collapsed": true,
        "trusted": false
      },
      "cell_type": "code",
      "source": "for k in range(Num_datasets):\n    \n    # 每个数据集需要不一样~\n    Y = f_X + np.random.randn(N) * noise_level\n    \n    trainX, testX = allData[:trainN], allData[trainN:]\n    trainY, testY = Y[:trainN], Y[trainN:]\n    \n    for d in range(max_degree):\n        \n        # 模型学习\n        model.fit(trainX[:,:d+2], trainY)\n        \n        # 在allData上的预测结果\n        all_predictions = model.predict(allData[:, :d+2])\n        \n        # 预测并记录一下我们的目标函数\n        x_axis_poly = make_poly(x_axis, d+1)    # true poly x\n        axis_predictions = model.predict(x_axis_poly)   # true y\n        prediction_curves[:, k, d] = axis_predictions\n        \n        train_prediction = all_predictions[:trainN]\n        test_prediction = all_predictions[trainN:]\n        \n        train_predictions[:, k, d] = train_prediction # 用于计算bias and varaince \n        \n        \n        #计算并存储训练集和测试集上的分数\n        train_score = mse(train_prediction, trainY)\n        test_score = mse(test_prediction, testY)\n        train_scores[k, d] = train_score\n        test_scores[k, d] = test_score\n            ",
      "execution_count": null,
      "outputs": []
    },
    {
      "metadata": {
        "_uuid": "b7921790199118a0b1b3d6ae8190e3eeb9bd5417",
        "_cell_guid": "20d5469a-9205-4975-b6d1-a77597c5c85b"
      },
      "cell_type": "markdown",
      "source": "#### 画出每一个degree下，50个数据集上预测结果以及预测结果的平均"
    },
    {
      "metadata": {
        "_uuid": "f2cd7d54cde8bda4430c33c3b4fddb08c6b5fbc8",
        "_cell_guid": "a9dfedf0-0fb7-4b44-a388-3461cbf8c40c",
        "trusted": false,
        "collapsed": true
      },
      "cell_type": "code",
      "source": "for d in range(max_degree):\n    for k in range(Num_datasets):\n        plt.plot(x_axis, prediction_curves[:,k,d], color='green', alpha=0.5)\n    plt.plot(x_axis, prediction_curves[:,:,d].mean(axis=1), color='blue', linewidth=2)\n    plt.title(\"curves for degree = %d\" % (d + 1))\n    plt.show()",
      "execution_count": null,
      "outputs": []
    },
    {
      "metadata": {
        "_uuid": "f31f3c5aae9fb1fdfdb45b3ec1fdb22ca31d4015",
        "_cell_guid": "02d2abfa-d3e8-4b12-9cb9-43e0df5acb91"
      },
      "cell_type": "markdown",
      "source": "#### 计算bias跟variance  \n\n- 一种degree对应一种模型  \n- 给定一种模型，计算该模型在50个数据集上的预测结果的平均  \n- 给定一种模型，计算该模型在50个数据集上预测结果的方差"
    },
    {
      "metadata": {
        "_cell_guid": "b429f191-ca67-4bf9-9d29-3988e2ac5bf6",
        "_uuid": "0873c3f5cb215265cc43dd02f44326e93f58599f",
        "collapsed": true,
        "trusted": false
      },
      "cell_type": "code",
      "source": "average_train_prediction = np.zeros((trainN, max_degree))\nsquared_bias = np.zeros(max_degree)\n\ntrueY_train = f_X[:trainN]\nfor d in range(max_degree):\n    for i in range(trainN):\n        average_train_prediction[i,d] = train_predictions[i,:,d].mean()\n    squared_bias[d] = ((average_train_prediction[:,d] - trueY_train) ** 2).mean()",
      "execution_count": null,
      "outputs": []
    },
    {
      "metadata": {
        "_cell_guid": "ef582802-c47a-4b9d-97e0-f4d73ea039df",
        "_uuid": "e11fe82ecdc2a7fd5817318d3df152c3b295637c",
        "collapsed": true,
        "trusted": false
      },
      "cell_type": "code",
      "source": "variances = np.zeros((trainN, max_degree))\nfor d in range(max_degree):\n    for i in range(trainN):\n        difference = train_predictions[i,:,d] - average_train_prediction[i,d]\n        variances[i,d] = np.dot(difference, difference) / Num_datasets\nvariance = variances.mean(axis=0)",
      "execution_count": null,
      "outputs": []
    },
    {
      "metadata": {
        "_uuid": "13941d17ac1db17c321c53bf68ee29c87de9449a",
        "_cell_guid": "8ca10e51-2fde-4b6b-a51e-ed647c13ec6a"
      },
      "cell_type": "markdown",
      "source": "#### 作图   \n- 以degree为横轴，以$bias^2$为纵轴  \n- 以degree为横轴，以$variance$为纵轴  \n- 以degree为横轴，以测试集分数为纵轴  \n- 以degree为横轴，以$bias^2 + variance$为纵轴"
    },
    {
      "metadata": {
        "_uuid": "0600da6fad34865d7b34e616c1382e6d077859c9",
        "_cell_guid": "66b97741-e06f-41d0-a981-da5e0dae856f",
        "trusted": false,
        "collapsed": true
      },
      "cell_type": "code",
      "source": "degrees = np.arange(max_degree) + 1\nbest_degree = np.argmin(test_scores.mean(axis=0)) + 1\n\nplt.plot(degrees, squared_bias, label='squared bias')\nplt.plot(degrees, variance, label = 'variance')\nplt.plot(degrees, test_scores.mean(axis=0), label='test scores')\nplt.plot(degrees, squared_bias + variance, label='squared bias + variance')\nplt.axvline(x=best_degree, linestyle='--', label='best complexity')\nplt.legend()\nplt.show()",
      "execution_count": null,
      "outputs": []
    },
    {
      "metadata": {
        "_uuid": "2c562313311b09779273cb4c69017acf203952e9",
        "_cell_guid": "acd77bab-bf08-43bc-a515-bfd7f92b916b"
      },
      "cell_type": "markdown",
      "source": "#### 作图  \n- 以degree为横轴，以训练集分数为纵轴  \n- 以degree为横轴，以测试集分数为纵轴"
    },
    {
      "metadata": {
        "_uuid": "a2ab2b49c8566935127de01ef4436aae91f25349",
        "_cell_guid": "c7b2e7c0-7d23-418a-835e-d2d2df1b2390",
        "trusted": false,
        "collapsed": true
      },
      "cell_type": "code",
      "source": "plt.plot(degrees, train_scores.mean(axis=0), label='train scores')\nplt.plot(degrees, test_scores.mean(axis=0), label= 'test scores')\nplt.axvline(x=best_degree, linestyle='--', label='best complexity')\nplt.legend()\nplt.show()",
      "execution_count": null,
      "outputs": []
    },
    {
      "metadata": {
        "_cell_guid": "93ca8096-6b1c-4bf8-afd3-c4fbe3c3c772",
        "_uuid": "179b858de7cd8200c82be86359af0a99075bff13",
        "collapsed": true,
        "trusted": false
      },
      "cell_type": "code",
      "source": "",
      "execution_count": null,
      "outputs": []
    }
  ],
  "metadata": {
    "kernelspec": {
      "display_name": "Python 3",
      "language": "python",
      "name": "python3"
    },
    "language_info": {
      "version": "3.6.1",
      "name": "python",
      "codemirror_mode": {
        "version": 3,
        "name": "ipython"
      },
      "mimetype": "text/x-python",
      "nbconvert_exporter": "python",
      "file_extension": ".py",
      "pygments_lexer": "ipython3"
    }
  },
  "nbformat": 4,
  "nbformat_minor": 1
}