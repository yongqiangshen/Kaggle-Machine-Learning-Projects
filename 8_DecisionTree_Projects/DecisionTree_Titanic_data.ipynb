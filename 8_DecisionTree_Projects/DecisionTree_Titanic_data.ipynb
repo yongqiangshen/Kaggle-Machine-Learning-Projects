{
 "cells": [
  {
   "cell_type": "markdown",
   "metadata": {
    "_cell_guid": "1a63d313-318b-4e5e-9582-b0ff1a2f34b2",
    "_uuid": "c8cac81dd68da8cb71d1e25c93fc20b8e639028a"
   },
   "source": [
    "## Predict survival on the Titanic with machine learning methods\n",
    "\n",
    "#### The sinking of the Titanic is one of the most infamous shipwrecks in history.  On April 15, 1912, during her maiden voyage, the Titanic sank after colliding with an iceberg, killing 1502 out of 2224 passengers and crew. This sensational tragedy shocked the international community and led to better safety regulations for ships. \n",
    "\n",
    "#### One of the reasons that the shipwreck led to such loss of life was that there were not enough lifeboats for the passengers and crew. Although there was some element of luck involved in surviving the sinking, some groups of people were more likely to survive than others, such as women, children, and the upper-class.\n",
    "\n",
    "#### In this project, I complete the analysis of what sorts of people were likely to survive. In particular, I apply the tools of machine learning to predict which passengers survived the tragedy."
   ]
  },
  {
   "cell_type": "code",
   "execution_count": 1,
   "metadata": {
    "_cell_guid": "7e0b2597-ebe9-4a25-989c-2387cdf37ce5",
    "_uuid": "2fb36369824a64e6b5c4bdbd0d0d84413b2feac1"
   },
   "outputs": [],
   "source": [
    "%matplotlib inline\n",
    "import os\n",
    "import pandas as pd\n",
    "import numpy as np\n",
    "import seaborn as sns\n",
    "import matplotlib.pyplot as plt"
   ]
  },
  {
   "cell_type": "markdown",
   "metadata": {
    "_cell_guid": "70e556fb-7ee0-4404-8d95-44d664b6fdf8",
    "_uuid": "c1cff5d384c7788a3d03f53c07af2abfc4aa0c87"
   },
   "source": [
    "#### Import data and print out basic data information"
   ]
  },
  {
   "cell_type": "code",
   "execution_count": 2,
   "metadata": {
    "_cell_guid": "ab63cbc5-1b6f-42ca-bbf6-bb2c52977b3f",
    "_uuid": "bbfe3e7ca3a179bb22c966047bb5f43fb19f912c"
   },
   "outputs": [],
   "source": [
    "data = pd.read_csv(os.path.join(\"\", \"titanic.csv\"), sep=\",\")"
   ]
  },
  {
   "cell_type": "code",
   "execution_count": 3,
   "metadata": {
    "_cell_guid": "16d2ae71-a631-44e8-aae2-6670c57167e7",
    "_uuid": "4c3f8b20616dd25ec3692b8b668ed8a2c4501661"
   },
   "outputs": [
    {
     "name": "stdout",
     "output_type": "stream",
     "text": [
      "<class 'pandas.core.frame.DataFrame'>\n",
      "RangeIndex: 1313 entries, 0 to 1312\n",
      "Data columns (total 11 columns):\n",
      "row.names    1313 non-null int64\n",
      "pclass       1313 non-null object\n",
      "survived     1313 non-null int64\n",
      "name         1313 non-null object\n",
      "age          633 non-null float64\n",
      "embarked     821 non-null object\n",
      "home.dest    754 non-null object\n",
      "room         77 non-null object\n",
      "ticket       69 non-null object\n",
      "boat         347 non-null object\n",
      "sex          1313 non-null object\n",
      "dtypes: float64(1), int64(2), object(8)\n",
      "memory usage: 112.9+ KB\n"
     ]
    }
   ],
   "source": [
    "data.info()"
   ]
  },
  {
   "cell_type": "code",
   "execution_count": 4,
   "metadata": {
    "_cell_guid": "3ed591aa-5cb8-4e45-a6f6-9fbc908fe989",
    "_uuid": "fb603a26db37d0054bc4e633e450e0fa1de1ab72"
   },
   "outputs": [
    {
     "data": {
      "text/html": [
       "<div>\n",
       "<style scoped>\n",
       "    .dataframe tbody tr th:only-of-type {\n",
       "        vertical-align: middle;\n",
       "    }\n",
       "\n",
       "    .dataframe tbody tr th {\n",
       "        vertical-align: top;\n",
       "    }\n",
       "\n",
       "    .dataframe thead th {\n",
       "        text-align: right;\n",
       "    }\n",
       "</style>\n",
       "<table border=\"1\" class=\"dataframe\">\n",
       "  <thead>\n",
       "    <tr style=\"text-align: right;\">\n",
       "      <th></th>\n",
       "      <th>row.names</th>\n",
       "      <th>pclass</th>\n",
       "      <th>survived</th>\n",
       "      <th>name</th>\n",
       "      <th>age</th>\n",
       "      <th>embarked</th>\n",
       "      <th>home.dest</th>\n",
       "      <th>room</th>\n",
       "      <th>ticket</th>\n",
       "      <th>boat</th>\n",
       "      <th>sex</th>\n",
       "    </tr>\n",
       "  </thead>\n",
       "  <tbody>\n",
       "    <tr>\n",
       "      <th>0</th>\n",
       "      <td>1</td>\n",
       "      <td>1st</td>\n",
       "      <td>1</td>\n",
       "      <td>Allen, Miss Elisabeth Walton</td>\n",
       "      <td>29.0</td>\n",
       "      <td>Southampton</td>\n",
       "      <td>St Louis, MO</td>\n",
       "      <td>B-5</td>\n",
       "      <td>24160 L221</td>\n",
       "      <td>2</td>\n",
       "      <td>female</td>\n",
       "    </tr>\n",
       "    <tr>\n",
       "      <th>1</th>\n",
       "      <td>2</td>\n",
       "      <td>1st</td>\n",
       "      <td>0</td>\n",
       "      <td>Allison, Miss Helen Loraine</td>\n",
       "      <td>2.0</td>\n",
       "      <td>Southampton</td>\n",
       "      <td>Montreal, PQ / Chesterville, ON</td>\n",
       "      <td>C26</td>\n",
       "      <td>NaN</td>\n",
       "      <td>NaN</td>\n",
       "      <td>female</td>\n",
       "    </tr>\n",
       "    <tr>\n",
       "      <th>2</th>\n",
       "      <td>3</td>\n",
       "      <td>1st</td>\n",
       "      <td>0</td>\n",
       "      <td>Allison, Mr Hudson Joshua Creighton</td>\n",
       "      <td>30.0</td>\n",
       "      <td>Southampton</td>\n",
       "      <td>Montreal, PQ / Chesterville, ON</td>\n",
       "      <td>C26</td>\n",
       "      <td>NaN</td>\n",
       "      <td>(135)</td>\n",
       "      <td>male</td>\n",
       "    </tr>\n",
       "  </tbody>\n",
       "</table>\n",
       "</div>"
      ],
      "text/plain": [
       "   row.names pclass  survived                                 name   age  \\\n",
       "0          1    1st         1         Allen, Miss Elisabeth Walton  29.0   \n",
       "1          2    1st         0          Allison, Miss Helen Loraine   2.0   \n",
       "2          3    1st         0  Allison, Mr Hudson Joshua Creighton  30.0   \n",
       "\n",
       "      embarked                        home.dest room      ticket   boat  \\\n",
       "0  Southampton                     St Louis, MO  B-5  24160 L221      2   \n",
       "1  Southampton  Montreal, PQ / Chesterville, ON  C26         NaN    NaN   \n",
       "2  Southampton  Montreal, PQ / Chesterville, ON  C26         NaN  (135)   \n",
       "\n",
       "      sex  \n",
       "0  female  \n",
       "1  female  \n",
       "2    male  "
      ]
     },
     "execution_count": 4,
     "metadata": {},
     "output_type": "execute_result"
    }
   ],
   "source": [
    "data.head(3)"
   ]
  },
  {
   "cell_type": "markdown",
   "metadata": {
    "_cell_guid": "7f2128d9-ee67-495b-a434-4acc7ee888c1",
    "_uuid": "8def61fdeec2d710118bedf1709cd3a97ae3f139"
   },
   "source": [
    "#### Survival distribution"
   ]
  },
  {
   "cell_type": "code",
   "execution_count": 5,
   "metadata": {
    "_cell_guid": "35476903-83fc-4288-9fc8-4846fc319963",
    "_uuid": "05f0cd41f493c370d49ee3fe96c0a827c1be0d10"
   },
   "outputs": [
    {
     "data": {
      "text/plain": [
       "0    0.658035\n",
       "1    0.341965\n",
       "Name: survived, dtype: float64"
      ]
     },
     "execution_count": 5,
     "metadata": {},
     "output_type": "execute_result"
    }
   ],
   "source": [
    "data['survived'].value_counts(normalize=True)"
   ]
  },
  {
   "cell_type": "code",
   "execution_count": 6,
   "metadata": {
    "_cell_guid": "8aa3449f-7e23-4310-b4e6-4cef3e2329fd",
    "_uuid": "8c51a167a4684bddc6b1d90e4eb2a359a13d0d46"
   },
   "outputs": [
    {
     "data": {
      "text/plain": [
       "<matplotlib.axes._subplots.AxesSubplot at 0x105796b38>"
      ]
     },
     "execution_count": 6,
     "metadata": {},
     "output_type": "execute_result"
    },
    {
     "data": {
      "image/png": "[encoded data removed]",
      "text/plain": [
       "<matplotlib.figure.Figure at 0x1a0bd67128>"
      ]
     },
     "metadata": {},
     "output_type": "display_data"
    }
   ],
   "source": [
    "sns.countplot(data['survived'])"
   ]
  },
  {
   "cell_type": "markdown",
   "metadata": {
    "_cell_guid": "0db6bc4e-dfad-41b5-960b-8108752dd366",
    "_uuid": "cf6bc6697ab1f74ef0b80f3d6fcc3cdf77b7ea3c"
   },
   "source": [
    "#### Relationship between cabin class and survial chance"
   ]
  },
  {
   "cell_type": "code",
   "execution_count": 7,
   "metadata": {
    "_cell_guid": "1ea28dc0-221e-4b56-99bc-25e80f7f8da4",
    "_uuid": "d881a55379c062dd03ececd53b4404d3da97aaad"
   },
   "outputs": [
    {
     "data": {
      "text/plain": [
       "<matplotlib.axes._subplots.AxesSubplot at 0x1a0bf003c8>"
      ]
     },
     "execution_count": 7,
     "metadata": {},
     "output_type": "execute_result"
    },
    {
     "data": {
      "image/png": "[encoded data removed]",
      "text/plain": [
       "<matplotlib.figure.Figure at 0x1a0bf2b898>"
      ]
     },
     "metadata": {},
     "output_type": "display_data"
    }
   ],
   "source": [
    "sns.countplot(data['pclass'], hue=data['survived'])"
   ]
  },
  {
   "cell_type": "markdown",
   "metadata": {
    "_cell_guid": "3eb04fcf-834e-4b59-a726-90c9cabfe3f7",
    "_uuid": "c2c9ef7d6f47d147782abf1bbeb1c217a176be18"
   },
   "source": [
    "#### Investigate names"
   ]
  },
  {
   "cell_type": "code",
   "execution_count": 8,
   "metadata": {
    "_cell_guid": "0ac42549-1fcd-48df-bfd6-ac87294f08ab",
    "_uuid": "52694b9d852fcbcc6fe6849e08513b8b4f0d65c3"
   },
   "outputs": [
    {
     "data": {
      "text/plain": [
       "0                       Allen, Miss Elisabeth Walton\n",
       "1                        Allison, Miss Helen Loraine\n",
       "2                Allison, Mr Hudson Joshua Creighton\n",
       "3    Allison, Mrs Hudson J.C. (Bessie Waldo Daniels)\n",
       "4                      Allison, Master Hudson Trevor\n",
       "Name: name, dtype: object"
      ]
     },
     "execution_count": 8,
     "metadata": {},
     "output_type": "execute_result"
    }
   ],
   "source": [
    "data['name'].head()"
   ]
  },
  {
   "cell_type": "code",
   "execution_count": 9,
   "metadata": {
    "_cell_guid": "15f4f157-fe87-4883-92da-099907aa30b0",
    "_uuid": "0d3eca5a049d20ec79d90d7cc8d4ce7ba85fbfe1"
   },
   "outputs": [],
   "source": [
    "data['name_title'] = data['name'].apply(lambda x: x.split(',')[1] if len(x.split(',')) > 1 else x.split(',')[0]).apply(lambda x: x.split()[0])"
   ]
  },
  {
   "cell_type": "code",
   "execution_count": 10,
   "metadata": {
    "_cell_guid": "49db174a-eb30-4351-a353-620abfa13161",
    "_uuid": "0fe244541843f42a1f9560b5240fe29a7668df92"
   },
   "outputs": [
    {
     "data": {
      "text/plain": [
       "Mr           747\n",
       "Miss         236\n",
       "Mrs          200\n",
       "Master        59\n",
       "Ms            17\n",
       "Dr             7\n",
       "Rev            6\n",
       "Col            2\n",
       "Major          2\n",
       "Colonel        2\n",
       "Rev.           2\n",
       "Thomas         2\n",
       "Mansouer       1\n",
       "Eino           1\n",
       "the            1\n",
       "Jonkheer       1\n",
       "Sir            1\n",
       "William        1\n",
       "Barton         1\n",
       "Lady           1\n",
       "Captain        1\n",
       "Richard        1\n",
       "Ernst          1\n",
       "Hilda          1\n",
       "Berglund.      1\n",
       "Simon          1\n",
       "Albert         1\n",
       "Nils           1\n",
       "Khalil         1\n",
       "Oscar          1\n",
       "Mlle.          1\n",
       "Jenny          1\n",
       "Sander         1\n",
       "W.             1\n",
       "Leo            1\n",
       "Jacobsohn      1\n",
       "Delia          1\n",
       "Mlle           1\n",
       "Rene           1\n",
       "Seman          1\n",
       "Madame         1\n",
       "Nikolai        1\n",
       "Dr.            1\n",
       "Name: name_title, dtype: int64"
      ]
     },
     "execution_count": 10,
     "metadata": {},
     "output_type": "execute_result"
    }
   ],
   "source": [
    "data['name_title'].value_counts()"
   ]
  },
  {
   "cell_type": "markdown",
   "metadata": {
    "_cell_guid": "4d4377f2-37e4-485e-ad89-8158536189a9",
    "_uuid": "dbfe95e84cb345a5f079d251353dea2f11dc7e30"
   },
   "source": [
    "#### Relationship between name title and survial chance"
   ]
  },
  {
   "cell_type": "code",
   "execution_count": 11,
   "metadata": {
    "_cell_guid": "9ecc5b3d-4ffd-427f-a0c8-811ed4a00c3c",
    "_uuid": "00b9102d50afc383a05c72fdb8fc61e99c3292f5"
   },
   "outputs": [
    {
     "data": {
      "text/plain": [
       "name_title\n",
       "Albert       0.000000\n",
       "Barton       0.000000\n",
       "Berglund.    0.000000\n",
       "Captain      0.000000\n",
       "Col          0.500000\n",
       "Colonel      0.500000\n",
       "Delia        0.000000\n",
       "Dr           0.428571\n",
       "Dr.          1.000000\n",
       "Eino         1.000000\n",
       "Ernst        0.000000\n",
       "Hilda        1.000000\n",
       "Jacobsohn    0.000000\n",
       "Jenny        0.000000\n",
       "Jonkheer     0.000000\n",
       "Khalil       1.000000\n",
       "Lady         1.000000\n",
       "Leo          0.000000\n",
       "Madame       1.000000\n",
       "Major        0.500000\n",
       "Mansouer     1.000000\n",
       "Master       0.389831\n",
       "Miss         0.588983\n",
       "Mlle         0.000000\n",
       "Mlle.        1.000000\n",
       "Mr           0.144578\n",
       "Mrs          0.740000\n",
       "Ms           0.823529\n",
       "Nikolai      0.000000\n",
       "Nils         0.000000\n",
       "Oscar        1.000000\n",
       "Rene         0.000000\n",
       "Rev          0.000000\n",
       "Rev.         0.000000\n",
       "Richard      0.000000\n",
       "Sander       0.000000\n",
       "Seman        0.000000\n",
       "Simon        0.000000\n",
       "Sir          1.000000\n",
       "Thomas       0.000000\n",
       "W.           0.000000\n",
       "William      0.000000\n",
       "the          1.000000\n",
       "Name: survived, dtype: float64"
      ]
     },
     "execution_count": 11,
     "metadata": {},
     "output_type": "execute_result"
    }
   ],
   "source": [
    "data['survived'].groupby(data['name_title']).mean()"
   ]
  },
  {
   "cell_type": "markdown",
   "metadata": {
    "_cell_guid": "61a52104-8516-4713-8aee-a30b98989bcd",
    "_uuid": "d1d41da659cc7c70f5eb3246e9e753dbd962ed83"
   },
   "source": [
    "#### Relationship between name length and survial chance"
   ]
  },
  {
   "cell_type": "code",
   "execution_count": 12,
   "metadata": {
    "_cell_guid": "8f4174e4-e67c-4a20-bc01-70f091ce4e05",
    "_uuid": "a32b3e7598120cdcb20c57ce7b4451c21fac2e0e"
   },
   "outputs": [],
   "source": [
    "data['name_len'] = data['name'].apply(lambda x: len(x))"
   ]
  },
  {
   "cell_type": "code",
   "execution_count": 13,
   "metadata": {
    "_cell_guid": "9ad1a089-18c9-44a0-9690-b76fd9fea234",
    "_uuid": "62130556824d4740256156f5bbfc99fdc2e997bd"
   },
   "outputs": [
    {
     "data": {
      "text/plain": [
       "name_len\n",
       "(10.999, 17.0]    0.183746\n",
       "(17.0, 20.0]      0.288321\n",
       "(20.0, 24.0]      0.285171\n",
       "(24.0, 28.0]      0.369295\n",
       "(28.0, 62.0]      0.611111\n",
       "Name: survived, dtype: float64"
      ]
     },
     "execution_count": 13,
     "metadata": {},
     "output_type": "execute_result"
    }
   ],
   "source": [
    "data['survived'].groupby(pd.qcut(data['name_len'], 5)).mean()"
   ]
  },
  {
   "cell_type": "markdown",
   "metadata": {
    "_cell_guid": "097f0032-527e-4a19-a2c4-209e26b9197e",
    "_uuid": "edf72f09b75418a293ad1ca9bf02c15b1be347bb"
   },
   "source": [
    "#### Relationship between sex and survial chance"
   ]
  },
  {
   "cell_type": "code",
   "execution_count": 14,
   "metadata": {
    "_cell_guid": "8a540072-7e72-4706-99f1-7ad40640053f",
    "_uuid": "3ad9d2310b10d0d9e14f21a187b6a9d01d2aab12"
   },
   "outputs": [
    {
     "data": {
      "text/plain": [
       "male      0.647372\n",
       "female    0.352628\n",
       "Name: sex, dtype: float64"
      ]
     },
     "execution_count": 14,
     "metadata": {},
     "output_type": "execute_result"
    }
   ],
   "source": [
    "data['sex'].value_counts(normalize=True)"
   ]
  },
  {
   "cell_type": "code",
   "execution_count": 15,
   "metadata": {
    "_cell_guid": "823cf70f-c4cd-490f-a607-cacde138cf04",
    "_uuid": "2ec0f6a81081671df7c82d17044a4740824ab8ac"
   },
   "outputs": [
    {
     "data": {
      "text/plain": [
       "sex\n",
       "female    0.663067\n",
       "male      0.167059\n",
       "Name: survived, dtype: float64"
      ]
     },
     "execution_count": 15,
     "metadata": {},
     "output_type": "execute_result"
    }
   ],
   "source": [
    "data['survived'].groupby(data['sex']).mean()"
   ]
  },
  {
   "cell_type": "markdown",
   "metadata": {
    "_cell_guid": "5395e88a-90ae-4420-8533-02034e558ad7",
    "_uuid": "68ace6323104b44e793e5ad829dc6c39652566b7"
   },
   "source": [
    "#### Relationship between age and survial chance "
   ]
  },
  {
   "cell_type": "code",
   "execution_count": 16,
   "metadata": {
    "_cell_guid": "618b09fc-acf1-4f4c-880e-9d0a767597a8",
    "_uuid": "3ac70ad61eb7d45c9b86b7a402a20b1750e4e62b"
   },
   "outputs": [
    {
     "data": {
      "text/plain": [
       "age\n",
       "(0.166, 19.0]    0.578125\n",
       "(19.0, 26.0]     0.354610\n",
       "(26.0, 33.0]     0.400000\n",
       "(33.0, 45.0]     0.447761\n",
       "(45.0, 71.0]     0.443478\n",
       "Name: survived, dtype: float64"
      ]
     },
     "execution_count": 16,
     "metadata": {},
     "output_type": "execute_result"
    }
   ],
   "source": [
    "data['survived'].groupby(pd.qcut(data['age'], 5)).mean()"
   ]
  },
  {
   "cell_type": "markdown",
   "metadata": {
    "_cell_guid": "9cb04077-417b-4f5e-b34d-d7f4e61c72cf",
    "_uuid": "8ef8b37a3af22dfaad176e281eeba2538ae8e7f3"
   },
   "source": [
    "#### Relationship between embarked place and survial chance"
   ]
  },
  {
   "cell_type": "code",
   "execution_count": 17,
   "metadata": {
    "_cell_guid": "8e23acb7-f978-4182-86d6-bf9b208b2bf4",
    "_uuid": "214abc1f88a8180b0098b0ee23a57b68200da4ed"
   },
   "outputs": [
    {
     "data": {
      "text/plain": [
       "Southampton    573\n",
       "Cherbourg      203\n",
       "Queenstown      45\n",
       "Name: embarked, dtype: int64"
      ]
     },
     "execution_count": 17,
     "metadata": {},
     "output_type": "execute_result"
    }
   ],
   "source": [
    "data['embarked'].value_counts()"
   ]
  },
  {
   "cell_type": "code",
   "execution_count": 18,
   "metadata": {
    "_cell_guid": "2d6a6450-484d-4b43-8db7-568a989e2775",
    "_uuid": "542ef1c1a827650781f2005e986feab9e5e5620a"
   },
   "outputs": [
    {
     "data": {
      "text/plain": [
       "embarked\n",
       "Cherbourg      0.586207\n",
       "Queenstown     0.311111\n",
       "Southampton    0.399651\n",
       "Name: survived, dtype: float64"
      ]
     },
     "execution_count": 18,
     "metadata": {},
     "output_type": "execute_result"
    }
   ],
   "source": [
    "data['survived'].groupby(data['embarked']).mean()"
   ]
  },
  {
   "cell_type": "code",
   "execution_count": 19,
   "metadata": {
    "_cell_guid": "accd391e-0265-4fd7-aa16-c0a11003eeac",
    "_uuid": "4318f3690bffaaf73fea58975821b6a062145cba"
   },
   "outputs": [
    {
     "data": {
      "text/plain": [
       "<matplotlib.axes._subplots.AxesSubplot at 0x1a0c1e4a58>"
      ]
     },
     "execution_count": 19,
     "metadata": {},
     "output_type": "execute_result"
    },
    {
     "data": {
      "image/png": "[encoded data removed]",
      "text/plain": [
       "<matplotlib.figure.Figure at 0x1a0c193b00>"
      ]
     },
     "metadata": {},
     "output_type": "display_data"
    }
   ],
   "source": [
    "sns.countplot(data['embarked'], hue=data['pclass'])"
   ]
  },
  {
   "cell_type": "markdown",
   "metadata": {
    "_cell_guid": "0d2f0b34-3b73-41e7-b874-e47344b87b44",
    "_uuid": "7c19a4964916eaee450cf741890f4f8e4a2bd77a"
   },
   "source": [
    "#### Relationship between destination and survial chance"
   ]
  },
  {
   "cell_type": "code",
   "execution_count": 20,
   "metadata": {
    "_cell_guid": "82961fea-cee9-4af4-b8f7-9fb02fa4c8f5",
    "_uuid": "01b2aac23a7b2b8699e6d8278a7496cbee9cf481"
   },
   "outputs": [
    {
     "data": {
      "text/plain": [
       "home.dest\n",
       " AB                         1.000000\n",
       " AZ                         0.000000\n",
       " Australia                  0.000000\n",
       " BC                         0.250000\n",
       " Birmingham                 0.000000\n",
       " Brazil                     0.000000\n",
       " CA                         0.692308\n",
       " CO                         0.333333\n",
       " CT                         0.583333\n",
       " Cornwall                   0.000000\n",
       " Cuba                       0.800000\n",
       " DC                         0.750000\n",
       " DE                         1.000000\n",
       " Denmark                    0.000000\n",
       " Devon                      0.250000\n",
       " England                    0.352941\n",
       " England / Belfast          0.000000\n",
       " England / Massachusetts    1.000000\n",
       " England Ohio               1.000000\n",
       " Essex                      0.000000\n",
       " FL                         0.500000\n",
       " Finland New York           0.000000\n",
       " France                     0.833333\n",
       " Germany                    1.000000\n",
       " Guernsey                   0.000000\n",
       " Hants                      0.000000\n",
       " Huntingdonshire            0.000000\n",
       " IA                         0.285714\n",
       " ID                         0.666667\n",
       " IL                         0.300000\n",
       "                              ...   \n",
       " WA                         0.285714\n",
       " WI                         0.555556\n",
       " WV                         0.500000\n",
       " Wales                      0.000000\n",
       " Yorks                      1.000000\n",
       "Argentina                   0.000000\n",
       "Austria                     0.000000\n",
       "Austria-Hungary             0.000000\n",
       "Belfast                     0.000000\n",
       "Cornwall                    0.000000\n",
       "Croatia                     0.000000\n",
       "England                     0.000000\n",
       "Glasgow                     0.000000\n",
       "Greece                      0.000000\n",
       "Guernsey                    0.500000\n",
       "Ireland                     0.333333\n",
       "Liverpool                   0.500000\n",
       "London                      0.357143\n",
       "London / Birmingham         0.000000\n",
       "London / Middlesex          0.000000\n",
       "London / Paris              1.000000\n",
       "Paris                       0.000000\n",
       "Paris / Haiti               0.750000\n",
       "Pennsylvania                0.000000\n",
       "Portugal                    0.000000\n",
       "Russia                      1.000000\n",
       "Southampton                 0.666667\n",
       "Spain                       1.000000\n",
       "Syria                       0.000000\n",
       "nan                         0.180680\n",
       "Name: survived, Length: 117, dtype: float64"
      ]
     },
     "execution_count": 20,
     "metadata": {},
     "output_type": "execute_result"
    }
   ],
   "source": [
    "data['survived'].groupby(data['home.dest'].apply(lambda x: str(x).split(',')[-1])).mean()"
   ]
  },
  {
   "cell_type": "markdown",
   "metadata": {
    "_cell_guid": "6ffb5112-a4cf-463e-a6f0-a8efbcadbc51",
    "_uuid": "70c5d8a105e484cf0d4d3b759782c3f23f9a6585"
   },
   "source": [
    "#### For \"room\", \"ticket\", \"boat\" attributes, there are too many missing data, therefore drop them"
   ]
  },
  {
   "cell_type": "markdown",
   "metadata": {
    "_cell_guid": "00e26ad4-d34e-4865-85e0-9940e2463c44",
    "_uuid": "6098fc16dfdd3105a21bb7290bea71e3671caea8"
   },
   "source": [
    "   \n",
    "![alt text](https://i.pinimg.com/originals/0b/d0/17/0bd017358bd52c945606a719615b8775.jpg)\n",
    "[jack_info](http://jamescameronstitanic.wikia.com/wiki/Jack_Dawson)\n"
   ]
  },
  {
   "cell_type": "markdown",
   "metadata": {
    "_cell_guid": "7fbd8985-48fe-4ba5-8ef0-430de0af170b",
    "_uuid": "5017ff453ded9a79345ae6594e15473f6fc2f479"
   },
   "source": [
    "#### Feature Transform"
   ]
  },
  {
   "cell_type": "code",
   "execution_count": 21,
   "metadata": {
    "_cell_guid": "29e39846-ce40-419d-9ee9-723b6259311f",
    "_uuid": "39d85ddf619573ffcf7990404711b9fe5d623518"
   },
   "outputs": [],
   "source": [
    "def name(data):\n",
    "    data['name_len'] = data['name'].apply(lambda x: len(x))\n",
    "    data['name_title'] = data['name'].apply(lambda x: x.split(',')[1] if len(x.split(',')) > 1 else x.split(',')[0]).apply(lambda x: x.split()[0])\n",
    "    del data['name']\n",
    "    return data\n",
    "\n",
    "def age(data):\n",
    "    data['age_flag'] = data['age'].apply(lambda x: 1 if pd.isnull(x) else 0)\n",
    "    grouped_age = data.groupby(['name_title', 'pclass'])['age']\n",
    "    data['age'] = grouped_age.transform(lambda x: x.fillna(data['age'].mean()) if pd.isnull(x.mean()) else x.fillna(x.mean()))\n",
    "    return data\n",
    "\n",
    "def embark(data):\n",
    "    data['embarked'] = data['embarked'].fillna('Southampton')\n",
    "    return data\n",
    "\n",
    "\n",
    "def dummies(data, columns=['pclass','name_title','embarked', 'sex']):\n",
    "    for col in columns:\n",
    "        data[col] = data[col].apply(lambda x: str(x))\n",
    "        new_cols = [col + '_' + i for i in data[col].unique()]\n",
    "        data = pd.concat([data, pd.get_dummies(data[col], prefix=col)[new_cols]], axis=1)\n",
    "        del data[col]\n",
    "    return data"
   ]
  },
  {
   "cell_type": "markdown",
   "metadata": {
    "_cell_guid": "d1a374b7-8499-4c88-acfd-b299c0ce72ec",
    "_uuid": "d4536da2ce68f884164d25a29bcfeb5a2d6c0678"
   },
   "source": [
    "#### Data preparation \n",
    "- Drop features which are not useful  \n",
    "- Transform some features"
   ]
  },
  {
   "cell_type": "code",
   "execution_count": 22,
   "metadata": {
    "_cell_guid": "07af0cf4-7e83-4fe3-ae50-c1aeedf82805",
    "_uuid": "b0543cd41f6fefd54e17eb14e670b6659884376e"
   },
   "outputs": [
    {
     "data": {
      "text/html": [
       "<div>\n",
       "<style scoped>\n",
       "    .dataframe tbody tr th:only-of-type {\n",
       "        vertical-align: middle;\n",
       "    }\n",
       "\n",
       "    .dataframe tbody tr th {\n",
       "        vertical-align: top;\n",
       "    }\n",
       "\n",
       "    .dataframe thead th {\n",
       "        text-align: right;\n",
       "    }\n",
       "</style>\n",
       "<table border=\"1\" class=\"dataframe\">\n",
       "  <thead>\n",
       "    <tr style=\"text-align: right;\">\n",
       "      <th></th>\n",
       "      <th>pclass</th>\n",
       "      <th>survived</th>\n",
       "      <th>name</th>\n",
       "      <th>age</th>\n",
       "      <th>embarked</th>\n",
       "      <th>sex</th>\n",
       "      <th>name_title</th>\n",
       "      <th>name_len</th>\n",
       "    </tr>\n",
       "  </thead>\n",
       "  <tbody>\n",
       "    <tr>\n",
       "      <th>0</th>\n",
       "      <td>1st</td>\n",
       "      <td>1</td>\n",
       "      <td>Allen, Miss Elisabeth Walton</td>\n",
       "      <td>29.0000</td>\n",
       "      <td>Southampton</td>\n",
       "      <td>female</td>\n",
       "      <td>Miss</td>\n",
       "      <td>28</td>\n",
       "    </tr>\n",
       "    <tr>\n",
       "      <th>1</th>\n",
       "      <td>1st</td>\n",
       "      <td>0</td>\n",
       "      <td>Allison, Miss Helen Loraine</td>\n",
       "      <td>2.0000</td>\n",
       "      <td>Southampton</td>\n",
       "      <td>female</td>\n",
       "      <td>Miss</td>\n",
       "      <td>27</td>\n",
       "    </tr>\n",
       "    <tr>\n",
       "      <th>2</th>\n",
       "      <td>1st</td>\n",
       "      <td>0</td>\n",
       "      <td>Allison, Mr Hudson Joshua Creighton</td>\n",
       "      <td>30.0000</td>\n",
       "      <td>Southampton</td>\n",
       "      <td>male</td>\n",
       "      <td>Mr</td>\n",
       "      <td>35</td>\n",
       "    </tr>\n",
       "    <tr>\n",
       "      <th>3</th>\n",
       "      <td>1st</td>\n",
       "      <td>0</td>\n",
       "      <td>Allison, Mrs Hudson J.C. (Bessie Waldo Daniels)</td>\n",
       "      <td>25.0000</td>\n",
       "      <td>Southampton</td>\n",
       "      <td>female</td>\n",
       "      <td>Mrs</td>\n",
       "      <td>47</td>\n",
       "    </tr>\n",
       "    <tr>\n",
       "      <th>4</th>\n",
       "      <td>1st</td>\n",
       "      <td>1</td>\n",
       "      <td>Allison, Master Hudson Trevor</td>\n",
       "      <td>0.9167</td>\n",
       "      <td>Southampton</td>\n",
       "      <td>male</td>\n",
       "      <td>Master</td>\n",
       "      <td>29</td>\n",
       "    </tr>\n",
       "  </tbody>\n",
       "</table>\n",
       "</div>"
      ],
      "text/plain": [
       "  pclass  survived                                             name      age  \\\n",
       "0    1st         1                     Allen, Miss Elisabeth Walton  29.0000   \n",
       "1    1st         0                      Allison, Miss Helen Loraine   2.0000   \n",
       "2    1st         0              Allison, Mr Hudson Joshua Creighton  30.0000   \n",
       "3    1st         0  Allison, Mrs Hudson J.C. (Bessie Waldo Daniels)  25.0000   \n",
       "4    1st         1                    Allison, Master Hudson Trevor   0.9167   \n",
       "\n",
       "      embarked     sex name_title  name_len  \n",
       "0  Southampton  female       Miss        28  \n",
       "1  Southampton  female       Miss        27  \n",
       "2  Southampton    male         Mr        35  \n",
       "3  Southampton  female        Mrs        47  \n",
       "4  Southampton    male     Master        29  "
      ]
     },
     "execution_count": 22,
     "metadata": {},
     "output_type": "execute_result"
    }
   ],
   "source": [
    "drop_columns = ['row.names', 'home.dest', 'room', 'ticket', 'boat'] #+ ['ticket_len', 'ticket_title']\n",
    "data = data.drop(drop_columns, axis=1)\n",
    "data.head()"
   ]
  },
  {
   "cell_type": "code",
   "execution_count": 23,
   "metadata": {
    "_cell_guid": "c60afd1a-aeb5-4f68-be83-56e091d8f4a5",
    "_uuid": "3595a3fbc511f90dd2ba42c3e2155e0ca44b39c0"
   },
   "outputs": [
    {
     "data": {
      "text/html": [
       "<div>\n",
       "<style scoped>\n",
       "    .dataframe tbody tr th:only-of-type {\n",
       "        vertical-align: middle;\n",
       "    }\n",
       "\n",
       "    .dataframe tbody tr th {\n",
       "        vertical-align: top;\n",
       "    }\n",
       "\n",
       "    .dataframe thead th {\n",
       "        text-align: right;\n",
       "    }\n",
       "</style>\n",
       "<table border=\"1\" class=\"dataframe\">\n",
       "  <thead>\n",
       "    <tr style=\"text-align: right;\">\n",
       "      <th></th>\n",
       "      <th>survived</th>\n",
       "      <th>age</th>\n",
       "      <th>name_len</th>\n",
       "      <th>age_flag</th>\n",
       "      <th>pclass_1st</th>\n",
       "      <th>pclass_2nd</th>\n",
       "      <th>pclass_3rd</th>\n",
       "      <th>name_title_Miss</th>\n",
       "      <th>name_title_Mr</th>\n",
       "      <th>name_title_Mrs</th>\n",
       "      <th>...</th>\n",
       "      <th>name_title_Simon</th>\n",
       "      <th>name_title_William</th>\n",
       "      <th>name_title_Seman</th>\n",
       "      <th>name_title_Rene</th>\n",
       "      <th>name_title_Leo</th>\n",
       "      <th>embarked_Southampton</th>\n",
       "      <th>embarked_Cherbourg</th>\n",
       "      <th>embarked_Queenstown</th>\n",
       "      <th>sex_female</th>\n",
       "      <th>sex_male</th>\n",
       "    </tr>\n",
       "  </thead>\n",
       "  <tbody>\n",
       "    <tr>\n",
       "      <th>0</th>\n",
       "      <td>1</td>\n",
       "      <td>29.0000</td>\n",
       "      <td>28</td>\n",
       "      <td>0</td>\n",
       "      <td>1</td>\n",
       "      <td>0</td>\n",
       "      <td>0</td>\n",
       "      <td>1</td>\n",
       "      <td>0</td>\n",
       "      <td>0</td>\n",
       "      <td>...</td>\n",
       "      <td>0</td>\n",
       "      <td>0</td>\n",
       "      <td>0</td>\n",
       "      <td>0</td>\n",
       "      <td>0</td>\n",
       "      <td>1</td>\n",
       "      <td>0</td>\n",
       "      <td>0</td>\n",
       "      <td>1</td>\n",
       "      <td>0</td>\n",
       "    </tr>\n",
       "    <tr>\n",
       "      <th>1</th>\n",
       "      <td>0</td>\n",
       "      <td>2.0000</td>\n",
       "      <td>27</td>\n",
       "      <td>0</td>\n",
       "      <td>1</td>\n",
       "      <td>0</td>\n",
       "      <td>0</td>\n",
       "      <td>1</td>\n",
       "      <td>0</td>\n",
       "      <td>0</td>\n",
       "      <td>...</td>\n",
       "      <td>0</td>\n",
       "      <td>0</td>\n",
       "      <td>0</td>\n",
       "      <td>0</td>\n",
       "      <td>0</td>\n",
       "      <td>1</td>\n",
       "      <td>0</td>\n",
       "      <td>0</td>\n",
       "      <td>1</td>\n",
       "      <td>0</td>\n",
       "    </tr>\n",
       "    <tr>\n",
       "      <th>2</th>\n",
       "      <td>0</td>\n",
       "      <td>30.0000</td>\n",
       "      <td>35</td>\n",
       "      <td>0</td>\n",
       "      <td>1</td>\n",
       "      <td>0</td>\n",
       "      <td>0</td>\n",
       "      <td>0</td>\n",
       "      <td>1</td>\n",
       "      <td>0</td>\n",
       "      <td>...</td>\n",
       "      <td>0</td>\n",
       "      <td>0</td>\n",
       "      <td>0</td>\n",
       "      <td>0</td>\n",
       "      <td>0</td>\n",
       "      <td>1</td>\n",
       "      <td>0</td>\n",
       "      <td>0</td>\n",
       "      <td>0</td>\n",
       "      <td>1</td>\n",
       "    </tr>\n",
       "    <tr>\n",
       "      <th>3</th>\n",
       "      <td>0</td>\n",
       "      <td>25.0000</td>\n",
       "      <td>47</td>\n",
       "      <td>0</td>\n",
       "      <td>1</td>\n",
       "      <td>0</td>\n",
       "      <td>0</td>\n",
       "      <td>0</td>\n",
       "      <td>0</td>\n",
       "      <td>1</td>\n",
       "      <td>...</td>\n",
       "      <td>0</td>\n",
       "      <td>0</td>\n",
       "      <td>0</td>\n",
       "      <td>0</td>\n",
       "      <td>0</td>\n",
       "      <td>1</td>\n",
       "      <td>0</td>\n",
       "      <td>0</td>\n",
       "      <td>1</td>\n",
       "      <td>0</td>\n",
       "    </tr>\n",
       "    <tr>\n",
       "      <th>4</th>\n",
       "      <td>1</td>\n",
       "      <td>0.9167</td>\n",
       "      <td>29</td>\n",
       "      <td>0</td>\n",
       "      <td>1</td>\n",
       "      <td>0</td>\n",
       "      <td>0</td>\n",
       "      <td>0</td>\n",
       "      <td>0</td>\n",
       "      <td>0</td>\n",
       "      <td>...</td>\n",
       "      <td>0</td>\n",
       "      <td>0</td>\n",
       "      <td>0</td>\n",
       "      <td>0</td>\n",
       "      <td>0</td>\n",
       "      <td>1</td>\n",
       "      <td>0</td>\n",
       "      <td>0</td>\n",
       "      <td>0</td>\n",
       "      <td>1</td>\n",
       "    </tr>\n",
       "  </tbody>\n",
       "</table>\n",
       "<p>5 rows × 55 columns</p>\n",
       "</div>"
      ],
      "text/plain": [
       "   survived      age  name_len  age_flag  pclass_1st  pclass_2nd  pclass_3rd  \\\n",
       "0         1  29.0000        28         0           1           0           0   \n",
       "1         0   2.0000        27         0           1           0           0   \n",
       "2         0  30.0000        35         0           1           0           0   \n",
       "3         0  25.0000        47         0           1           0           0   \n",
       "4         1   0.9167        29         0           1           0           0   \n",
       "\n",
       "   name_title_Miss  name_title_Mr  name_title_Mrs    ...     name_title_Simon  \\\n",
       "0                1              0               0    ...                    0   \n",
       "1                1              0               0    ...                    0   \n",
       "2                0              1               0    ...                    0   \n",
       "3                0              0               1    ...                    0   \n",
       "4                0              0               0    ...                    0   \n",
       "\n",
       "   name_title_William  name_title_Seman  name_title_Rene  name_title_Leo  \\\n",
       "0                   0                 0                0               0   \n",
       "1                   0                 0                0               0   \n",
       "2                   0                 0                0               0   \n",
       "3                   0                 0                0               0   \n",
       "4                   0                 0                0               0   \n",
       "\n",
       "   embarked_Southampton  embarked_Cherbourg  embarked_Queenstown  sex_female  \\\n",
       "0                     1                   0                    0           1   \n",
       "1                     1                   0                    0           1   \n",
       "2                     1                   0                    0           0   \n",
       "3                     1                   0                    0           1   \n",
       "4                     1                   0                    0           0   \n",
       "\n",
       "   sex_male  \n",
       "0         0  \n",
       "1         0  \n",
       "2         1  \n",
       "3         0  \n",
       "4         1  \n",
       "\n",
       "[5 rows x 55 columns]"
      ]
     },
     "execution_count": 23,
     "metadata": {},
     "output_type": "execute_result"
    }
   ],
   "source": [
    "data = name(data)\n",
    "data = age(data)\n",
    "data = embark(data)\n",
    "data = dummies(data)\n",
    "data.head()"
   ]
  },
  {
   "cell_type": "markdown",
   "metadata": {
    "_cell_guid": "43b7afb3-505d-49a3-a7f4-8503d537c64c",
    "_uuid": "0dbf67b151a7739872495a72bd4a9d19d46a3b67"
   },
   "source": [
    "####  Use decision tree model to predict survival chance"
   ]
  },
  {
   "cell_type": "code",
   "execution_count": 24,
   "metadata": {
    "_cell_guid": "69b7691c-efca-43ab-a02a-bc50486eb242",
    "_uuid": "61b50a6e06511dcd2a782dec535ca75bff508afc"
   },
   "outputs": [
    {
     "data": {
      "text/plain": [
       "DecisionTreeClassifier(class_weight=None, criterion='entropy', max_depth=3,\n",
       "            max_features=None, max_leaf_nodes=None,\n",
       "            min_impurity_decrease=0.0, min_impurity_split=None,\n",
       "            min_samples_leaf=5, min_samples_split=2,\n",
       "            min_weight_fraction_leaf=0.0, presort=False, random_state=None,\n",
       "            splitter='best')"
      ]
     },
     "execution_count": 24,
     "metadata": {},
     "output_type": "execute_result"
    }
   ],
   "source": [
    "from sklearn.model_selection import train_test_split\n",
    "from sklearn import tree\n",
    "trainX, testX, trainY, testY = train_test_split(data.iloc[:,1:], data.iloc[:,0], test_size=0.2, random_state=33)\n",
    "\n",
    "model = tree.DecisionTreeClassifier(criterion='entropy', max_depth=3, min_samples_leaf=5)\n",
    "model.fit(trainX, trainY)"
   ]
  },
  {
   "cell_type": "code",
   "execution_count": 25,
   "metadata": {
    "_cell_guid": "1d28e921-5878-4377-a251-ed80e65796cb",
    "_uuid": "3666a5445798ea587464703be82686aa9330904d"
   },
   "outputs": [],
   "source": [
    "from sklearn import metrics\n",
    "def measure_performance(X, y, clf, show_accuracy=True, show_classification_report=True, show_confussion_matrix=True):\n",
    "    y_pred = clf.predict(X)\n",
    "    if show_accuracy:\n",
    "        print(\"Accuracy:{0:.3f}\".format(metrics.accuracy_score(y, y_pred)),\"\\n\")\n",
    "    \n",
    "    if show_classification_report:\n",
    "        print(\"Classification report\")\n",
    "        print(metrics.classification_report(y, y_pred), \"\\n\")\n",
    "    \n",
    "    if show_confussion_matrix:\n",
    "        print(\"Confusion matrix\")\n",
    "        print(metrics.confusion_matrix(y, y_pred), \"\\n\")"
   ]
  },
  {
   "cell_type": "code",
   "execution_count": 26,
   "metadata": {
    "_cell_guid": "9e456754-a009-4931-b59c-951a71e4fea8",
    "_uuid": "46e1ab415dd09cf208d47b2db69ecb12fb4df92f"
   },
   "outputs": [
    {
     "name": "stdout",
     "output_type": "stream",
     "text": [
      "Accuracy:0.791 \n",
      "\n",
      "Classification report\n",
      "             precision    recall  f1-score   support\n",
      "\n",
      "          0       0.77      0.96      0.85       164\n",
      "          1       0.88      0.52      0.65        99\n",
      "\n",
      "avg / total       0.81      0.79      0.78       263\n",
      " \n",
      "\n",
      "Confusion matrix\n",
      "[[157   7]\n",
      " [ 48  51]] \n",
      "\n"
     ]
    }
   ],
   "source": [
    "measure_performance(testX, testY, model)"
   ]
  },
  {
   "cell_type": "markdown",
   "metadata": {
    "_cell_guid": "56ef0372-de9f-450c-9c8b-34617c1827df",
    "_uuid": "8a98ed8570e610230b753e0c21619fe1c51ecbcd",
    "collapsed": true
   },
   "source": [
    "#### Display the importance of different features"
   ]
  },
  {
   "cell_type": "code",
   "execution_count": 31,
   "metadata": {
    "_cell_guid": "e6d8d6f5-bf87-4c0e-8c6f-729a7585fcd3",
    "_uuid": "d0d636fabd59dcc2726a5bfaec46c2232f56f770"
   },
   "outputs": [
    {
     "data": {
      "text/html": [
       "<div>\n",
       "<style scoped>\n",
       "    .dataframe tbody tr th:only-of-type {\n",
       "        vertical-align: middle;\n",
       "    }\n",
       "\n",
       "    .dataframe tbody tr th {\n",
       "        vertical-align: top;\n",
       "    }\n",
       "\n",
       "    .dataframe thead th {\n",
       "        text-align: right;\n",
       "    }\n",
       "</style>\n",
       "<table border=\"1\" class=\"dataframe\">\n",
       "  <thead>\n",
       "    <tr style=\"text-align: right;\">\n",
       "      <th></th>\n",
       "      <th>variable</th>\n",
       "      <th>importance</th>\n",
       "    </tr>\n",
       "  </thead>\n",
       "  <tbody>\n",
       "    <tr>\n",
       "      <th>53</th>\n",
       "      <td>NaN</td>\n",
       "      <td>0.553725</td>\n",
       "    </tr>\n",
       "    <tr>\n",
       "      <th>5</th>\n",
       "      <td>name_title_Miss</td>\n",
       "      <td>0.252415</td>\n",
       "    </tr>\n",
       "    <tr>\n",
       "      <th>0</th>\n",
       "      <td>name_len</td>\n",
       "      <td>0.095847</td>\n",
       "    </tr>\n",
       "    <tr>\n",
       "      <th>3</th>\n",
       "      <td>pclass_2nd</td>\n",
       "      <td>0.063084</td>\n",
       "    </tr>\n",
       "    <tr>\n",
       "      <th>1</th>\n",
       "      <td>age_flag</td>\n",
       "      <td>0.034928</td>\n",
       "    </tr>\n",
       "    <tr>\n",
       "      <th>29</th>\n",
       "      <td>name_title_Thomas</td>\n",
       "      <td>0.000000</td>\n",
       "    </tr>\n",
       "    <tr>\n",
       "      <th>31</th>\n",
       "      <td>name_title_Delia</td>\n",
       "      <td>0.000000</td>\n",
       "    </tr>\n",
       "    <tr>\n",
       "      <th>32</th>\n",
       "      <td>name_title_Jenny</td>\n",
       "      <td>0.000000</td>\n",
       "    </tr>\n",
       "    <tr>\n",
       "      <th>33</th>\n",
       "      <td>name_title_Oscar</td>\n",
       "      <td>0.000000</td>\n",
       "    </tr>\n",
       "    <tr>\n",
       "      <th>34</th>\n",
       "      <td>name_title_Nils</td>\n",
       "      <td>0.000000</td>\n",
       "    </tr>\n",
       "    <tr>\n",
       "      <th>35</th>\n",
       "      <td>name_title_Eino</td>\n",
       "      <td>0.000000</td>\n",
       "    </tr>\n",
       "    <tr>\n",
       "      <th>36</th>\n",
       "      <td>name_title_Albert</td>\n",
       "      <td>0.000000</td>\n",
       "    </tr>\n",
       "    <tr>\n",
       "      <th>37</th>\n",
       "      <td>name_title_W.</td>\n",
       "      <td>0.000000</td>\n",
       "    </tr>\n",
       "    <tr>\n",
       "      <th>38</th>\n",
       "      <td>name_title_Sander</td>\n",
       "      <td>0.000000</td>\n",
       "    </tr>\n",
       "    <tr>\n",
       "      <th>39</th>\n",
       "      <td>name_title_Richard</td>\n",
       "      <td>0.000000</td>\n",
       "    </tr>\n",
       "    <tr>\n",
       "      <th>40</th>\n",
       "      <td>name_title_Mansouer</td>\n",
       "      <td>0.000000</td>\n",
       "    </tr>\n",
       "    <tr>\n",
       "      <th>41</th>\n",
       "      <td>name_title_Nikolai</td>\n",
       "      <td>0.000000</td>\n",
       "    </tr>\n",
       "    <tr>\n",
       "      <th>42</th>\n",
       "      <td>name_title_Khalil</td>\n",
       "      <td>0.000000</td>\n",
       "    </tr>\n",
       "    <tr>\n",
       "      <th>43</th>\n",
       "      <td>name_title_Simon</td>\n",
       "      <td>0.000000</td>\n",
       "    </tr>\n",
       "    <tr>\n",
       "      <th>44</th>\n",
       "      <td>name_title_William</td>\n",
       "      <td>0.000000</td>\n",
       "    </tr>\n",
       "  </tbody>\n",
       "</table>\n",
       "</div>"
      ],
      "text/plain": [
       "               variable  importance\n",
       "53                  NaN    0.553725\n",
       "5       name_title_Miss    0.252415\n",
       "0              name_len    0.095847\n",
       "3            pclass_2nd    0.063084\n",
       "1              age_flag    0.034928\n",
       "29    name_title_Thomas    0.000000\n",
       "31     name_title_Delia    0.000000\n",
       "32     name_title_Jenny    0.000000\n",
       "33     name_title_Oscar    0.000000\n",
       "34      name_title_Nils    0.000000\n",
       "35      name_title_Eino    0.000000\n",
       "36    name_title_Albert    0.000000\n",
       "37        name_title_W.    0.000000\n",
       "38    name_title_Sander    0.000000\n",
       "39   name_title_Richard    0.000000\n",
       "40  name_title_Mansouer    0.000000\n",
       "41   name_title_Nikolai    0.000000\n",
       "42    name_title_Khalil    0.000000\n",
       "43     name_title_Simon    0.000000\n",
       "44   name_title_William    0.000000"
      ]
     },
     "execution_count": 31,
     "metadata": {},
     "output_type": "execute_result"
    }
   ],
   "source": [
    "pd.concat([pd.DataFrame(trainX.iloc[:,1:].columns, columns=['variable']),\n",
    "         pd.DataFrame(model.feature_importances_, columns=['importance'])],\n",
    "         axis=1).sort_values(by='importance', ascending=False)[:20]"
   ]
  }
 ],
 "metadata": {
  "kernelspec": {
   "display_name": "Python 3",
   "language": "python",
   "name": "python3"
  },
  "language_info": {
   "codemirror_mode": {
    "name": "ipython",
    "version": 3
   },
   "file_extension": ".py",
   "mimetype": "text/x-python",
   "name": "python",
   "nbconvert_exporter": "python",
   "pygments_lexer": "ipython3",
   "version": "3.6.4"
  }
 },
 "nbformat": 4,
 "nbformat_minor": 1
}
