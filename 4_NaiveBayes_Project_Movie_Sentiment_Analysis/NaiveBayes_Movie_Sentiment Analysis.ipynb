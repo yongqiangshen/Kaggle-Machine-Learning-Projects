{
 "cells": [
  {
   "cell_type": "markdown",
   "metadata": {
    "_cell_guid": "9fc86914-828d-4a46-ba7f-c1f4980e1cc9",
    "_uuid": "89d41aa529dd673b83937281bec04f0a75af8b54"
   },
   "source": [
    "# Movie Sentiment Analysis\n",
    "https://www.kaggle.com/c/word2vec-nlp-tutorial/"
   ]
  },
  {
   "cell_type": "code",
   "execution_count": 1,
   "metadata": {
    "_cell_guid": "a89760f4-9075-42be-b4c4-c8c87d175c88",
    "_uuid": "4429a082ddabcb23261daec29ee1ae9e68ba2a2e"
   },
   "outputs": [
    {
     "data": {
      "text/html": [
       "<div>\n",
       "<style scoped>\n",
       "    .dataframe tbody tr th:only-of-type {\n",
       "        vertical-align: middle;\n",
       "    }\n",
       "\n",
       "    .dataframe tbody tr th {\n",
       "        vertical-align: top;\n",
       "    }\n",
       "\n",
       "    .dataframe thead th {\n",
       "        text-align: right;\n",
       "    }\n",
       "</style>\n",
       "<table border=\"1\" class=\"dataframe\">\n",
       "  <thead>\n",
       "    <tr style=\"text-align: right;\">\n",
       "      <th></th>\n",
       "      <th>id</th>\n",
       "      <th>sentiment</th>\n",
       "      <th>review</th>\n",
       "    </tr>\n",
       "  </thead>\n",
       "  <tbody>\n",
       "    <tr>\n",
       "      <th>0</th>\n",
       "      <td>5814_8</td>\n",
       "      <td>1</td>\n",
       "      <td>With all this stuff going down at the moment w...</td>\n",
       "    </tr>\n",
       "    <tr>\n",
       "      <th>1</th>\n",
       "      <td>2381_9</td>\n",
       "      <td>1</td>\n",
       "      <td>\\The Classic War of the Worlds\\\" by Timothy Hi...</td>\n",
       "    </tr>\n",
       "    <tr>\n",
       "      <th>2</th>\n",
       "      <td>7759_3</td>\n",
       "      <td>0</td>\n",
       "      <td>The film starts with a manager (Nicholas Bell)...</td>\n",
       "    </tr>\n",
       "    <tr>\n",
       "      <th>3</th>\n",
       "      <td>3630_4</td>\n",
       "      <td>0</td>\n",
       "      <td>It must be assumed that those who praised this...</td>\n",
       "    </tr>\n",
       "    <tr>\n",
       "      <th>4</th>\n",
       "      <td>9495_8</td>\n",
       "      <td>1</td>\n",
       "      <td>Superbly trashy and wondrously unpretentious 8...</td>\n",
       "    </tr>\n",
       "  </tbody>\n",
       "</table>\n",
       "</div>"
      ],
      "text/plain": [
       "       id  sentiment                                             review\n",
       "0  5814_8          1  With all this stuff going down at the moment w...\n",
       "1  2381_9          1  \\The Classic War of the Worlds\\\" by Timothy Hi...\n",
       "2  7759_3          0  The film starts with a manager (Nicholas Bell)...\n",
       "3  3630_4          0  It must be assumed that those who praised this...\n",
       "4  9495_8          1  Superbly trashy and wondrously unpretentious 8..."
      ]
     },
     "execution_count": 1,
     "metadata": {},
     "output_type": "execute_result"
    }
   ],
   "source": [
    "import numpy as np \n",
    "import pandas as pd \n",
    "import matplotlib.pyplot as plt \n",
    "\n",
    "import pandas as pd\n",
    "\n",
    "\n",
    "train = pd.read_csv('labeledTrainData.tsv', delimiter=\"\\t\")\n",
    "test = pd.read_csv('testData.tsv', delimiter=\"\\t\")\n",
    "train.head()                "
   ]
  },
  {
   "cell_type": "code",
   "execution_count": 2,
   "metadata": {
    "_cell_guid": "76be376a-0c66-4001-ac99-9b968ce62781",
    "_uuid": "bc7497787d1d19eee918fec0faabe29669a8b3fb"
   },
   "outputs": [
    {
     "name": "stdout",
     "output_type": "stream",
     "text": [
      "(25000, 3)\n",
      "(25000, 2)\n"
     ]
    }
   ],
   "source": [
    "print (train.shape)\n",
    "print (test.shape)"
   ]
  },
  {
   "cell_type": "markdown",
   "metadata": {
    "_cell_guid": "45dcacb4-53c6-46ff-b738-36aa68fc896f",
    "_uuid": "f8e259bb2ef260294478c4ec7929cdd10b68d84a"
   },
   "source": [
    "Investigate the data"
   ]
  },
  {
   "cell_type": "code",
   "execution_count": 3,
   "metadata": {
    "_cell_guid": "e4415b37-0855-49bd-8926-afe63c668268",
    "_uuid": "1d737630d3f2df2b3d28355f57cabbf594c2bf23"
   },
   "outputs": [],
   "source": [
    "y_train = train['sentiment']\n"
   ]
  },
  {
   "cell_type": "code",
   "execution_count": 4,
   "metadata": {
    "_cell_guid": "708ea854-0c20-4ac0-97b7-90075d8f63c4",
    "_uuid": "ad1c1cf6085fdf9d83c34c68b324f1c73e710315"
   },
   "outputs": [
    {
     "name": "stdout",
     "output_type": "stream",
     "text": [
      "training process line:  0\n",
      "training process line:  1000\n",
      "training process line:  2000\n",
      "training process line:  3000\n",
      "training process line:  4000\n",
      "training process line:  5000\n",
      "training process line:  6000\n",
      "training process line:  7000\n",
      "training process line:  8000\n",
      "training process line:  9000\n",
      "training process line:  10000\n",
      "training process line:  11000\n",
      "training process line:  12000\n",
      "training process line:  13000\n",
      "training process line:  14000\n",
      "training process line:  15000\n",
      "training process line:  16000\n",
      "training process line:  17000\n",
      "training process line:  18000\n",
      "training process line:  19000\n",
      "training process line:  20000\n",
      "training process line:  21000\n",
      "training process line:  22000\n",
      "training process line:  23000\n",
      "training process line:  24000\n",
      "testing process line:  0\n",
      "testing process line:  1000\n",
      "testing process line:  2000\n",
      "testing process line:  3000\n",
      "testing process line:  4000\n",
      "testing process line:  5000\n",
      "testing process line:  6000\n",
      "testing process line:  7000\n",
      "testing process line:  8000\n",
      "testing process line:  9000\n",
      "testing process line:  10000\n",
      "testing process line:  11000\n",
      "testing process line:  12000\n",
      "testing process line:  13000\n",
      "testing process line:  14000\n",
      "testing process line:  15000\n",
      "testing process line:  16000\n",
      "testing process line:  17000\n",
      "testing process line:  18000\n",
      "testing process line:  19000\n",
      "testing process line:  20000\n",
      "testing process line:  21000\n",
      "testing process line:  22000\n",
      "testing process line:  23000\n",
      "testing process line:  24000\n"
     ]
    }
   ],
   "source": [
    "import re  \n",
    "\n",
    "def review_to_wordlist(review):\n",
    "#     print(review)\n",
    "\n",
    "#   Keep letters\n",
    "    review_text = re.sub(\"[^a-zA-Z]\",\" \", review)\n",
    "#     print (review_text)\n",
    "    \n",
    "#   Change to lower case\n",
    "    words = review_text.lower()\n",
    "    \n",
    "    return(words)\n",
    "\n",
    "y_train = train['sentiment']\n",
    "train_data = []\n",
    "\n",
    "for i in range(0,len(train['review'])):\n",
    "    if i % 1000 == 0:\n",
    "        print ('training process line: ', str(i))\n",
    "    train_data.append(review_to_wordlist(train['review'][i]))\n",
    "        \n",
    "train_data = np.array(train_data)\n",
    "test_data = []\n",
    "for i in range(0,len(test['review'])):\n",
    "    if i % 1000 == 0:\n",
    "        print ('testing process line: ', str(i))\n",
    "    test_data.append(review_to_wordlist(test['review'][i]))\n",
    "    \n",
    "test_data = np.array(test_data)"
   ]
  },
  {
   "cell_type": "code",
   "execution_count": 8,
   "metadata": {
    "_cell_guid": "2514583c-d410-4dd8-9ce2-db907d4e3750",
    "_uuid": "83cd36c185194d6513246af09afb76e20241b380"
   },
   "outputs": [],
   "source": [
    "from sklearn.feature_extraction.text import CountVectorizer \n",
    "from sklearn.feature_extraction.text import TfidfVectorizer\n",
    "\n",
    "vectorizer = CountVectorizer()\n",
    "\n",
    "\n",
    "data_train_count = vectorizer.fit_transform(train_data)\n",
    "data_test_count  = vectorizer.transform(test_data)\n",
    "\n",
    "tfidf = TfidfVectorizer(\n",
    "            ngram_range=(1, 3),  \n",
    "            use_idf=1,\n",
    "            smooth_idf=1,\n",
    "            stop_words = 'english') \n",
    "\n",
    "\n",
    "data_train_count_tf = tfidf.fit_transform(train_data)\n",
    "data_test_count_tf  = vectorizer.transform(test_data)\n"
   ]
  },
  {
   "cell_type": "code",
   "execution_count": null,
   "metadata": {
    "_cell_guid": "aea2b80a-5aca-4d0a-992f-1585c7a9ef62",
    "_uuid": "87e7ad9872285cf1460afcc8eeae3af9f9438bd4"
   },
   "outputs": [],
   "source": [
    "# print (data_train_count.shape, y_train.shape, data_test_count.shape)\n",
    "# print (data_train_count_tf)\n",
    "\n",
    "\n",
    "word_freq_df = pd.DataFrame({'term': tfidf.get_feature_names(), 'tfidf':data_train_count_tf.toarray().sum(axis=0)})\n",
    "plt.plot(word_freq_df.occurrences)\n",
    "\n",
    "plt.show() \n",
    "\n",
    "\n",
    "word_freq_df_sort = word_freq_df.sort_values(by=['tfidf'], ascending=False)\n",
    "word_freq_df_sort.head()"
   ]
  },
  {
   "cell_type": "code",
   "execution_count": null,
   "metadata": {
    "_cell_guid": "a50a42b3-659d-470d-bef6-cc96d4b87935",
    "_uuid": "1df60d0c5595dbef07726f082c0c25336be8f56c"
   },
   "outputs": [],
   "source": [
    "from sklearn.naive_bayes import MultinomialNB \n",
    "\n",
    "clf = MultinomialNB()\n",
    "clf.fit(data_train_count, y_train)\n",
    "from sklearn.model_selection import cross_val_score\n",
    "import numpy as np\n",
    "\n",
    "print (\"MultinomialNB cross val score: \", np.mean(cross_val_score(clf, data_train_count, y_train, cv=10, scoring='accuracy')))\n",
    "\n",
    "print (\"MultinomialNB cross val score: \", np.mean(cross_val_score(clf, data_train_count_tf, y_train, cv=10, scoring='accuracy')))\n"
   ]
  },
  {
   "cell_type": "code",
   "execution_count": null,
   "metadata": {
    "_cell_guid": "92e53d2f-36a2-4563-94be-bd4180d91ce6",
    "_uuid": "f87c65946b352d663140864a1ee81adc7b3c94dd"
   },
   "outputs": [],
   "source": [
    "pred = clf.predict(data_test_count)\n",
    "print (pred)\n",
    "\n",
    "df = pd.DataFrame({\"id\": test['id'],\"sentiment\": pred})\n",
    "\n",
    "df.to_csv('submission.csv',index = False, header=True)"
   ]
  },
  {
   "cell_type": "code",
   "execution_count": null,
   "metadata": {},
   "outputs": [],
   "source": []
  }
 ],
 "metadata": {
  "kernelspec": {
   "display_name": "Python 3",
   "language": "python",
   "name": "python3"
  },
  "language_info": {
   "codemirror_mode": {
    "name": "ipython",
    "version": 3
   },
   "file_extension": ".py",
   "mimetype": "text/x-python",
   "name": "python",
   "nbconvert_exporter": "python",
   "pygments_lexer": "ipython3",
   "version": "3.6.4"
  }
 },
 "nbformat": 4,
 "nbformat_minor": 1
}
