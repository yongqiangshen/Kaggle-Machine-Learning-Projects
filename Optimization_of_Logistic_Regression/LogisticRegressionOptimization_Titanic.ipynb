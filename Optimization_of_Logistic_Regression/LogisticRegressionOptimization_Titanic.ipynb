{
 "cells": [
  {
   "cell_type": "markdown",
   "metadata": {
    "_cell_guid": "79129f64-a8b5-427a-8230-68ad75ea7dc8",
    "_uuid": "d6b8304f8a62031e828d942bd1113a4bb0b3771e"
   },
   "source": [
    "预测Titanic乘客逃生"
   ]
  },
  {
   "cell_type": "code",
   "execution_count": 1,
   "metadata": {
    "_cell_guid": "47095f32-cb17-44ed-873c-50ca60a4dad5",
    "_uuid": "74db1051ccd3e62a5bd9a64b1011012e4e7bedbe"
   },
   "outputs": [],
   "source": [
    "import numpy as np # 数组常用库\n",
    "import pandas as pd # 读入csv常用库\n",
    "from patsy import dmatrices # 可根据离散变量自动生成哑变量\n",
    "from sklearn.linear_model import LogisticRegression # sk-learn库Logistic Regression模型\n",
    "from sklearn.model_selection import train_test_split, cross_val_score # sk-learn库训练与测试\n",
    "from sklearn import metrics # 生成各项测试指标库\n",
    "import matplotlib.pyplot as plt # 画图常用库"
   ]
  },
  {
   "cell_type": "markdown",
   "metadata": {
    "_cell_guid": "88c0d5e5-6447-46fc-9895-e065fe6eaba8",
    "_uuid": "08cc2da91c84febb0e781cdd0acd3236eafdc974"
   },
   "source": [
    "从../input/train.csv读入数据"
   ]
  },
  {
   "cell_type": "code",
   "execution_count": 2,
   "metadata": {
    "_cell_guid": "26d66d05-6808-4c3b-9458-cdb5d9cb9c87",
    "_uuid": "1a31f8b687472b7c47430e70f58469621c3072c1"
   },
   "outputs": [],
   "source": [
    "data = pd.read_csv('train.csv')"
   ]
  },
  {
   "cell_type": "markdown",
   "metadata": {
    "_cell_guid": "42292a5e-6f6f-40cd-a4d6-e4fee9c68f5c",
    "_uuid": "11f8b900c6ad316f9206d3354cc72223ce6c0820"
   },
   "source": [
    "删除不需要的列以及含有NA值的行"
   ]
  },
  {
   "cell_type": "code",
   "execution_count": 3,
   "metadata": {
    "_cell_guid": "0b5877d5-3829-4058-b8a4-2a9979c9a704",
    "_uuid": "05279a6be237ed2fdce4d1432693c31a96e2caee"
   },
   "outputs": [],
   "source": [
    "#embarked Port of Embarkation C = Cherbourg, Q = Queenstown, S = Southampton\n",
    "data = data.drop(['Ticket', 'Cabin'], axis = 1)\n",
    "data = data.dropna()"
   ]
  },
  {
   "cell_type": "code",
   "execution_count": 4,
   "metadata": {
    "_cell_guid": "61b87c4d-a210-477d-ba13-6b26e8f57952",
    "_uuid": "8897341a09b43bc762773ff83fd9cc8c0b4c3dca"
   },
   "outputs": [
    {
     "data": {
      "text/plain": [
       "712"
      ]
     },
     "execution_count": 4,
     "metadata": {},
     "output_type": "execute_result"
    }
   ],
   "source": [
    "len(data.index)"
   ]
  },
  {
   "cell_type": "markdown",
   "metadata": {
    "_cell_guid": "f6583dae-f48a-4409-a276-82416b78ae7b",
    "_uuid": "f0dae85833bffecb88bf3ceda496189fc4a2da13"
   },
   "source": [
    "观察逃生人数与未逃生人数"
   ]
  },
  {
   "cell_type": "code",
   "execution_count": 5,
   "metadata": {
    "_cell_guid": "48611a3a-c56a-43a5-94f4-9fbd5c61ca6b",
    "_uuid": "7c91228b1c356af0820615619e610a84642a7d68"
   },
   "outputs": [
    {
     "data": {
      "image/png": "[encoded data removed]",
      "text/plain": [
       "<matplotlib.figure.Figure at 0x10a72aa58>"
      ]
     },
     "metadata": {},
     "output_type": "display_data"
    }
   ],
   "source": [
    "data.Survived.value_counts().plot(kind='bar')\n",
    "plt.xlabel('Survived')\n",
    "plt.show()"
   ]
  },
  {
   "cell_type": "markdown",
   "metadata": {
    "_cell_guid": "158d049b-74cb-470f-9320-66b6f5971bfe",
    "_uuid": "115f648b45c3b7d32ce138e5d100375db50f7cf9"
   },
   "source": [
    "观察女性逃生人数"
   ]
  },
  {
   "cell_type": "code",
   "execution_count": 6,
   "metadata": {
    "_cell_guid": "f7c4c1ca-1e61-488d-ad23-da2d90efc616",
    "_uuid": "fe58d9437f4f83a1d8da82e51d86efda4eac05a9"
   },
   "outputs": [
    {
     "data": {
      "image/png": "[encoded data removed]",
      "text/plain": [
       "<matplotlib.figure.Figure at 0x10a75d630>"
      ]
     },
     "metadata": {},
     "output_type": "display_data"
    }
   ],
   "source": [
    "female = data.Survived[data.Sex == 'female'].value_counts().sort_index()\n",
    "female.plot(kind='barh', color='blue', label='Female')\n",
    "plt.show()"
   ]
  },
  {
   "cell_type": "markdown",
   "metadata": {
    "_cell_guid": "b66dcfe6-db1b-43e3-b11b-6742a85ded87",
    "_uuid": "c6ea4f1f9100dd55a7ecfcc424b70b27122b60e1"
   },
   "source": [
    "观察男性逃生人数"
   ]
  },
  {
   "cell_type": "code",
   "execution_count": 7,
   "metadata": {
    "_cell_guid": "a698c38f-4300-4518-8bc6-e5caa778e4e8",
    "_uuid": "5b4f82334f5b9691242e3d9d6f138dde93f2c7b4"
   },
   "outputs": [
    {
     "data": {
      "image/png": "[encoded data removed]",
      "text/plain": [
       "<matplotlib.figure.Figure at 0x1047fd6a0>"
      ]
     },
     "metadata": {},
     "output_type": "display_data"
    }
   ],
   "source": [
    "male = data.Survived[data.Sex == 'male'].value_counts().sort_index()\n",
    "male.plot(kind='barh',label='Male', color='red')\n",
    "plt.show()"
   ]
  },
  {
   "cell_type": "markdown",
   "metadata": {
    "_cell_guid": "0a26b6d8-62cd-4784-b69e-6e448a091483",
    "_uuid": "961b4e9bcf3e753d58495bfe62d50acb081a5a66"
   },
   "source": [
    "观察非低等舱逃生情况"
   ]
  },
  {
   "cell_type": "code",
   "execution_count": 8,
   "metadata": {
    "_cell_guid": "0e44af53-797b-4067-a32c-39383f02a68c",
    "_uuid": "ef9f8a8f3640c8a12f6c2250932806b1ae976033"
   },
   "outputs": [
    {
     "data": {
      "image/png": "[encoded data removed]",
      "text/plain": [
       "<matplotlib.figure.Figure at 0x104840a90>"
      ]
     },
     "metadata": {},
     "output_type": "display_data"
    }
   ],
   "source": [
    "highclass = data.Survived[data.Pclass != 3].value_counts().sort_index()\n",
    "highclass.plot(kind='bar',label='Highclass', color='red', alpha=0.6)\n",
    "plt.show()"
   ]
  },
  {
   "cell_type": "markdown",
   "metadata": {
    "_cell_guid": "e3efaa71-fa3f-428d-b1e4-192cdac64316",
    "_uuid": "3503be0bcf854e19f18e51cbeb3613b339a01eab"
   },
   "source": [
    "观察低等舱逃生情况"
   ]
  },
  {
   "cell_type": "code",
   "execution_count": 9,
   "metadata": {
    "_cell_guid": "2d1be643-22f8-4bbf-a392-ab956fea5e55",
    "_uuid": "0dfe7f0dc61dd08a2972785a47c4027b806b1ded"
   },
   "outputs": [
    {
     "data": {
      "image/png": "[encoded data removed]",
      "text/plain": [
       "<matplotlib.figure.Figure at 0x10bc04438>"
      ]
     },
     "metadata": {},
     "output_type": "display_data"
    }
   ],
   "source": [
    "lowclass = data.Survived[data.Pclass == 3].value_counts().sort_index()\n",
    "lowclass.plot(kind='bar',label='Highclass', color='Blue', alpha=0.6)\n",
    "plt.show()"
   ]
  },
  {
   "cell_type": "markdown",
   "metadata": {
    "_cell_guid": "03d87dd0-b7da-43ea-ba4c-34530200f826",
    "_uuid": "306d909efae3274cee0fe191530eff4c55181bfa"
   },
   "source": [
    "dmatrices将数据中的离散变量变成哑变量，并指明用Pclass, Sex, Embarked来预测Survived"
   ]
  },
  {
   "cell_type": "code",
   "execution_count": 10,
   "metadata": {
    "_cell_guid": "074bc374-6bf4-4bcd-9b1b-33596ee47c2e",
    "_uuid": "bbae62300d4af7b65900e032e426b0375ea4dcb6"
   },
   "outputs": [],
   "source": [
    "y, X = dmatrices('Survived~ C(Pclass) + C(Sex) + Age + C(Embarked)', data = data, return_type='dataframe')\n",
    "y = np.ravel(y)"
   ]
  },
  {
   "cell_type": "code",
   "execution_count": 11,
   "metadata": {
    "_cell_guid": "17aeb659-f2aa-4347-b5f3-8c57a4db50eb",
    "_uuid": "05014571cbe1eeb062c174ab5151cc1c6dd85d24"
   },
   "outputs": [],
   "source": [
    "model = LogisticRegression()"
   ]
  },
  {
   "cell_type": "code",
   "execution_count": 12,
   "metadata": {
    "_cell_guid": "aaa7cb96-f63f-4bb3-8f19-5c6cc1d1dc15",
    "_uuid": "d304ef8e2bdd7a97743a4c9451c2a96da7932879"
   },
   "outputs": [
    {
     "data": {
      "text/plain": [
       "LogisticRegression(C=1.0, class_weight=None, dual=False, fit_intercept=True,\n",
       "          intercept_scaling=1, max_iter=100, multi_class='ovr', n_jobs=1,\n",
       "          penalty='l2', random_state=None, solver='liblinear', tol=0.0001,\n",
       "          verbose=0, warm_start=False)"
      ]
     },
     "execution_count": 12,
     "metadata": {},
     "output_type": "execute_result"
    }
   ],
   "source": [
    "model.fit(X, y)"
   ]
  },
  {
   "cell_type": "markdown",
   "metadata": {
    "_cell_guid": "73b22e28-837f-4831-84d8-407e58adfca4",
    "_uuid": "65d49e0fe981981bf3433fa65c07541334c4d6ae"
   },
   "source": [
    "输出训练准确率"
   ]
  },
  {
   "cell_type": "code",
   "execution_count": 13,
   "metadata": {
    "_cell_guid": "c8ce8ccb-fef7-42cb-9e81-042027d52fc0",
    "_uuid": "18b63fb25942cdde96ddb9aa33f9425679b2704e"
   },
   "outputs": [
    {
     "data": {
      "text/plain": [
       "0.7935393258426966"
      ]
     },
     "execution_count": 13,
     "metadata": {},
     "output_type": "execute_result"
    }
   ],
   "source": [
    "model.score(X, y)"
   ]
  },
  {
   "cell_type": "markdown",
   "metadata": {
    "_cell_guid": "6d12576e-bdcd-4609-8406-7b40123eab01",
    "_uuid": "0832113cc2ea3598e59d4b5bdfad4e275459dfae"
   },
   "source": [
    "输出空模型的正确率：空模型预测所有人都未逃生"
   ]
  },
  {
   "cell_type": "code",
   "execution_count": 14,
   "metadata": {
    "_cell_guid": "187755ba-115d-4656-8623-dfe5839d2302",
    "_uuid": "385135d50dd876a4ee3f5ad66cdc49e69f1e336a"
   },
   "outputs": [
    {
     "data": {
      "text/plain": [
       "0.5955056179775281"
      ]
     },
     "execution_count": 14,
     "metadata": {},
     "output_type": "execute_result"
    }
   ],
   "source": [
    "1 - y.mean()"
   ]
  },
  {
   "cell_type": "markdown",
   "metadata": {
    "_cell_guid": "940e9f36-c426-4358-83ca-bc83fbcc3ab9",
    "_uuid": "a0bf11a73cad2085b3302714e8383ede3d4d57dd"
   },
   "source": [
    "观察模型系数，即每种因素对于预测逃生的重要性"
   ]
  },
  {
   "cell_type": "code",
   "execution_count": 15,
   "metadata": {
    "_cell_guid": "3116d13c-1969-4af7-a4fc-56121861e15d",
    "_uuid": "2b48c15b05cd7772523461895a29d9c34ab0f48f"
   },
   "outputs": [
    {
     "data": {
      "text/html": [
       "<div>\n",
       "<style scoped>\n",
       "    .dataframe tbody tr th:only-of-type {\n",
       "        vertical-align: middle;\n",
       "    }\n",
       "\n",
       "    .dataframe tbody tr th {\n",
       "        vertical-align: top;\n",
       "    }\n",
       "\n",
       "    .dataframe thead th {\n",
       "        text-align: right;\n",
       "    }\n",
       "</style>\n",
       "<table border=\"1\" class=\"dataframe\">\n",
       "  <thead>\n",
       "    <tr style=\"text-align: right;\">\n",
       "      <th></th>\n",
       "      <th>0</th>\n",
       "      <th>1</th>\n",
       "    </tr>\n",
       "  </thead>\n",
       "  <tbody>\n",
       "    <tr>\n",
       "      <th>0</th>\n",
       "      <td>Intercept</td>\n",
       "      <td>[1.7146144391454305]</td>\n",
       "    </tr>\n",
       "    <tr>\n",
       "      <th>1</th>\n",
       "      <td>C(Pclass)[T.2]</td>\n",
       "      <td>[-0.8796488899193657]</td>\n",
       "    </tr>\n",
       "    <tr>\n",
       "      <th>2</th>\n",
       "      <td>C(Pclass)[T.3]</td>\n",
       "      <td>[-2.0750167332367195]</td>\n",
       "    </tr>\n",
       "    <tr>\n",
       "      <th>3</th>\n",
       "      <td>C(Sex)[T.male]</td>\n",
       "      <td>[-2.3246854059229527]</td>\n",
       "    </tr>\n",
       "    <tr>\n",
       "      <th>4</th>\n",
       "      <td>C(Embarked)[T.Q]</td>\n",
       "      <td>[-0.5866266183669434]</td>\n",
       "    </tr>\n",
       "    <tr>\n",
       "      <th>5</th>\n",
       "      <td>C(Embarked)[T.S]</td>\n",
       "      <td>[-0.42050534661112304]</td>\n",
       "    </tr>\n",
       "    <tr>\n",
       "      <th>6</th>\n",
       "      <td>Age</td>\n",
       "      <td>[-0.029619834454675236]</td>\n",
       "    </tr>\n",
       "  </tbody>\n",
       "</table>\n",
       "</div>"
      ],
      "text/plain": [
       "                  0                        1\n",
       "0         Intercept     [1.7146144391454305]\n",
       "1    C(Pclass)[T.2]    [-0.8796488899193657]\n",
       "2    C(Pclass)[T.3]    [-2.0750167332367195]\n",
       "3    C(Sex)[T.male]    [-2.3246854059229527]\n",
       "4  C(Embarked)[T.Q]    [-0.5866266183669434]\n",
       "5  C(Embarked)[T.S]   [-0.42050534661112304]\n",
       "6               Age  [-0.029619834454675236]"
      ]
     },
     "execution_count": 15,
     "metadata": {},
     "output_type": "execute_result"
    }
   ],
   "source": [
    "pd.DataFrame(list(zip(X.columns, np.transpose(model.coef_))))"
   ]
  },
  {
   "cell_type": "markdown",
   "metadata": {
    "_cell_guid": "bebff32a-c676-4e75-b8b0-11e8c59b89a0",
    "_uuid": "238df5eac307a8e0f9d038fe166ca60e01e8ff2a"
   },
   "source": [
    "对测试数据生成预测"
   ]
  },
  {
   "cell_type": "code",
   "execution_count": 16,
   "metadata": {
    "_cell_guid": "b2570cdf-a947-4d04-b5f3-6e2946d61cbb",
    "_uuid": "7b511ac0ac3679d90d5946f0ca1de5c1a7927031"
   },
   "outputs": [],
   "source": [
    "test_data = pd.read_csv('test.csv')"
   ]
  },
  {
   "cell_type": "code",
   "execution_count": 17,
   "metadata": {
    "_cell_guid": "b263110b-9290-4cf4-84dc-691f87a1ce3f",
    "_uuid": "4073ffd39e85192ba8b4f08e081bed97b33e52fe"
   },
   "outputs": [],
   "source": [
    "test_data['Survived'] = 1"
   ]
  },
  {
   "cell_type": "code",
   "execution_count": 18,
   "metadata": {
    "_cell_guid": "e2d6914f-5871-40d6-998f-a7dc2a809b11",
    "_uuid": "7e3db33c5f76a0f0d0808ef37224bdab9e0550b0"
   },
   "outputs": [],
   "source": [
    "ytest, Xtest = dmatrices('Survived~ C(Pclass) + C(Sex) + Age + C(Embarked)', data = data, return_type='dataframe')"
   ]
  },
  {
   "cell_type": "code",
   "execution_count": 19,
   "metadata": {
    "_cell_guid": "41c2d590-9c67-4948-a674-c00d9e80fe64",
    "_uuid": "d07cfed7bd99cdb14929c48083c24d2e5d3583d7"
   },
   "outputs": [],
   "source": [
    "pred = model.predict(Xtest).astype(int)\n",
    "solution = pd.DataFrame(list(zip(test_data['PassengerId'], pred)), columns=['PassengerID', 'Survived'])"
   ]
  },
  {
   "cell_type": "code",
   "execution_count": 20,
   "metadata": {
    "_cell_guid": "c748b82f-3297-478c-a1a7-3f37308ea516",
    "_uuid": "92e8b435535415df9d908b4f1bb9ee6ae8a0f8c0"
   },
   "outputs": [],
   "source": [
    "solution.to_csv('./my_prediction.csv', index = False)"
   ]
  },
  {
   "cell_type": "code",
   "execution_count": null,
   "metadata": {
    "_cell_guid": "4fee6fba-129b-4c15-ba04-937b5323f23e",
    "_uuid": "462c0d990df327d462aea3d4b83d849e50680640",
    "collapsed": true
   },
   "outputs": [],
   "source": []
  }
 ],
 "metadata": {
  "kernelspec": {
   "display_name": "Python 3",
   "language": "python",
   "name": "python3"
  },
  "language_info": {
   "codemirror_mode": {
    "name": "ipython",
    "version": 3
   },
   "file_extension": ".py",
   "mimetype": "text/x-python",
   "name": "python",
   "nbconvert_exporter": "python",
   "pygments_lexer": "ipython3",
   "version": "3.6.4"
  }
 },
 "nbformat": 4,
 "nbformat_minor": 1
}
