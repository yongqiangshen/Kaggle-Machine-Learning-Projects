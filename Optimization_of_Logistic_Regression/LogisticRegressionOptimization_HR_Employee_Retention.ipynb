{
 "cells": [
  {
   "cell_type": "markdown",
   "metadata": {
    "_cell_guid": "a3831ec7-2eac-4e85-bd06-d6db8db6869d",
    "_uuid": "d31ebf3dd76dc174bdd9ea243a342f458f0a25bc"
   },
   "source": [
    "# 手写Logistic Regression模型优化代码"
   ]
  },
  {
   "cell_type": "code",
   "execution_count": null,
   "metadata": {
    "_cell_guid": "3229eefa-8aa0-4525-bbdf-b6f07f3e284c",
    "_uuid": "aafec8dd35e0addf45069d7baa49b8d9b4940cd4",
    "collapsed": true
   },
   "outputs": [],
   "source": [
    "import numpy as np\n",
    "import pandas as pd\n",
    "from patsy import dmatrices\n",
    "from sklearn.linear_model import LogisticRegression\n",
    "from sklearn import metrics\n",
    "import matplotlib.pyplot as plt"
   ]
  },
  {
   "cell_type": "code",
   "execution_count": null,
   "metadata": {
    "_cell_guid": "956ec183-7792-49b7-b275-c3bf465348d5",
    "_uuid": "fa94c0e1478efcb9b472e37b7ab7de85131afd3d",
    "collapsed": true
   },
   "outputs": [],
   "source": [
    "data = pd.read_csv(\"../input/HR_comma_sep.csv\")"
   ]
  },
  {
   "cell_type": "code",
   "execution_count": null,
   "metadata": {
    "_cell_guid": "5e05b1bf-3330-4ef4-bf86-199a46b7f32a",
    "_uuid": "2a662d7aad0fac0bec395dee7d9232a55c287b63",
    "collapsed": true
   },
   "outputs": [],
   "source": [
    "data.left = data.left.astype(int)"
   ]
  },
  {
   "cell_type": "code",
   "execution_count": null,
   "metadata": {
    "_cell_guid": "b1b10abd-62c4-4874-ad8c-5f218eb4daaa",
    "_uuid": "ce815046b6271e7b510c8016e409f9ee319a2469",
    "collapsed": true
   },
   "outputs": [],
   "source": [
    "y, X = dmatrices('left~satisfaction_level+last_evaluation+number_project+average_montly_hours+time_spend_company+Work_accident+promotion_last_5years+C(sales)+C(salary)', data, return_type='dataframe')\n",
    "X = np.asmatrix(X)\n",
    "y = np.ravel(y)"
   ]
  },
  {
   "cell_type": "markdown",
   "metadata": {
    "_cell_guid": "4d90ad13-d78f-4791-825a-30bc9fb746a8",
    "_uuid": "79c675a5265bb83d1bf86fef9f03bd9e2f7b40ab"
   },
   "source": [
    "将所有列的值归一化到[0,1]区间"
   ]
  },
  {
   "cell_type": "code",
   "execution_count": null,
   "metadata": {
    "_cell_guid": "421fe330-ef64-4a78-968f-6ad11b3ac4c7",
    "_uuid": "9cc5b470052ba640ca77d6e68f372ef3725fbbe2",
    "collapsed": true
   },
   "outputs": [],
   "source": [
    "for i in range(1, X.shape[1]):\n",
    "    xmin = X[:,i].min()\n",
    "    xmax = X[:,i].max()\n",
    "    X[:, i] = (X[:, i] - xmin) / (xmax - xmin)"
   ]
  },
  {
   "cell_type": "code",
   "execution_count": null,
   "metadata": {
    "_cell_guid": "e2449303-b0c8-4c01-a705-f0daf8e5edb9",
    "_uuid": "c46f47dd6c93beda549b5289c16cbe7dba087670",
    "collapsed": true
   },
   "outputs": [],
   "source": [
    "np.random.seed(1)\n",
    "alpha = 1  # learning rate\n",
    "beta = np.random.randn(X.shape[1]) # 随机初始化参数beta\n",
    "for T in range(500):\n",
    "    prob = np.array(1. / (1 + np.exp(-np.matmul(X, beta)))).ravel()  # 根据当前beta预测离职的概率\n",
    "    prob_y = list(zip(prob, y))\n",
    "    loss = -sum([np.log(p) if y == 1 else np.log(1 - p) for p, y in prob_y]) / len(y) # 计算损失函数的值\n",
    "    error_rate = 0\n",
    "    for i in range(len(y)):\n",
    "        if ((prob[i] > 0.5 and y[i] == 0) or (prob[i] <= 0.5 and y[i] == 1)):\n",
    "            error_rate += 1;\n",
    "    error_rate /= len(y)\n",
    "    if T % 5 ==0 :\n",
    "        print('T=' + str(T) + ' loss=' + str(loss) + ' error=' + str(error_rate))\n",
    "    # 计算损失函数关于beta每个分量的导数\n",
    "    deriv = np.zeros(X.shape[1])\n",
    "    for i in range(len(y)):\n",
    "        deriv += np.asarray(X[i,:]).ravel() * (prob[i] - y[i])\n",
    "    deriv /= len(y)\n",
    "    # 沿导数相反方向修改beta\n",
    "    beta -= alpha * deriv"
   ]
  },
  {
   "cell_type": "code",
   "execution_count": null,
   "metadata": {
    "_cell_guid": "072ef887-5bb2-4965-adbf-f2112281419b",
    "_uuid": "4e775c187e5f23f981d7d60f7edef73a3ba0fc07",
    "collapsed": true
   },
   "outputs": [],
   "source": []
  }
 ],
 "metadata": {
  "kernelspec": {
   "display_name": "Python 3",
   "language": "python",
   "name": "python3"
  },
  "language_info": {
   "codemirror_mode": {
    "name": "ipython",
    "version": 3
   },
   "file_extension": ".py",
   "mimetype": "text/x-python",
   "name": "python",
   "nbconvert_exporter": "python",
   "pygments_lexer": "ipython3",
   "version": "3.6.4"
  }
 },
 "nbformat": 4,
 "nbformat_minor": 1
}
