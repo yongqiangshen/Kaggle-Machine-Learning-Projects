{
  "cells": [
    {
      "metadata": {
        "_cell_guid": "9fc86914-828d-4a46-ba7f-c1f4980e1cc9",
        "_uuid": "89d41aa529dd673b83937281bec04f0a75af8b54"
      },
      "cell_type": "markdown",
      "source": "# Movie Sentiment Analysis\nhttps://www.kaggle.com/c/word2vec-nlp-tutorial/"
    },
    {
      "metadata": {
        "_cell_guid": "d6b1ab40-34da-4645-98c4-4b61c97895f6",
        "_uuid": "0259bd59e4fad41ffd78aa5a510a83ef07daab7f",
        "collapsed": true
      },
      "cell_type": "markdown",
      "source": " 拿到数据首先读入拿到数据"
    },
    {
      "metadata": {
        "_cell_guid": "a89760f4-9075-42be-b4c4-c8c87d175c88",
        "_uuid": "4429a082ddabcb23261daec29ee1ae9e68ba2a2e",
        "collapsed": true,
        "trusted": false
      },
      "cell_type": "code",
      "source": "import numpy as np \nimport pandas as pd \nimport matplotlib.pyplot as plt # 画图常用库\n\nimport pandas as pd\n\n\ntrain = pd.read_csv('../input/labeledTrainData.tsv', delimiter=\"\\t\")\ntest = pd.read_csv('../input/testData.tsv', delimiter=\"\\t\")\ntrain.head()                ",
      "execution_count": null,
      "outputs": []
    },
    {
      "metadata": {
        "_cell_guid": "76be376a-0c66-4001-ac99-9b968ce62781",
        "_uuid": "bc7497787d1d19eee918fec0faabe29669a8b3fb",
        "collapsed": true,
        "trusted": false
      },
      "cell_type": "code",
      "source": "print (train.shape)\nprint (test.shape)",
      "execution_count": null,
      "outputs": []
    },
    {
      "metadata": {
        "_cell_guid": "45dcacb4-53c6-46ff-b738-36aa68fc896f",
        "_uuid": "f8e259bb2ef260294478c4ec7929cdd10b68d84a"
      },
      "cell_type": "markdown",
      "source": "查看一下数据"
    },
    {
      "metadata": {
        "_cell_guid": "e4415b37-0855-49bd-8926-afe63c668268",
        "_uuid": "1d737630d3f2df2b3d28355f57cabbf594c2bf23",
        "collapsed": true,
        "trusted": false
      },
      "cell_type": "code",
      "source": "y_train = train['sentiment']\n",
      "execution_count": null,
      "outputs": []
    },
    {
      "metadata": {
        "_cell_guid": "708ea854-0c20-4ac0-97b7-90075d8f63c4",
        "_uuid": "ad1c1cf6085fdf9d83c34c68b324f1c73e710315",
        "collapsed": true,
        "trusted": false
      },
      "cell_type": "code",
      "source": "import re  #正则表达式\n\ndef review_to_wordlist(review):\n#     print(review)\n\n#   只保留英文单词\n    review_text = re.sub(\"[^a-zA-Z]\",\" \", review)\n#     print (review_text)\n    \n#   变成小写\n    words = review_text.lower()\n    \n    return(words)\n\ny_train = train['sentiment']\ntrain_data = []\n\nfor i in range(0,len(train['review'])):\n    if i % 1000 == 0:\n        print ('training process line: ', str(i))\n    train_data.append(review_to_wordlist(train['review'][i]))\n        \ntrain_data = np.array(train_data)\ntest_data = []\nfor i in range(0,len(test['review'])):\n    if i % 1000 == 0:\n        print ('testing process line: ', str(i))\n    test_data.append(review_to_wordlist(test['review'][i]))\n    \ntest_data = np.array(test_data)",
      "execution_count": null,
      "outputs": []
    },
    {
      "metadata": {
        "_cell_guid": "2514583c-d410-4dd8-9ce2-db907d4e3750",
        "_uuid": "83cd36c185194d6513246af09afb76e20241b380",
        "collapsed": true,
        "trusted": false
      },
      "cell_type": "code",
      "source": "from sklearn.feature_extraction.text import CountVectorizer \nfrom sklearn.feature_extraction.text import TfidfVectorizer\n\n# vectorizer = CountVectorizer()\n\n\n# data_train_count = vectorizer.fit_transform(train_data)\n# data_test_count  = vectorizer.transform(test_data)\n\ntfidf = TfidfVectorizer(\n           ngram_range=(1, 3),  # 二元文法模型\n           use_idf=1,\n           smooth_idf=1,\n           stop_words = 'english') # 去掉英文停用词\n\n\ndata_train_count_tf = tfidf.fit_transform(train_data)\ndata_test_count_tf  = vectorizer.transform(test_data)\n",
      "execution_count": null,
      "outputs": []
    },
    {
      "metadata": {
        "_cell_guid": "aea2b80a-5aca-4d0a-992f-1585c7a9ef62",
        "_uuid": "87e7ad9872285cf1460afcc8eeae3af9f9438bd4",
        "collapsed": true,
        "trusted": false
      },
      "cell_type": "code",
      "source": "# print (data_train_count.shape, y_train.shape, data_test_count.shape)\n# print (data_train_count_tf)\n\n\nword_freq_df = pd.DataFrame({'term': tfidf.get_feature_names(), 'tfidf':data_train_count_tf.toarray().sum(axis=0)})\nplt.plot(word_freq_df.occurrences)\n\nplt.show() # 显示图形\n\n\nword_freq_df_sort = word_freq_df.sort_values(by=['tfidf'], ascending=False)\nword_freq_df_sort.head()",
      "execution_count": null,
      "outputs": []
    },
    {
      "metadata": {
        "_cell_guid": "a50a42b3-659d-470d-bef6-cc96d4b87935",
        "_uuid": "1df60d0c5595dbef07726f082c0c25336be8f56c",
        "collapsed": true,
        "trusted": false
      },
      "cell_type": "code",
      "source": "# 多项式朴素贝叶斯\nfrom sklearn.naive_bayes import MultinomialNB \n\nclf = MultinomialNB()\nclf.fit(data_train_count, y_train)\nfrom sklearn.model_selection import cross_val_score\nimport numpy as np\n\nprint (\"多项式贝叶斯分类器20折交叉验证得分: \", np.mean(cross_val_score(clf, data_train_count, y_train, cv=10, scoring='accuracy')))\n\nprint (\"多项式贝叶斯分类器20折交叉验证得分: \", np.mean(cross_val_score(clf, data_train_count_tf, y_train, cv=10, scoring='accuracy')))\n",
      "execution_count": null,
      "outputs": []
    },
    {
      "metadata": {
        "_cell_guid": "92e53d2f-36a2-4563-94be-bd4180d91ce6",
        "_uuid": "f87c65946b352d663140864a1ee81adc7b3c94dd",
        "collapsed": true,
        "trusted": false
      },
      "cell_type": "code",
      "source": "pred = clf.predict(data_test_count)\nprint (pred)\n\ndf = pd.DataFrame({\"id\": test['id'],\"sentiment\": pred})\n\ndf.to_csv('submission.csv',index = False, header=True)",
      "execution_count": null,
      "outputs": []
    }
  ],
  "metadata": {
    "kernelspec": {
      "display_name": "Python 3",
      "language": "python",
      "name": "python3"
    },
    "language_info": {
      "name": "python",
      "version": "3.6.4",
      "mimetype": "text/x-python",
      "codemirror_mode": {
        "name": "ipython",
        "version": 3
      },
      "pygments_lexer": "ipython3",
      "nbconvert_exporter": "python",
      "file_extension": ".py"
    }
  },
  "nbformat": 4,
  "nbformat_minor": 1
}