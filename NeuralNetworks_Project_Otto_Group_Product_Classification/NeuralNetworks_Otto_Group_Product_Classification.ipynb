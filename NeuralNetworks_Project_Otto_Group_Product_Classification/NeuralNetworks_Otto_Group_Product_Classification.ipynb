{
  "cells": [
    {
      "metadata": {
        "_cell_guid": "a5c5ab10-41fb-4b79-a80f-c2ca7008cf72",
        "_uuid": "b28875dfd2f001115ca5f21e6d442a9b034e6921"
      },
      "cell_type": "markdown",
      "source": "用神经网络对Otto商品分类预测"
    },
    {
      "metadata": {
        "_cell_guid": "55d22245-d607-44ef-97de-70376eaccc2e",
        "_uuid": "c28ffc59d9bae21c77351a3a8e5ee8b04020195b",
        "collapsed": true,
        "trusted": false
      },
      "cell_type": "code",
      "source": "import numpy as np\nimport pandas as pd\nfrom patsy import dmatrices\nfrom sklearn.neural_network import MLPClassifier\nfrom sklearn.model_selection import train_test_split, cross_val_score\nfrom sklearn import metrics\nimport matplotlib.pyplot as plt",
      "execution_count": null,
      "outputs": []
    },
    {
      "metadata": {
        "_cell_guid": "ec77c6c4-7610-48d4-ad87-3255cd9fac20",
        "_uuid": "7224513237dd6d88a22191b92f930247996e45e2"
      },
      "cell_type": "markdown",
      "source": "从./otto_train.csv读入数据"
    },
    {
      "metadata": {
        "_cell_guid": "e7035863-d3ee-46b7-9201-76269b463cc8",
        "_uuid": "66386ae1dfcb7a075016e4b129b6e66b2744ae8a",
        "collapsed": true,
        "trusted": false
      },
      "cell_type": "code",
      "source": "data = pd.read_csv('../input/train.csv')",
      "execution_count": null,
      "outputs": []
    },
    {
      "metadata": {
        "_cell_guid": "0ec7e598-8d47-466d-aa77-9274da36b268",
        "_uuid": "5160089a4d004a8d96cd3cc3e422246651d6b16d",
        "collapsed": true,
        "trusted": false
      },
      "cell_type": "code",
      "source": "data",
      "execution_count": null,
      "outputs": []
    },
    {
      "metadata": {
        "_cell_guid": "add00321-4b0d-47ec-9a70-34c7ef732833",
        "_uuid": "46112a3dd744da88616c7232fab363f21797e658",
        "collapsed": true,
        "trusted": false
      },
      "cell_type": "code",
      "source": "data.dtypes",
      "execution_count": null,
      "outputs": []
    },
    {
      "metadata": {
        "_cell_guid": "1787d0b3-1483-46e9-8da5-7446a5fc9fa4",
        "_uuid": "ce62924962274be4c6f9b4ddba06d7604e72bc26"
      },
      "cell_type": "markdown",
      "source": "数据中从第一列到倒数第二列是feature"
    },
    {
      "metadata": {
        "_cell_guid": "f61c23cb-ff41-4e12-8f93-d5cd7a5da316",
        "_uuid": "b608dc6749d03b2a3191e3d2da2946be14f1a05a",
        "collapsed": true,
        "trusted": false
      },
      "cell_type": "code",
      "source": "columns = data.columns[1:-1]",
      "execution_count": null,
      "outputs": []
    },
    {
      "metadata": {
        "_cell_guid": "c7979f04-640d-4564-b21c-4d15d9fc0ec2",
        "_uuid": "5548be36dec808f9cd9eb52b642c11b8c0361bf2",
        "collapsed": true,
        "trusted": false
      },
      "cell_type": "code",
      "source": "X = data[columns]",
      "execution_count": null,
      "outputs": []
    },
    {
      "metadata": {
        "_cell_guid": "70807051-3967-4465-baa7-ec5bc9572998",
        "_uuid": "ad5c97ca1570f62ede1960532d3898ae217f8265",
        "collapsed": true,
        "trusted": false
      },
      "cell_type": "code",
      "source": "y = np.ravel(data['target'])",
      "execution_count": null,
      "outputs": []
    },
    {
      "metadata": {
        "_cell_guid": "a924da3c-5b3c-40c3-a573-5fafe6745fc7",
        "_uuid": "2e38837fe41e7834dea5fb23902236ca5c9cc58b"
      },
      "cell_type": "markdown",
      "source": "观察商品种类的分布"
    },
    {
      "metadata": {
        "_cell_guid": "ba337c54-2d20-49d4-bf6d-61453e40e9b4",
        "_uuid": "e43a98e29ebf016916e47484c340b63930db9373",
        "collapsed": true,
        "trusted": false
      },
      "cell_type": "code",
      "source": "distribution = data.groupby('target').size() / data.shape[0] * 100.0\ndistribution.plot(kind='bar')\nplt.show()",
      "execution_count": null,
      "outputs": []
    },
    {
      "metadata": {
        "_cell_guid": "5926846b-abc0-4d82-ae42-bd3319cbc3dd",
        "_uuid": "69ee20253dd85071f4ec530f0d21144e0119d882"
      },
      "cell_type": "markdown",
      "source": "显示一个feature在不同类下的分布图"
    },
    {
      "metadata": {
        "_cell_guid": "396b19b1-c4e3-4ffa-8d84-9249970e327c",
        "_uuid": "ac1a1a17f5925bf7d8c86147c32b503fb9b4b9b7",
        "collapsed": true,
        "trusted": false
      },
      "cell_type": "code",
      "source": "for id in range(9):\n    plt.subplot(3, 3, id + 1) # 2行4列\n    # plt.axis('off') # 不显示坐标轴\n    data[data.target == 'Class_' + str(id + 1)].feat_20.hist()\nplt.show()    ",
      "execution_count": null,
      "outputs": []
    },
    {
      "metadata": {
        "_cell_guid": "21812469-4ac1-4aae-a904-6c4747cdbd15",
        "_uuid": "f902e1e3e83f4aab37fd5a29c9ef9cbc865256bc"
      },
      "cell_type": "markdown",
      "source": "显示两个feature的散点图"
    },
    {
      "metadata": {
        "_cell_guid": "f794fe4b-4168-41e3-9cc7-b6ab422e705f",
        "_uuid": "3411a7c37684bcef09089a47211c952669f0cc90",
        "collapsed": true,
        "trusted": false
      },
      "cell_type": "code",
      "source": "plt.scatter(data.feat_19, data.feat_20)\nplt.show()",
      "execution_count": null,
      "outputs": []
    },
    {
      "metadata": {
        "_cell_guid": "b4ff67ee-0c27-4d10-9961-9a5363f842b0",
        "_uuid": "3e511c73f8ef736877ab06a82d2944b409a61fa5"
      },
      "cell_type": "markdown",
      "source": "显示所有feature的相关系数矩阵"
    },
    {
      "metadata": {
        "_cell_guid": "c4b8478b-71db-4672-aa5b-a97d5d5900dd",
        "_uuid": "5a82e36b0f6c98e5860f880b60a8de85fac9c333",
        "collapsed": true,
        "trusted": false
      },
      "cell_type": "code",
      "source": "# show relationship between all pairs of features\n# correlation\n\nfig = plt.figure()\nax = fig.add_subplot(111) # 1 row, 1 col, 1st plot\ncax = ax.matshow(X.corr(), interpolation='nearest')\nfig.colorbar(cax)\nplt.show()",
      "execution_count": null,
      "outputs": []
    },
    {
      "metadata": {
        "_cell_guid": "efb666d3-8cc1-4dd7-a573-0f7cb9f73af6",
        "_uuid": "0933d79049305d8d5e8bab1fd45a8bc6617192a7",
        "collapsed": true,
        "trusted": false
      },
      "cell_type": "code",
      "source": "num_fea = X.shape[1]",
      "execution_count": null,
      "outputs": []
    },
    {
      "metadata": {
        "_cell_guid": "ef40a068-1da9-4a4c-b938-386d55bfea61",
        "_uuid": "5be5b9c3bb699b1ebea2b2fd9930072d21fb6024"
      },
      "cell_type": "markdown",
      "source": "初始化神经网络模型，两个隐藏层，整个网络为93x30x10x9"
    },
    {
      "metadata": {
        "_cell_guid": "553368af-1c76-4b3d-b85f-3f5c6d6f6954",
        "_uuid": "79d75c1b08db323a01095f5458df7dc70e8c0a96",
        "collapsed": true,
        "trusted": false
      },
      "cell_type": "code",
      "source": "#alpha is L-2 regularization coefficient\nmodel = MLPClassifier(solver='lbfgs', alpha=1e-5, hidden_layer_sizes = (30, 10), random_state = 1, verbose = True)",
      "execution_count": null,
      "outputs": []
    },
    {
      "metadata": {
        "_cell_guid": "e44be2ba-9e41-4674-901a-b077aae299cb",
        "_uuid": "9893983034871ffc14304b6856146576351bf7e2"
      },
      "cell_type": "markdown",
      "source": "训练模型需要约1分钟"
    },
    {
      "metadata": {
        "_cell_guid": "dc4c83f6-b5f0-491e-a5f4-43e364570d0d",
        "_uuid": "7d144fa5625768f2d2881cb9fa7076d189daa37f",
        "collapsed": true,
        "trusted": false
      },
      "cell_type": "code",
      "source": "model.fit(X, y)",
      "execution_count": null,
      "outputs": []
    },
    {
      "metadata": {
        "_cell_guid": "760a2ba4-5908-4f6e-a06a-eb6a5244dede",
        "_uuid": "0370bfb374b846adb43eb3eb5217cfb62fb771c4"
      },
      "cell_type": "markdown",
      "source": "观察模型系数和bias"
    },
    {
      "metadata": {
        "_cell_guid": "5a0c1123-0efb-4729-8079-d0093b69e8fd",
        "_uuid": "bfd8760dd8dd3241bd3733e5a8f9fcedbbef2ee3",
        "collapsed": true,
        "trusted": false
      },
      "cell_type": "code",
      "source": "model.intercepts_",
      "execution_count": null,
      "outputs": []
    },
    {
      "metadata": {
        "_cell_guid": "2c2c1804-7c31-4f28-8d6f-5cd800637cb2",
        "_uuid": "5e1946eafaaa1b19b275060c2bb88b369d5b8030",
        "collapsed": true,
        "trusted": false
      },
      "cell_type": "code",
      "source": "print(model.coefs_[0].shape)\nprint(model.coefs_[1].shape)\nprint(model.coefs_[2].shape)",
      "execution_count": null,
      "outputs": []
    },
    {
      "metadata": {
        "_cell_guid": "3b2c41a0-6551-4555-be4e-48bbd95d24be",
        "_uuid": "2c49a11871feeb65db2b638cd122f0dae29203a7",
        "collapsed": true,
        "trusted": false
      },
      "cell_type": "code",
      "source": "pred = model.predict(X)\npred",
      "execution_count": null,
      "outputs": []
    },
    {
      "metadata": {
        "_cell_guid": "7b45d4ed-2dc6-4d12-9a11-ec419ea573c1",
        "_uuid": "26d4032a003f3a07dba7371c5ad5e7c13929fc99"
      },
      "cell_type": "markdown",
      "source": "输出训练数据上的准确度"
    },
    {
      "metadata": {
        "_cell_guid": "0ac0764f-1729-4744-b130-06bbcb1272fc",
        "_uuid": "ddd237bfa2fc4b44ffc4ef6ad4d846d59dcf49c0",
        "collapsed": true,
        "trusted": false
      },
      "cell_type": "code",
      "source": "model.score(X, y)",
      "execution_count": null,
      "outputs": []
    },
    {
      "metadata": {
        "_cell_guid": "b1d9ac4b-aa2e-4978-aece-76ab94f628e3",
        "_uuid": "2a6e9e3f187a6c82c509de355a054225ae9d879f",
        "collapsed": true,
        "trusted": false
      },
      "cell_type": "code",
      "source": "sum(pred == y) / len(y)",
      "execution_count": null,
      "outputs": []
    },
    {
      "metadata": {
        "_cell_guid": "87c85e6a-ec2b-47b7-ac4d-8b2dca678a84",
        "_uuid": "5c113caf36d7f00f5d9c4f934e7f51634bf94f69"
      },
      "cell_type": "markdown",
      "source": "在测试数据上进行预测"
    },
    {
      "metadata": {
        "_cell_guid": "12885487-9097-469b-9bd2-ccb17075d4ca",
        "_uuid": "fff70477042c3030cee84cedca2ef72cdd7f8df6",
        "collapsed": true,
        "trusted": false
      },
      "cell_type": "code",
      "source": "test_data = pd.read_csv('../input/test.csv')\nXtest = test_data[test_data.columns[1:]]\nXtest",
      "execution_count": null,
      "outputs": []
    },
    {
      "metadata": {
        "_cell_guid": "38090ca7-68b1-4ab9-8482-c54750286c00",
        "_uuid": "b035fb08b0898d534ee2521a7fd324589598189e",
        "collapsed": true,
        "trusted": false
      },
      "cell_type": "code",
      "source": "test_prob = model.predict_proba(Xtest)",
      "execution_count": null,
      "outputs": []
    },
    {
      "metadata": {
        "_cell_guid": "c00b7b93-9ef5-4836-bf80-f4628f9b4580",
        "_uuid": "c33a3c68316cabc28026aa8c9270b280a3362bc0"
      },
      "cell_type": "markdown",
      "source": "输出为对每一个商品预测出的属于每一种类别的概率，并加入id列，输出到./otto_prediction.tsv里"
    },
    {
      "metadata": {
        "_cell_guid": "835d33f5-deb2-45bb-9c1e-c4ae3ce7b11d",
        "_uuid": "98ec0e45b8837ad4ceb551d2787d3b51c2b53b69",
        "collapsed": true,
        "trusted": false
      },
      "cell_type": "code",
      "source": "solution = pd.DataFrame(test_prob, columns=['Class_1','Class_2','Class_3','Class_4','Class_5','Class_6','Class_7','Class_8','Class_9'])\n",
      "execution_count": null,
      "outputs": []
    },
    {
      "metadata": {
        "_cell_guid": "0a4eaf8d-0aa8-4f89-9db3-e975eac62351",
        "_uuid": "3abec28b1679f1fcbd28b3a04678111741f7e3bc",
        "collapsed": true,
        "trusted": false
      },
      "cell_type": "code",
      "source": "solution['id'] = test_data['id']\ncols = solution.columns.tolist()\ncols = cols[-1:] + cols[:-1]\nsolution = solution[cols]",
      "execution_count": null,
      "outputs": []
    },
    {
      "metadata": {
        "_cell_guid": "b85d85d1-06ab-4158-a6f4-b79d7de34fad",
        "_uuid": "e0ccfbb7fd5b17f9def07251d8b482f83e92993f",
        "collapsed": true,
        "trusted": false
      },
      "cell_type": "code",
      "source": "solution.to_csv('./otto_prediction.tsv', index = False)",
      "execution_count": null,
      "outputs": []
    }
  ],
  "metadata": {
    "language_info": {
      "version": "3.6.4",
      "codemirror_mode": {
        "version": 3,
        "name": "ipython"
      },
      "mimetype": "text/x-python",
      "name": "python",
      "file_extension": ".py",
      "nbconvert_exporter": "python",
      "pygments_lexer": "ipython3"
    },
    "kernelspec": {
      "display_name": "Python 3",
      "language": "python",
      "name": "python3"
    }
  },
  "nbformat": 4,
  "nbformat_minor": 1
}