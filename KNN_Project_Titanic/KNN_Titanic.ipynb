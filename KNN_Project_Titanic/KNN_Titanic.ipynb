{
 "cells": [
  {
   "cell_type": "markdown",
   "metadata": {
    "_cell_guid": "ddb4a4d7-7907-4ddc-8ab0-64302583c45a",
    "_uuid": "5a23a31f04f18e0df2327205d5ef48c241d11d7b"
   },
   "source": [
    "# Titanic\n",
    "https://www.kaggle.com/c/titanic"
   ]
  },
  {
   "cell_type": "markdown",
   "metadata": {
    "_cell_guid": "340256b0-11aa-4026-a5b8-2aabadb82bbd",
    "_uuid": "04f57de39c85bb71bc10d2aa6955200f27d02895"
   },
   "source": [
    "加入numpy, pandas, matplot等库"
   ]
  },
  {
   "cell_type": "code",
   "execution_count": 1,
   "metadata": {
    "_cell_guid": "60a9f86c-3966-b593-db50-3117a967407a",
    "_uuid": "e44a146ab4cd3a2e1d1bb9632309bc05ce7c16a5"
   },
   "outputs": [],
   "source": [
    "import numpy as np \n",
    "import pandas as pd \n",
    "import matplotlib.pyplot as plt # 画图常用库"
   ]
  },
  {
   "cell_type": "markdown",
   "metadata": {
    "_cell_guid": "1815fb3b-0213-4fd8-9083-5b0429987e23",
    "_uuid": "6bbe0957cf5f8dc4e3784611169796df85a39257"
   },
   "source": [
    "读入数据"
   ]
  },
  {
   "cell_type": "code",
   "execution_count": 4,
   "metadata": {
    "_cell_guid": "6a8f6ab7-616e-cd98-7078-728d76927f61",
    "_uuid": "3054f06753e57bf8e5462201c89fe3890fc861cd"
   },
   "outputs": [],
   "source": [
    "dataset=pd.read_csv('train.csv')\n",
    "testset=pd.read_csv('test.csv')\n"
   ]
  },
  {
   "cell_type": "code",
   "execution_count": 5,
   "metadata": {
    "_cell_guid": "5b5b2906-6e8a-4180-b8da-c791d86f40fd",
    "_uuid": "c72073101df73295b921bddbd9c923b0653b5617"
   },
   "outputs": [
    {
     "data": {
      "text/plain": [
       "Index(['PassengerId', 'Survived', 'Pclass', 'Name', 'Sex', 'Age', 'SibSp',\n",
       "       'Parch', 'Ticket', 'Fare', 'Cabin', 'Embarked'],\n",
       "      dtype='object')"
      ]
     },
     "execution_count": 5,
     "metadata": {},
     "output_type": "execute_result"
    }
   ],
   "source": [
    "dataset.columns"
   ]
  },
  {
   "cell_type": "markdown",
   "metadata": {
    "_cell_guid": "92ec5520-b8fa-4a50-a64e-4df6d20a567c",
    "_uuid": "7a7e3a37d862c059342c779934e7695d15ca066f"
   },
   "source": [
    "0, PassengerId：乘客的数字id\n",
    "\n",
    "1, Survived：幸存(1)、死亡(0)\n",
    "\n",
    "2, Pclass：乘客船层—1st = Upper，2nd = Middle， 3rd = Lower\n",
    "\n",
    "3, Name：名字。\n",
    "\n",
    "4, Sex：性别\n",
    "\n",
    "5, Age：年龄\n",
    "\n",
    "6, SibSp：兄弟姐妹和配偶的数量。\n",
    "\n",
    "7, Parch：父母和孩子的数量。\n",
    "\n",
    "8, Ticket：船票号码。\n",
    "\n",
    "9, Fare：船票价钱。\n",
    "\n",
    "10, Cabin：船舱。\n",
    "\n",
    "11, Embarked：从哪个地方登上泰坦尼克号。 C = Cherbourg, Q = Queenstown, S = Southampton"
   ]
  },
  {
   "cell_type": "markdown",
   "metadata": {
    "_cell_guid": "909f2d3f-5ae0-4be1-b807-50ed632c8a4c",
    "_uuid": "52be40cb871d2667c5e1df56cb611a88faf7901b"
   },
   "source": [
    "# 查看读入数据"
   ]
  },
  {
   "cell_type": "code",
   "execution_count": 6,
   "metadata": {
    "_cell_guid": "f89e58f0-9203-4006-9252-2e5ef7a870c2",
    "_uuid": "8ad5a437dfcdeb0b90bb4bdee57e1ed8bdff739f"
   },
   "outputs": [
    {
     "data": {
      "text/html": [
       "<div>\n",
       "<style scoped>\n",
       "    .dataframe tbody tr th:only-of-type {\n",
       "        vertical-align: middle;\n",
       "    }\n",
       "\n",
       "    .dataframe tbody tr th {\n",
       "        vertical-align: top;\n",
       "    }\n",
       "\n",
       "    .dataframe thead th {\n",
       "        text-align: right;\n",
       "    }\n",
       "</style>\n",
       "<table border=\"1\" class=\"dataframe\">\n",
       "  <thead>\n",
       "    <tr style=\"text-align: right;\">\n",
       "      <th></th>\n",
       "      <th>PassengerId</th>\n",
       "      <th>Survived</th>\n",
       "      <th>Pclass</th>\n",
       "      <th>Name</th>\n",
       "      <th>Sex</th>\n",
       "      <th>Age</th>\n",
       "      <th>SibSp</th>\n",
       "      <th>Parch</th>\n",
       "      <th>Ticket</th>\n",
       "      <th>Fare</th>\n",
       "      <th>Cabin</th>\n",
       "      <th>Embarked</th>\n",
       "    </tr>\n",
       "  </thead>\n",
       "  <tbody>\n",
       "    <tr>\n",
       "      <th>0</th>\n",
       "      <td>1</td>\n",
       "      <td>0</td>\n",
       "      <td>3</td>\n",
       "      <td>Braund, Mr. Owen Harris</td>\n",
       "      <td>male</td>\n",
       "      <td>22.0</td>\n",
       "      <td>1</td>\n",
       "      <td>0</td>\n",
       "      <td>A/5 21171</td>\n",
       "      <td>7.2500</td>\n",
       "      <td>NaN</td>\n",
       "      <td>S</td>\n",
       "    </tr>\n",
       "    <tr>\n",
       "      <th>1</th>\n",
       "      <td>2</td>\n",
       "      <td>1</td>\n",
       "      <td>1</td>\n",
       "      <td>Cumings, Mrs. John Bradley (Florence Briggs Th...</td>\n",
       "      <td>female</td>\n",
       "      <td>38.0</td>\n",
       "      <td>1</td>\n",
       "      <td>0</td>\n",
       "      <td>PC 17599</td>\n",
       "      <td>71.2833</td>\n",
       "      <td>C85</td>\n",
       "      <td>C</td>\n",
       "    </tr>\n",
       "    <tr>\n",
       "      <th>2</th>\n",
       "      <td>3</td>\n",
       "      <td>1</td>\n",
       "      <td>3</td>\n",
       "      <td>Heikkinen, Miss. Laina</td>\n",
       "      <td>female</td>\n",
       "      <td>26.0</td>\n",
       "      <td>0</td>\n",
       "      <td>0</td>\n",
       "      <td>STON/O2. 3101282</td>\n",
       "      <td>7.9250</td>\n",
       "      <td>NaN</td>\n",
       "      <td>S</td>\n",
       "    </tr>\n",
       "    <tr>\n",
       "      <th>3</th>\n",
       "      <td>4</td>\n",
       "      <td>1</td>\n",
       "      <td>1</td>\n",
       "      <td>Futrelle, Mrs. Jacques Heath (Lily May Peel)</td>\n",
       "      <td>female</td>\n",
       "      <td>35.0</td>\n",
       "      <td>1</td>\n",
       "      <td>0</td>\n",
       "      <td>113803</td>\n",
       "      <td>53.1000</td>\n",
       "      <td>C123</td>\n",
       "      <td>S</td>\n",
       "    </tr>\n",
       "    <tr>\n",
       "      <th>4</th>\n",
       "      <td>5</td>\n",
       "      <td>0</td>\n",
       "      <td>3</td>\n",
       "      <td>Allen, Mr. William Henry</td>\n",
       "      <td>male</td>\n",
       "      <td>35.0</td>\n",
       "      <td>0</td>\n",
       "      <td>0</td>\n",
       "      <td>373450</td>\n",
       "      <td>8.0500</td>\n",
       "      <td>NaN</td>\n",
       "      <td>S</td>\n",
       "    </tr>\n",
       "  </tbody>\n",
       "</table>\n",
       "</div>"
      ],
      "text/plain": [
       "   PassengerId  Survived  Pclass  \\\n",
       "0            1         0       3   \n",
       "1            2         1       1   \n",
       "2            3         1       3   \n",
       "3            4         1       1   \n",
       "4            5         0       3   \n",
       "\n",
       "                                                Name     Sex   Age  SibSp  \\\n",
       "0                            Braund, Mr. Owen Harris    male  22.0      1   \n",
       "1  Cumings, Mrs. John Bradley (Florence Briggs Th...  female  38.0      1   \n",
       "2                             Heikkinen, Miss. Laina  female  26.0      0   \n",
       "3       Futrelle, Mrs. Jacques Heath (Lily May Peel)  female  35.0      1   \n",
       "4                           Allen, Mr. William Henry    male  35.0      0   \n",
       "\n",
       "   Parch            Ticket     Fare Cabin Embarked  \n",
       "0      0         A/5 21171   7.2500   NaN        S  \n",
       "1      0          PC 17599  71.2833   C85        C  \n",
       "2      0  STON/O2. 3101282   7.9250   NaN        S  \n",
       "3      0            113803  53.1000  C123        S  \n",
       "4      0            373450   8.0500   NaN        S  "
      ]
     },
     "execution_count": 6,
     "metadata": {},
     "output_type": "execute_result"
    }
   ],
   "source": [
    "dataset.head()"
   ]
  },
  {
   "cell_type": "code",
   "execution_count": 7,
   "metadata": {
    "_cell_guid": "decf28c0-0185-41a1-8e8d-0bd0e1eeb4a9",
    "_uuid": "521cf10940e8a74722d6c929f38047b0c6054b8c"
   },
   "outputs": [
    {
     "name": "stdout",
     "output_type": "stream",
     "text": [
      "PassengerId      int64\n",
      "Survived         int64\n",
      "Pclass           int64\n",
      "Name            object\n",
      "Sex             object\n",
      "Age            float64\n",
      "SibSp            int64\n",
      "Parch            int64\n",
      "Ticket          object\n",
      "Fare           float64\n",
      "Cabin           object\n",
      "Embarked        object\n",
      "dtype: object\n"
     ]
    }
   ],
   "source": [
    "print(dataset.dtypes)\n"
   ]
  },
  {
   "cell_type": "code",
   "execution_count": 8,
   "metadata": {
    "_cell_guid": "0c17842f-c4d3-485f-b685-f82e3e85d236",
    "_uuid": "460da38ba766f07839d578dbc3051dde63334f6a"
   },
   "outputs": [
    {
     "name": "stdout",
     "output_type": "stream",
     "text": [
      "<class 'pandas.core.frame.DataFrame'>\n",
      "RangeIndex: 891 entries, 0 to 890\n",
      "Data columns (total 12 columns):\n",
      "PassengerId    891 non-null int64\n",
      "Survived       891 non-null int64\n",
      "Pclass         891 non-null int64\n",
      "Name           891 non-null object\n",
      "Sex            891 non-null object\n",
      "Age            714 non-null float64\n",
      "SibSp          891 non-null int64\n",
      "Parch          891 non-null int64\n",
      "Ticket         891 non-null object\n",
      "Fare           891 non-null float64\n",
      "Cabin          204 non-null object\n",
      "Embarked       889 non-null object\n",
      "dtypes: float64(2), int64(5), object(5)\n",
      "memory usage: 83.6+ KB\n",
      "None\n"
     ]
    }
   ],
   "source": [
    "print(dataset.info())\n"
   ]
  },
  {
   "cell_type": "code",
   "execution_count": 9,
   "metadata": {
    "_cell_guid": "0212348b-09f3-4d2d-88f5-8fcfa7d3cb56",
    "_uuid": "dc25c090d04dc77e19d5ef2e0ab46ec2468a6bfa"
   },
   "outputs": [
    {
     "name": "stdout",
     "output_type": "stream",
     "text": [
      "       PassengerId    Survived      Pclass         Age       SibSp  \\\n",
      "count   891.000000  891.000000  891.000000  714.000000  891.000000   \n",
      "mean    446.000000    0.383838    2.308642   29.699118    0.523008   \n",
      "std     257.353842    0.486592    0.836071   14.526497    1.102743   \n",
      "min       1.000000    0.000000    1.000000    0.420000    0.000000   \n",
      "25%     223.500000    0.000000    2.000000   20.125000    0.000000   \n",
      "50%     446.000000    0.000000    3.000000   28.000000    0.000000   \n",
      "75%     668.500000    1.000000    3.000000   38.000000    1.000000   \n",
      "max     891.000000    1.000000    3.000000   80.000000    8.000000   \n",
      "\n",
      "            Parch        Fare  \n",
      "count  891.000000  891.000000  \n",
      "mean     0.381594   32.204208  \n",
      "std      0.806057   49.693429  \n",
      "min      0.000000    0.000000  \n",
      "25%      0.000000    7.910400  \n",
      "50%      0.000000   14.454200  \n",
      "75%      0.000000   31.000000  \n",
      "max      6.000000  512.329200  \n"
     ]
    }
   ],
   "source": [
    "print(dataset.describe())\n"
   ]
  },
  {
   "cell_type": "markdown",
   "metadata": {
    "_cell_guid": "b7b0410e-c374-4254-ae12-47792ac180b8",
    "_uuid": "1ef17ebd473c5c4b6e5da3de7a28d555df3ea9f8"
   },
   "source": [
    "从上面数据发现两个有意思的事情\n",
    "\n",
    "1. 数据有NULL元素\n",
    "2. 数据"
   ]
  },
  {
   "cell_type": "markdown",
   "metadata": {
    "_cell_guid": "2def0434-24d1-443f-a905-43158a95b229",
    "_uuid": "087d9050a4b1772ef651f697f0176b8b7b1b2568"
   },
   "source": [
    "# 仔细观察数据"
   ]
  },
  {
   "cell_type": "markdown",
   "metadata": {
    "_cell_guid": "e97760eb-96e0-4207-921d-3d643aa03ef7",
    "_uuid": "fb905337830529e82411881d77e7a32caf4b7220"
   },
   "source": [
    "观察年龄"
   ]
  },
  {
   "cell_type": "code",
   "execution_count": 10,
   "metadata": {
    "_cell_guid": "42008b3c-fb1d-4813-80ff-320e147d75cb",
    "_uuid": "b3dbadc307da9cf22711f955faacf71c8dde1289"
   },
   "outputs": [
    {
     "name": "stdout",
     "output_type": "stream",
     "text": [
      "0      male\n",
      "1    female\n",
      "2    female\n",
      "3    female\n",
      "4      male\n",
      "5      male\n",
      "6      male\n",
      "7      male\n",
      "8    female\n",
      "9    female\n",
      "Name: Sex, dtype: object\n"
     ]
    },
    {
     "data": {
      "image/png": "[encoded data removed]",
      "text/plain": [
       "<matplotlib.figure.Figure at 0x107be82e8>"
      ]
     },
     "metadata": {},
     "output_type": "display_data"
    }
   ],
   "source": [
    "print (dataset['Sex'][0:10])\n",
    "Survived_m = dataset.Survived[dataset.Sex == 'male'].value_counts()\n",
    "Survived_f = dataset.Survived[dataset.Sex == 'female'].value_counts()\n",
    "\n",
    "df=pd.DataFrame({'male':Survived_m, 'female':Survived_f})\n",
    "df.plot(kind='bar', stacked=True)\n",
    "plt.title(\"survived by sex\")\n",
    "plt.xlabel(\"sex\") \n",
    "plt.ylabel(\"count\")\n",
    "plt.show()\n"
   ]
  },
  {
   "cell_type": "markdown",
   "metadata": {
    "_cell_guid": "35b194df-8d95-4267-8da2-5b241095b0a6",
    "_uuid": "22ab8ea96e43947b899c98b0274ad0e615ba645b"
   },
   "source": [
    "看看年龄"
   ]
  },
  {
   "cell_type": "code",
   "execution_count": 11,
   "metadata": {
    "_cell_guid": "e928e01d-f8ca-40fc-a2df-c758cfec6232",
    "_uuid": "cdd7ae2c1ddaf0095c9bcce143acdf65842e2d5c"
   },
   "outputs": [
    {
     "name": "stdout",
     "output_type": "stream",
     "text": [
      "0    22.0\n",
      "1    38.0\n",
      "2    26.0\n",
      "3    35.0\n",
      "4    35.0\n",
      "5     NaN\n",
      "6    54.0\n",
      "7     2.0\n",
      "8    27.0\n",
      "9    14.0\n",
      "Name: Age, dtype: float64\n"
     ]
    },
    {
     "data": {
      "image/png": "[encoded data removed]",
      "text/plain": [
       "<matplotlib.figure.Figure at 0x107bdf978>"
      ]
     },
     "metadata": {},
     "output_type": "display_data"
    },
    {
     "name": "stdout",
     "output_type": "stream",
     "text": [
      "True\n"
     ]
    },
    {
     "data": {
      "image/png": "[encoded data removed]",
      "text/plain": [
       "<matplotlib.figure.Figure at 0x103131eb8>"
      ]
     },
     "metadata": {},
     "output_type": "display_data"
    }
   ],
   "source": [
    "print (dataset['Age'][0:10])\n",
    "dataset['Age'].hist()  \n",
    "plt.ylabel(\"Number\") \n",
    "plt.xlabel(\"Age\") \n",
    "plt.show()  \n",
    "\n",
    "print(dataset['Age'].isnull().values.any())\n",
    "plt.scatter(dataset['Survived'], dataset['Age'])\n",
    "plt.ylabel(\"Age\") \n",
    "plt.xlabel(\"Survived\") \n",
    "plt.title(\"Age Distribution\")\n",
    "plt.show()\n"
   ]
  },
  {
   "cell_type": "markdown",
   "metadata": {
    "_cell_guid": "6287c119-28b8-4e96-9c77-9c51b67a05be",
    "_uuid": "a06e5460ddd572d34747a43681622b73223abf31"
   },
   "source": [
    "看看船票价钱"
   ]
  },
  {
   "cell_type": "code",
   "execution_count": 12,
   "metadata": {
    "_cell_guid": "38c9c29a-3606-4527-9b2b-9f420ae117b4",
    "_uuid": "157713f67d2218535ab6969cbc5a8843ac691503"
   },
   "outputs": [
    {
     "name": "stdout",
     "output_type": "stream",
     "text": [
      "0     7.2500\n",
      "1    71.2833\n",
      "2     7.9250\n",
      "3    53.1000\n",
      "4     8.0500\n",
      "5     8.4583\n",
      "6    51.8625\n",
      "7    21.0750\n",
      "8    11.1333\n",
      "9    30.0708\n",
      "Name: Fare, dtype: float64\n"
     ]
    },
    {
     "data": {
      "image/png": "[encoded data removed]",
      "text/plain": [
       "<matplotlib.figure.Figure at 0x1031521d0>"
      ]
     },
     "metadata": {},
     "output_type": "display_data"
    },
    {
     "name": "stdout",
     "output_type": "stream",
     "text": [
      "False\n"
     ]
    },
    {
     "data": {
      "image/png": "[encoded data removed]",
      "text/plain": [
       "<matplotlib.figure.Figure at 0x1031041d0>"
      ]
     },
     "metadata": {},
     "output_type": "display_data"
    }
   ],
   "source": [
    "print (dataset['Fare'][0:10])\n",
    "dataset['Fare'].hist()  \n",
    "plt.ylabel(\"Number\") \n",
    "plt.xlabel(\"Fare\") \n",
    "plt.show()  \n",
    "\n",
    "print(dataset['Fare'].isnull().values.any())\n",
    "plt.scatter(dataset['Survived'], dataset['Fare'])\n",
    "plt.ylabel(\"Fare\") \n",
    "plt.xlabel(\"Survived\") \n",
    "plt.title(\"Fare Distribution\")\n",
    "plt.show()\n"
   ]
  },
  {
   "cell_type": "markdown",
   "metadata": {
    "_cell_guid": "b89fa725-7ef2-4b04-b6c7-877f8d925297",
    "_uuid": "17f305d0ab030176ae12ec48fd04d1ce935ea145"
   },
   "source": [
    "观察乘客舱层"
   ]
  },
  {
   "cell_type": "code",
   "execution_count": 13,
   "metadata": {
    "_cell_guid": "7b53581b-ed00-4363-82c6-193206f58ac9",
    "_uuid": "802df4f5695de8b7277e49f97bb15f6f6879fc00"
   },
   "outputs": [
    {
     "name": "stdout",
     "output_type": "stream",
     "text": [
      "0    3\n",
      "1    1\n",
      "2    3\n",
      "3    1\n",
      "4    3\n",
      "5    3\n",
      "6    1\n",
      "7    3\n",
      "8    3\n",
      "9    2\n",
      "Name: Pclass, dtype: int64\n"
     ]
    },
    {
     "data": {
      "image/png": "[encoded data removed]",
      "text/plain": [
       "<matplotlib.figure.Figure at 0x107d34588>"
      ]
     },
     "metadata": {},
     "output_type": "display_data"
    },
    {
     "name": "stdout",
     "output_type": "stream",
     "text": [
      "False\n",
      "    p1  p2   p3\n",
      "0   80  97  372\n",
      "1  136  87  119\n"
     ]
    },
    {
     "data": {
      "image/png": "[encoded data removed]",
      "text/plain": [
       "<matplotlib.figure.Figure at 0x10314d940>"
      ]
     },
     "metadata": {},
     "output_type": "display_data"
    }
   ],
   "source": [
    "print (dataset['Pclass'][0:10])\n",
    "dataset['Pclass'].hist()  \n",
    "plt.show()  \n",
    "print(dataset['Pclass'].isnull().values.any())\n",
    "\n",
    "Survived_p1 = dataset.Survived[dataset['Pclass'] == 1].value_counts()\n",
    "Survived_p2 = dataset.Survived[dataset['Pclass'] == 2].value_counts()\n",
    "Survived_p3 = dataset.Survived[dataset['Pclass'] == 3].value_counts()\n",
    "\n",
    "df=pd.DataFrame({'p1':Survived_p1, 'p2':Survived_p2, 'p3':Survived_p3})\n",
    "print(df)\n",
    "df.plot(kind='bar', stacked=True)\n",
    "plt.title(\"survived by pclass\")\n",
    "plt.xlabel(\"pclass\") \n",
    "plt.ylabel(\"count\")\n",
    "plt.show()\n"
   ]
  },
  {
   "cell_type": "raw",
   "metadata": {
    "_cell_guid": "36ce7b15-a5b6-45b7-89c2-8fe51cc9aa8b",
    "_uuid": "c044e71ca6e3b61c26d8a8b81b515c746ef8d26d"
   },
   "source": [
    "观察登船地点"
   ]
  },
  {
   "cell_type": "code",
   "execution_count": 14,
   "metadata": {
    "_cell_guid": "e6e5a1c3-c18f-454b-9792-a63781e2bf44",
    "_uuid": "60522c9173bf78592690bea65a04503fcb98584b"
   },
   "outputs": [
    {
     "name": "stdout",
     "output_type": "stream",
     "text": [
      "0    S\n",
      "1    C\n",
      "2    S\n",
      "3    S\n",
      "4    S\n",
      "5    Q\n",
      "6    S\n",
      "7    S\n",
      "8    S\n",
      "9    C\n",
      "Name: Embarked, dtype: object\n",
      "0    427\n",
      "1    217\n",
      "Name: Survived, dtype: int64\n"
     ]
    },
    {
     "data": {
      "image/png": "[encoded data removed]",
      "text/plain": [
       "<matplotlib.figure.Figure at 0x110b8c080>"
      ]
     },
     "metadata": {},
     "output_type": "display_data"
    }
   ],
   "source": [
    "print (dataset['Embarked'][0:10])\n",
    "Survived_S = dataset.Survived[dataset['Embarked'] == 'S'].value_counts()\n",
    "Survived_C = dataset.Survived[dataset['Embarked'] == 'C'].value_counts()\n",
    "Survived_Q = dataset.Survived[dataset['Embarked'] == 'Q'].value_counts()\n",
    "\n",
    "print(Survived_S)\n",
    "df = pd.DataFrame({'S':Survived_S, 'C':Survived_C, 'Q':Survived_Q})\n",
    "df.plot(kind='bar', stacked=True)\n",
    "plt.title(\"survived by sex\")\n",
    "plt.xlabel(\"Embarked\") \n",
    "plt.ylabel(\"count\")\n",
    "plt.show()\n"
   ]
  },
  {
   "cell_type": "markdown",
   "metadata": {
    "_cell_guid": "2380549d-7ec3-4e25-a22a-dea463c27b2b",
    "_uuid": "8a64fa0b9e3bea10ac13524e87c17caee65171ee"
   },
   "source": [
    "# 保留下有效数据\n",
    "pclass, sex, age, fare, embarked"
   ]
  },
  {
   "cell_type": "markdown",
   "metadata": {
    "_cell_guid": "742d2e2d-8fd1-47be-b8d9-362c853a8bfb",
    "_uuid": "f986f14dd2a75a5b71d0ffd8594df6b5400ef3a5"
   },
   "source": [
    "# 分离label 和 训练数据"
   ]
  },
  {
   "cell_type": "code",
   "execution_count": 15,
   "metadata": {
    "_cell_guid": "4e47f6dd-91b3-404d-bd08-52dd908246ad",
    "_uuid": "a0eae5cd2f6713108421ba5e6a30873fab649c8e"
   },
   "outputs": [
    {
     "name": "stdout",
     "output_type": "stream",
     "text": [
      "(891, 5)\n",
      "     Pclass     Sex   Age      Fare Embarked\n",
      "0         3    male  22.0    7.2500        S\n",
      "1         1  female  38.0   71.2833        C\n",
      "2         3  female  26.0    7.9250        S\n",
      "3         1  female  35.0   53.1000        S\n",
      "4         3    male  35.0    8.0500        S\n",
      "5         3    male   NaN    8.4583        Q\n",
      "6         1    male  54.0   51.8625        S\n",
      "7         3    male   2.0   21.0750        S\n",
      "8         3  female  27.0   11.1333        S\n",
      "9         2  female  14.0   30.0708        C\n",
      "10        3  female   4.0   16.7000        S\n",
      "11        1  female  58.0   26.5500        S\n",
      "12        3    male  20.0    8.0500        S\n",
      "13        3    male  39.0   31.2750        S\n",
      "14        3  female  14.0    7.8542        S\n",
      "15        2  female  55.0   16.0000        S\n",
      "16        3    male   2.0   29.1250        Q\n",
      "17        2    male   NaN   13.0000        S\n",
      "18        3  female  31.0   18.0000        S\n",
      "19        3  female   NaN    7.2250        C\n",
      "20        2    male  35.0   26.0000        S\n",
      "21        2    male  34.0   13.0000        S\n",
      "22        3  female  15.0    8.0292        Q\n",
      "23        1    male  28.0   35.5000        S\n",
      "24        3  female   8.0   21.0750        S\n",
      "25        3  female  38.0   31.3875        S\n",
      "26        3    male   NaN    7.2250        C\n",
      "27        1    male  19.0  263.0000        S\n",
      "28        3  female   NaN    7.8792        Q\n",
      "29        3    male   NaN    7.8958        S\n",
      "..      ...     ...   ...       ...      ...\n",
      "861       2    male  21.0   11.5000        S\n",
      "862       1  female  48.0   25.9292        S\n",
      "863       3  female   NaN   69.5500        S\n",
      "864       2    male  24.0   13.0000        S\n",
      "865       2  female  42.0   13.0000        S\n",
      "866       2  female  27.0   13.8583        C\n",
      "867       1    male  31.0   50.4958        S\n",
      "868       3    male   NaN    9.5000        S\n",
      "869       3    male   4.0   11.1333        S\n",
      "870       3    male  26.0    7.8958        S\n",
      "871       1  female  47.0   52.5542        S\n",
      "872       1    male  33.0    5.0000        S\n",
      "873       3    male  47.0    9.0000        S\n",
      "874       2  female  28.0   24.0000        C\n",
      "875       3  female  15.0    7.2250        C\n",
      "876       3    male  20.0    9.8458        S\n",
      "877       3    male  19.0    7.8958        S\n",
      "878       3    male   NaN    7.8958        S\n",
      "879       1  female  56.0   83.1583        C\n",
      "880       2  female  25.0   26.0000        S\n",
      "881       3    male  33.0    7.8958        S\n",
      "882       3  female  22.0   10.5167        S\n",
      "883       2    male  28.0   10.5000        S\n",
      "884       3    male  25.0    7.0500        S\n",
      "885       3  female  39.0   29.1250        Q\n",
      "886       2    male  27.0   13.0000        S\n",
      "887       1  female  19.0   30.0000        S\n",
      "888       3  female   NaN   23.4500        S\n",
      "889       1    male  26.0   30.0000        C\n",
      "890       3    male  32.0    7.7500        Q\n",
      "\n",
      "[891 rows x 5 columns]\n"
     ]
    }
   ],
   "source": [
    "label=dataset.loc[:,'Survived']\n",
    "data=dataset.loc[:,['Pclass', 'Sex', 'Age', 'Fare', 'Embarked']]\n",
    "testdat=testset.loc[:,['Pclass', 'Sex', 'Age', 'Fare', 'Embarked']]\n",
    "\n",
    "print(data.shape)\n",
    "print(data)"
   ]
  },
  {
   "cell_type": "markdown",
   "metadata": {
    "_cell_guid": "a66f2be5-92f8-4762-bc66-0c718e727400",
    "_uuid": "b7a4f2240c0a0bc620b081e5021971501c9dcf42"
   },
   "source": [
    "处理空数据"
   ]
  },
  {
   "cell_type": "code",
   "execution_count": 16,
   "metadata": {
    "_cell_guid": "735702af-c353-40b4-b86d-c208082208cb",
    "_uuid": "f181c04d5e8701bd227605e31289034c8b8b7bb6",
    "scrolled": true
   },
   "outputs": [
    {
     "name": "stdout",
     "output_type": "stream",
     "text": [
      "True\n",
      "False\n",
      "True\n",
      "     Pclass     Sex   Age      Fare Embarked\n",
      "0         3    male  22.0    7.2500        S\n",
      "1         1  female  38.0   71.2833        C\n",
      "2         3  female  26.0    7.9250        S\n",
      "3         1  female  35.0   53.1000        S\n",
      "4         3    male  35.0    8.0500        S\n",
      "5         3    male  28.0    8.4583        Q\n",
      "6         1    male  54.0   51.8625        S\n",
      "7         3    male   2.0   21.0750        S\n",
      "8         3  female  27.0   11.1333        S\n",
      "9         2  female  14.0   30.0708        C\n",
      "10        3  female   4.0   16.7000        S\n",
      "11        1  female  58.0   26.5500        S\n",
      "12        3    male  20.0    8.0500        S\n",
      "13        3    male  39.0   31.2750        S\n",
      "14        3  female  14.0    7.8542        S\n",
      "15        2  female  55.0   16.0000        S\n",
      "16        3    male   2.0   29.1250        Q\n",
      "17        2    male  28.0   13.0000        S\n",
      "18        3  female  31.0   18.0000        S\n",
      "19        3  female  28.0    7.2250        C\n",
      "20        2    male  35.0   26.0000        S\n",
      "21        2    male  34.0   13.0000        S\n",
      "22        3  female  15.0    8.0292        Q\n",
      "23        1    male  28.0   35.5000        S\n",
      "24        3  female   8.0   21.0750        S\n",
      "25        3  female  38.0   31.3875        S\n",
      "26        3    male  28.0    7.2250        C\n",
      "27        1    male  19.0  263.0000        S\n",
      "28        3  female  28.0    7.8792        Q\n",
      "29        3    male  28.0    7.8958        S\n",
      "..      ...     ...   ...       ...      ...\n",
      "861       2    male  21.0   11.5000        S\n",
      "862       1  female  48.0   25.9292        S\n",
      "863       3  female  28.0   69.5500        S\n",
      "864       2    male  24.0   13.0000        S\n",
      "865       2  female  42.0   13.0000        S\n",
      "866       2  female  27.0   13.8583        C\n",
      "867       1    male  31.0   50.4958        S\n",
      "868       3    male  28.0    9.5000        S\n",
      "869       3    male   4.0   11.1333        S\n",
      "870       3    male  26.0    7.8958        S\n",
      "871       1  female  47.0   52.5542        S\n",
      "872       1    male  33.0    5.0000        S\n",
      "873       3    male  47.0    9.0000        S\n",
      "874       2  female  28.0   24.0000        C\n",
      "875       3  female  15.0    7.2250        C\n",
      "876       3    male  20.0    9.8458        S\n",
      "877       3    male  19.0    7.8958        S\n",
      "878       3    male  28.0    7.8958        S\n",
      "879       1  female  56.0   83.1583        C\n",
      "880       2  female  25.0   26.0000        S\n",
      "881       3    male  33.0    7.8958        S\n",
      "882       3  female  22.0   10.5167        S\n",
      "883       2    male  28.0   10.5000        S\n",
      "884       3    male  25.0    7.0500        S\n",
      "885       3  female  39.0   29.1250        Q\n",
      "886       2    male  27.0   13.0000        S\n",
      "887       1  female  19.0   30.0000        S\n",
      "888       3  female  28.0   23.4500        S\n",
      "889       1    male  26.0   30.0000        C\n",
      "890       3    male  32.0    7.7500        Q\n",
      "\n",
      "[891 rows x 5 columns]\n"
     ]
    }
   ],
   "source": [
    "def fill_NAN(data):  \n",
    "    data_copy = data.copy(deep=True)\n",
    "    data_copy.loc[:,'Age'] = data_copy['Age'].fillna(data_copy['Age'].median())\n",
    "    data_copy.loc[:,'Fare'] = data_copy['Fare'].fillna(data_copy['Fare'].median())\n",
    "    data_copy.loc[:,'Pclass'] = data_copy['Pclass'].fillna(data_copy['Pclass'].median())\n",
    "    data_copy.loc[:,'Sex'] = data_copy['Sex'].fillna('female')\n",
    "    data_copy.loc[:,'Embarked'] = data_copy['Embarked'].fillna('S')\n",
    "    return data_copy\n",
    "\n",
    "\n",
    "data_no_nan = fill_NAN(data)\n",
    "testdat_no_nan = fill_NAN(testdat)\n",
    "\n",
    "print(testdat.isnull().values.any())    \n",
    "print(testdat_no_nan.isnull().values.any())\n",
    "print(data.isnull().values.any())    \n",
    "\n",
    "print(data_no_nan)\n",
    "\n",
    "# print(data)"
   ]
  },
  {
   "cell_type": "markdown",
   "metadata": {
    "_cell_guid": "c18eeb05-6f2a-48a1-a46f-2dda7222feb2",
    "_uuid": "adcefa87455bfeb0d7a68fe13fdca792e3eeedbb"
   },
   "source": [
    "处理Sex "
   ]
  },
  {
   "cell_type": "code",
   "execution_count": 17,
   "metadata": {
    "_cell_guid": "6af3c6d5-80d7-46c9-b805-1eaa4f72189e",
    "_uuid": "00b0219f4d613ef2d267225baf58f2d7cb3899da"
   },
   "outputs": [
    {
     "name": "stdout",
     "output_type": "stream",
     "text": [
      "False\n",
      "     Pclass  Sex   Age      Fare Embarked\n",
      "0         3    1  34.5    7.8292        Q\n",
      "1         3    0  47.0    7.0000        S\n",
      "2         2    1  62.0    9.6875        Q\n",
      "3         3    1  27.0    8.6625        S\n",
      "4         3    0  22.0   12.2875        S\n",
      "5         3    1  14.0    9.2250        S\n",
      "6         3    0  30.0    7.6292        Q\n",
      "7         2    1  26.0   29.0000        S\n",
      "8         3    0  18.0    7.2292        C\n",
      "9         3    1  21.0   24.1500        S\n",
      "10        3    1  27.0    7.8958        S\n",
      "11        1    1  46.0   26.0000        S\n",
      "12        1    0  23.0   82.2667        S\n",
      "13        2    1  63.0   26.0000        S\n",
      "14        1    0  47.0   61.1750        S\n",
      "15        2    0  24.0   27.7208        C\n",
      "16        2    1  35.0   12.3500        Q\n",
      "17        3    1  21.0    7.2250        C\n",
      "18        3    0  27.0    7.9250        S\n",
      "19        3    0  45.0    7.2250        C\n",
      "20        1    1  55.0   59.4000        C\n",
      "21        3    1   9.0    3.1708        S\n",
      "22        1    0  27.0   31.6833        S\n",
      "23        1    1  21.0   61.3792        C\n",
      "24        1    0  48.0  262.3750        C\n",
      "25        3    1  50.0   14.5000        S\n",
      "26        1    0  22.0   61.9792        C\n",
      "27        3    1  22.5    7.2250        C\n",
      "28        1    1  41.0   30.5000        S\n",
      "29        3    1  27.0   21.6792        C\n",
      "..      ...  ...   ...       ...      ...\n",
      "388       3    1  21.0    7.7500        Q\n",
      "389       3    1   6.0   21.0750        S\n",
      "390       1    1  23.0   93.5000        S\n",
      "391       1    0  51.0   39.4000        S\n",
      "392       3    1  13.0   20.2500        S\n",
      "393       2    1  47.0   10.5000        S\n",
      "394       3    1  29.0   22.0250        S\n",
      "395       1    0  18.0   60.0000        S\n",
      "396       3    1  24.0    7.2500        Q\n",
      "397       1    0  48.0   79.2000        C\n",
      "398       3    1  22.0    7.7750        S\n",
      "399       3    1  31.0    7.7333        Q\n",
      "400       1    0  30.0  164.8667        S\n",
      "401       2    1  38.0   21.0000        S\n",
      "402       1    0  22.0   59.4000        C\n",
      "403       1    1  17.0   47.1000        S\n",
      "404       1    1  43.0   27.7208        C\n",
      "405       2    1  20.0   13.8625        C\n",
      "406       2    1  23.0   10.5000        S\n",
      "407       1    1  50.0  211.5000        C\n",
      "408       3    0  27.0    7.7208        Q\n",
      "409       3    0   3.0   13.7750        S\n",
      "410       3    0  27.0    7.7500        Q\n",
      "411       1    0  37.0   90.0000        Q\n",
      "412       3    0  28.0    7.7750        S\n",
      "413       3    1  27.0    8.0500        S\n",
      "414       1    0  39.0  108.9000        C\n",
      "415       3    1  38.5    7.2500        S\n",
      "416       3    1  27.0    8.0500        S\n",
      "417       3    1  27.0   22.3583        C\n",
      "\n",
      "[418 rows x 5 columns]\n"
     ]
    }
   ],
   "source": [
    "print(data_no_nan['Sex'].isnull().values.any())\n",
    "\n",
    "def transfer_sex(data):\n",
    "    data_copy = data.copy(deep=True)\n",
    "    data_copy.loc[data_copy['Sex'] == 'female', 'Sex'] = 0\n",
    "    data_copy.loc[data_copy['Sex'] == 'male', 'Sex'] = 1\n",
    "    return data_copy\n",
    "\n",
    "data_after_sex = transfer_sex(data_no_nan)\n",
    "testdat_after_sex = transfer_sex(testdat_no_nan)\n",
    "print(testdat_after_sex)\n",
    "    "
   ]
  },
  {
   "cell_type": "markdown",
   "metadata": {
    "_cell_guid": "996ca895-48ad-46b0-9cc2-d17b61961639",
    "_uuid": "1d882cf7ca0b15452aa04bd2922aa04b65c3b2fc"
   },
   "source": [
    "处理Embarked"
   ]
  },
  {
   "cell_type": "code",
   "execution_count": 18,
   "metadata": {
    "_cell_guid": "d031c473-b7d3-4398-a85f-618651911ffc",
    "_uuid": "3b594b05173e60aa9589f65425c6d2b9d732c821"
   },
   "outputs": [
    {
     "name": "stdout",
     "output_type": "stream",
     "text": [
      "     Pclass  Sex   Age      Fare  Embarked\n",
      "0         3    1  34.5    7.8292         2\n",
      "1         3    0  47.0    7.0000         0\n",
      "2         2    1  62.0    9.6875         2\n",
      "3         3    1  27.0    8.6625         0\n",
      "4         3    0  22.0   12.2875         0\n",
      "5         3    1  14.0    9.2250         0\n",
      "6         3    0  30.0    7.6292         2\n",
      "7         2    1  26.0   29.0000         0\n",
      "8         3    0  18.0    7.2292         1\n",
      "9         3    1  21.0   24.1500         0\n",
      "10        3    1  27.0    7.8958         0\n",
      "11        1    1  46.0   26.0000         0\n",
      "12        1    0  23.0   82.2667         0\n",
      "13        2    1  63.0   26.0000         0\n",
      "14        1    0  47.0   61.1750         0\n",
      "15        2    0  24.0   27.7208         1\n",
      "16        2    1  35.0   12.3500         2\n",
      "17        3    1  21.0    7.2250         1\n",
      "18        3    0  27.0    7.9250         0\n",
      "19        3    0  45.0    7.2250         1\n",
      "20        1    1  55.0   59.4000         1\n",
      "21        3    1   9.0    3.1708         0\n",
      "22        1    0  27.0   31.6833         0\n",
      "23        1    1  21.0   61.3792         1\n",
      "24        1    0  48.0  262.3750         1\n",
      "25        3    1  50.0   14.5000         0\n",
      "26        1    0  22.0   61.9792         1\n",
      "27        3    1  22.5    7.2250         1\n",
      "28        1    1  41.0   30.5000         0\n",
      "29        3    1  27.0   21.6792         1\n",
      "..      ...  ...   ...       ...       ...\n",
      "388       3    1  21.0    7.7500         2\n",
      "389       3    1   6.0   21.0750         0\n",
      "390       1    1  23.0   93.5000         0\n",
      "391       1    0  51.0   39.4000         0\n",
      "392       3    1  13.0   20.2500         0\n",
      "393       2    1  47.0   10.5000         0\n",
      "394       3    1  29.0   22.0250         0\n",
      "395       1    0  18.0   60.0000         0\n",
      "396       3    1  24.0    7.2500         2\n",
      "397       1    0  48.0   79.2000         1\n",
      "398       3    1  22.0    7.7750         0\n",
      "399       3    1  31.0    7.7333         2\n",
      "400       1    0  30.0  164.8667         0\n",
      "401       2    1  38.0   21.0000         0\n",
      "402       1    0  22.0   59.4000         1\n",
      "403       1    1  17.0   47.1000         0\n",
      "404       1    1  43.0   27.7208         1\n",
      "405       2    1  20.0   13.8625         1\n",
      "406       2    1  23.0   10.5000         0\n",
      "407       1    1  50.0  211.5000         1\n",
      "408       3    0  27.0    7.7208         2\n",
      "409       3    0   3.0   13.7750         0\n",
      "410       3    0  27.0    7.7500         2\n",
      "411       1    0  37.0   90.0000         2\n",
      "412       3    0  28.0    7.7750         0\n",
      "413       3    1  27.0    8.0500         0\n",
      "414       1    0  39.0  108.9000         1\n",
      "415       3    1  38.5    7.2500         0\n",
      "416       3    1  27.0    8.0500         0\n",
      "417       3    1  27.0   22.3583         1\n",
      "\n",
      "[418 rows x 5 columns]\n"
     ]
    }
   ],
   "source": [
    "\n",
    "def transfer_embark(data):\n",
    "    data_copy = data.copy(deep=True)\n",
    "    data_copy.loc[data_copy['Embarked'] == 'S', 'Embarked'] = 0\n",
    "    data_copy.loc[data_copy['Embarked'] == 'C', 'Embarked'] = 1\n",
    "    data_copy.loc[data_copy['Embarked'] == 'Q', 'Embarked'] = 2\n",
    "    return data_copy\n",
    "\n",
    "data_after_embarked = transfer_embark(data_after_sex)\n",
    "testdat_after_embarked = transfer_embark(testdat_after_sex)\n",
    "print(testdat_after_embarked)"
   ]
  },
  {
   "cell_type": "markdown",
   "metadata": {
    "_cell_guid": "7e08f06d-1c04-4392-acc4-347258aaa256",
    "_uuid": "dd3b0bb003ecd453c98517d45a144124eb0af90f"
   },
   "source": [
    "训练数据"
   ]
  },
  {
   "cell_type": "code",
   "execution_count": 19,
   "metadata": {
    "_cell_guid": "ca512835-f047-0dcf-3e77-ae039d50d118",
    "_uuid": "68f20db900d2866723c35e7fa7c23d0caebe66b1"
   },
   "outputs": [
    {
     "name": "stderr",
     "output_type": "stream",
     "text": [
      "/Users/yongqiangshen/anaconda3/lib/python3.6/site-packages/sklearn/model_selection/_split.py:2026: FutureWarning: From version 0.21, test_size will always complement train_size unless both are specified.\n",
      "  FutureWarning)\n"
     ]
    }
   ],
   "source": [
    "# 训练数据\n",
    "\n",
    "data_now = data_after_embarked\n",
    "testdat_now = testdat_after_embarked\n",
    "from sklearn.model_selection import train_test_split\n",
    "\n",
    "\n",
    "train_data,test_data,train_labels,test_labels=train_test_split(data_now,label,random_state=0,train_size=0.8)\n",
    "\n"
   ]
  },
  {
   "cell_type": "code",
   "execution_count": 20,
   "metadata": {
    "_cell_guid": "9ae5c320-878d-4641-8d4d-d327e7acac84",
    "_uuid": "53d87be64d7bfc3ae8733e5ddd0071465a39e0ad"
   },
   "outputs": [
    {
     "name": "stdout",
     "output_type": "stream",
     "text": [
      "(712, 5) (179, 5) (712,) (179,)\n"
     ]
    }
   ],
   "source": [
    "print(train_data.shape, test_data.shape, train_labels.shape, test_labels.shape)"
   ]
  },
  {
   "cell_type": "code",
   "execution_count": 21,
   "metadata": {
    "_cell_guid": "e5896690-efca-352d-fab5-50e6e41849fb",
    "_uuid": "98a90cdf476b97a22ff3a2d5887279469e959e79"
   },
   "outputs": [
    {
     "data": {
      "text/plain": [
       "KNeighborsClassifier(algorithm='auto', leaf_size=30, metric='minkowski',\n",
       "           metric_params=None, n_jobs=1, n_neighbors=5, p=2,\n",
       "           weights='uniform')"
      ]
     },
     "execution_count": 21,
     "metadata": {},
     "output_type": "execute_result"
    }
   ],
   "source": [
    "from sklearn.neighbors import KNeighborsClassifier\n",
    "clf=KNeighborsClassifier(n_neighbors=5)\n",
    "clf.fit(data_now,label)"
   ]
  },
  {
   "cell_type": "code",
   "execution_count": 22,
   "metadata": {
    "_cell_guid": "d9c70c58-d409-372b-afb2-6f9bc486c06d",
    "_uuid": "81dc828f7723619af7df658192b22f44dd843518"
   },
   "outputs": [],
   "source": [
    "# 做测试\n",
    "\n",
    "predictions=clf.predict(test_data)"
   ]
  },
  {
   "cell_type": "code",
   "execution_count": 23,
   "metadata": {
    "_cell_guid": "fdf3c472-5207-32cc-1e50-3681056aa3a5",
    "_uuid": "f92018bfbc57dcef89689347b4795e9744903792"
   },
   "outputs": [
    {
     "name": "stdout",
     "output_type": "stream",
     "text": [
      "0.8324022346368715\n",
      "             precision    recall  f1-score   support\n",
      "\n",
      "          0       0.84      0.90      0.87       110\n",
      "          1       0.82      0.72      0.77        69\n",
      "\n",
      "avg / total       0.83      0.83      0.83       179\n",
      "\n",
      "[[99 11]\n",
      " [19 50]]\n"
     ]
    }
   ],
   "source": [
    "# 检测模型\n",
    "\n",
    "from sklearn.metrics import accuracy_score,classification_report,confusion_matrix\n",
    "\n",
    "print(accuracy_score(test_labels,predictions))\n",
    "print(classification_report(test_labels, predictions))  \n",
    "print(confusion_matrix(test_labels, predictions))  \n",
    "    "
   ]
  },
  {
   "cell_type": "code",
   "execution_count": 24,
   "metadata": {
    "_cell_guid": "7c95e72e-30d7-45e6-a1f7-917e920522cd",
    "_uuid": "25a18d7a1fbd5b262c52432f57499157d15f9043"
   },
   "outputs": [
    {
     "name": "stdout",
     "output_type": "stream",
     "text": [
      "k = 1, score = [0.62011173 0.67597765 0.70224719 0.69662921 0.70621469], mean = 0.6802360958469558\n",
      "k = 2, score = [0.61452514 0.7150838  0.70786517 0.69662921 0.66101695], mean = 0.6790240539445\n",
      "k = 3, score = [0.66480447 0.68156425 0.71910112 0.74157303 0.70621469], mean = 0.7026515123305412\n",
      "k = 4, score = [0.63128492 0.69273743 0.69101124 0.68539326 0.70621469], mean = 0.6813283060032549\n",
      "k = 5, score = [0.63687151 0.66480447 0.69662921 0.70224719 0.71186441], mean = 0.6824833577855348\n",
      "k = 6, score = [0.60335196 0.70391061 0.69101124 0.6741573  0.74576271], mean = 0.6836387642045304\n",
      "k = 7, score = [0.62569832 0.72067039 0.70786517 0.70224719 0.75706215], mean = 0.7027086443054033\n",
      "k = 8, score = [0.61452514 0.68715084 0.70786517 0.70786517 0.71751412], mean = 0.6869840878052136\n",
      "k = 9, score = [0.61452514 0.68715084 0.71348315 0.73595506 0.73446328], mean = 0.697115491347396\n",
      "k = 10, score = [0.61452514 0.70391061 0.71348315 0.71348315 0.75706215], mean = 0.7004928386434861\n",
      "k = 11, score = [0.60335196 0.68715084 0.70224719 0.73595506 0.75141243], mean = 0.6960234939731264\n",
      "k = 12, score = [0.62011173 0.68715084 0.71910112 0.73033708 0.74576271], mean = 0.7004926967888\n",
      "k = 13, score = [0.60893855 0.69273743 0.71348315 0.74157303 0.74011299], mean = 0.6993690303558389\n",
      "k = 14, score = [0.60335196 0.7150838  0.73595506 0.70786517 0.74011299], mean = 0.7004737946518655\n",
      "k = 15, score = [0.59217877 0.70391061 0.73033708 0.70786517 0.75141243], mean = 0.6971408124088805\n",
      "k = 16, score = [0.60335196 0.7150838  0.7247191  0.71910112 0.73446328], mean = 0.6993438511490407\n",
      "k = 17, score = [0.59776536 0.70949721 0.73033708 0.71910112 0.73446328], mean = 0.6982328097831504\n",
      "k = 18, score = [0.62569832 0.73184358 0.71910112 0.7247191  0.75141243], mean = 0.7105549107077946\n",
      "k = 19, score = [0.62011173 0.73184358 0.73595506 0.73033708 0.74011299], mean = 0.7116720872888626\n",
      "k = 20, score = [0.59776536 0.73743017 0.73033708 0.7247191  0.72881356], mean = 0.7038130539647143\n",
      "k = 21, score = [0.56424581 0.74301676 0.73033708 0.73033708 0.74576271], mean = 0.702739887800036\n",
      "k = 22, score = [0.60335196 0.75418994 0.71910112 0.73033708 0.76836158], mean = 0.7150683367218871\n",
      "k = 23, score = [0.59217877 0.73743017 0.73595506 0.73033708 0.75141243], mean = 0.7094627005514956\n",
      "k = 24, score = [0.59776536 0.73743017 0.71910112 0.71910112 0.75141243], mean = 0.7049620414591599\n",
      "k = 25, score = [0.59217877 0.73184358 0.71348315 0.71910112 0.74576271], mean = 0.7004738655792087\n",
      "k = 26, score = [0.60335196 0.73184358 0.71348315 0.71910112 0.74011299], mean = 0.7015785589478921\n",
      "k = 27, score = [0.58100559 0.73184358 0.7247191  0.75280899 0.72881356], mean = 0.7038381622441695\n",
      "k = 28, score = [0.58659218 0.73184358 0.70786517 0.73033708 0.72316384], mean = 0.695960368637773\n",
      "k = 29, score = [0.58100559 0.70949721 0.71348315 0.74157303 0.71751412], mean = 0.6926146194730312\n",
      "k = 30, score = [0.58100559 0.73184358 0.70224719 0.70786517 0.71751412], mean = 0.688095129171104\n",
      "k = 31, score = [0.58659218 0.72067039 0.70786517 0.7247191  0.72316384], mean = 0.6926021362606466\n",
      "k = 32, score = [0.59217877 0.72067039 0.70786517 0.7247191  0.72316384], mean = 0.6937194546964008\n",
      "k = 33, score = [0.58659218 0.69832402 0.70786517 0.73595506 0.72881356], mean = 0.6915099970316907\n",
      "k = 34, score = [0.59217877 0.7150838  0.70224719 0.73033708 0.71751412], mean = 0.6914721927578219\n",
      "k = 35, score = [0.59217877 0.7150838  0.71348315 0.74157303 0.70056497], mean = 0.6925767442718191\n",
      "k = 36, score = [0.58659218 0.72067039 0.71348315 0.73595506 0.71186441], mean = 0.6937130357718508\n",
      "k = 37, score = [0.57541899 0.72067039 0.71348315 0.73033708 0.70056497], mean = 0.6880949163890747\n",
      "k = 38, score = [0.58100559 0.72067039 0.70786517 0.73595506 0.69491525], mean = 0.688082291322004\n",
      "k = 39, score = [0.58100559 0.73184358 0.70786517 0.73033708 0.69491525], mean = 0.6891933326878945\n",
      "k = 40, score = [0.58659218 0.72625698 0.71348315 0.71910112 0.69491525], mean = 0.6880697371822765\n",
      "k = 41, score = [0.58100559 0.73184358 0.71348315 0.71910112 0.69491525], mean = 0.6880697371822765\n",
      "k = 42, score = [0.58659218 0.72625698 0.71348315 0.70224719 0.70056497], mean = 0.6858288941682474\n",
      "k = 43, score = [0.58100559 0.7150838  0.71348315 0.70224719 0.70056497], mean = 0.6824769388609848\n",
      "k = 44, score = [0.59217877 0.72067039 0.71348315 0.70224719 0.70056497], mean = 0.6858288941682474\n",
      "k = 45, score = [0.57541899 0.69832402 0.70786517 0.69662921 0.71751412], mean = 0.6791503046152068\n",
      "k = 46, score = [0.59217877 0.70391061 0.71348315 0.70224719 0.71751412], mean = 0.6858667693694595\n",
      "k = 47, score = [0.58659218 0.7150838  0.71348315 0.70224719 0.72316384], mean = 0.6881140313080385\n",
      "k = 48, score = [0.59217877 0.7150838  0.69662921 0.70224719 0.71751412], mean = 0.684730619724114\n",
      "k = 49, score = [0.58659218 0.72067039 0.69662921 0.70786517 0.70621469], mean = 0.6835943282240822\n"
     ]
    }
   ],
   "source": [
    "# cross validation 找到最好的k值\n",
    "from sklearn.neighbors import KNeighborsClassifier\n",
    "from sklearn.model_selection import cross_val_score\n",
    "\n",
    "k_range = range(1,50)\n",
    "k_scores = []\n",
    "for k in k_range:\n",
    "    knn=KNeighborsClassifier(n_neighbors=k)\n",
    "    scores = cross_val_score(knn, data_now, label, cv = 5, scoring='accuracy')\n",
    "    print(\"k = \" + str(k) + \", score = \" + str(scores) + \", mean = \" +  str(scores.mean()))\n",
    "    k_scores.append(scores.mean())"
   ]
  },
  {
   "cell_type": "code",
   "execution_count": 25,
   "metadata": {
    "_cell_guid": "979cb400-778f-4b24-ac89-30bbf1949bd2",
    "_uuid": "c4e8391eefdc6300175ec965eccb51ad9d0bffbd"
   },
   "outputs": [
    {
     "data": {
      "image/png": "[encoded data removed]",
      "text/plain": [
       "<matplotlib.figure.Figure at 0x110c713c8>"
      ]
     },
     "metadata": {},
     "output_type": "display_data"
    }
   ],
   "source": [
    "plt.plot(k_range, k_scores)\n",
    "plt.xlabel('K for KNN')\n",
    "plt.ylabel('Cross Validation Accuracy')\n",
    "plt.show()"
   ]
  },
  {
   "cell_type": "code",
   "execution_count": 26,
   "metadata": {
    "_cell_guid": "58afa24c-c277-9764-f235-b110b512ea0d",
    "_uuid": "f52e57379524cdeb4b76a67e776482556e5be8dd"
   },
   "outputs": [],
   "source": [
    "# 预测测试实验数据\n",
    "\n",
    "clf=KNeighborsClassifier(n_neighbors=20)\n",
    "clf.fit(data_now,label)\n",
    "result=clf.predict(testdat_now)"
   ]
  },
  {
   "cell_type": "code",
   "execution_count": 27,
   "metadata": {
    "_cell_guid": "5cd9c1a3-f817-bbde-96c4-350cf77b0206",
    "_uuid": "7cb7a49d61ae8e1a803443a0cb196f7aa34002e2"
   },
   "outputs": [
    {
     "name": "stdout",
     "output_type": "stream",
     "text": [
      "[0 0 0 0 0 0 1 0 0 1 0 0 1 0 1 1 0 0 0 0 1 0 0 1 1 0 1 0 0 0 0 1 0 0 1 0 0\n",
      " 0 0 1 0 0 0 1 1 0 0 0 1 0 1 0 0 1 0 0 0 0 0 1 0 0 0 0 1 0 0 0 1 1 0 0 0 0\n",
      " 1 1 0 0 1 0 1 1 0 0 0 0 1 0 1 1 0 0 1 0 0 0 1 0 0 0 1 0 0 0 0 0 0 0 0 0 0\n",
      " 1 1 0 1 0 0 1 0 0 0 0 1 0 0 0 0 0 0 0 0 0 0 0 0 0 0 0 0 1 0 1 1 0 0 0 1 0\n",
      " 0 0 1 0 0 0 0 0 1 0 0 0 1 1 0 0 0 0 0 0 0 0 0 0 0 0 0 0 1 1 0 1 1 1 1 0 1\n",
      " 0 0 0 0 0 1 0 0 0 0 0 1 0 0 0 0 1 1 0 0 0 0 0 1 0 0 0 0 0 0 0 1 1 1 0 1 0\n",
      " 0 0 0 0 0 1 0 0 0 1 0 0 0 0 1 0 0 1 0 0 1 0 0 1 1 0 0 0 0 0 1 0 0 0 0 0 0\n",
      " 0 0 0 0 1 1 0 0 0 0 0 1 0 1 0 0 1 0 0 0 0 0 1 1 1 1 0 0 1 0 0 0 1 0 1 0 0\n",
      " 0 0 0 0 0 0 0 0 1 0 1 1 1 0 0 0 0 0 1 0 1 0 0 1 0 0 0 1 1 0 0 1 0 0 0 0 0\n",
      " 0 0 0 0 0 1 0 0 0 0 1 0 0 0 0 0 0 1 0 0 1 1 0 0 0 0 0 0 0 0 0 1 0 0 0 1 0\n",
      " 0 1 0 0 1 1 0 0 0 0 0 0 0 0 0 0 0 0 0 1 1 0 0 0 0 1 0 1 0 0 1 0 1 0 0 0 0\n",
      " 1 1 1 1 1 0 0 1 0 0 0]\n"
     ]
    }
   ],
   "source": [
    "print(result)"
   ]
  },
  {
   "cell_type": "markdown",
   "metadata": {
    "_cell_guid": "b2e5006b-b1ae-4b19-a94e-64ac270eb744",
    "_uuid": "8e1e4a7a2ea7757adebc4d183e71c509696a37f4"
   },
   "source": [
    "打印输出"
   ]
  },
  {
   "cell_type": "code",
   "execution_count": 28,
   "metadata": {
    "_cell_guid": "6ecacbd2-b4ad-0b4a-b744-5f415047509a",
    "_uuid": "b15d5a3bb80ed89bf649b28d71e667c214d41e8e"
   },
   "outputs": [],
   "source": [
    "df = pd.DataFrame({\"PassengerId\": testset['PassengerId'],\"Survived\": result})\n",
    "\n",
    "df.to_csv('gender_submission.csv',header=True)\n"
   ]
  },
  {
   "cell_type": "code",
   "execution_count": null,
   "metadata": {
    "_cell_guid": "f86c2220-36dd-44cf-b84b-5ec886dd3b5e",
    "_uuid": "2b5474dc4e41f3d55402c386723ef714eeaa17cc",
    "collapsed": true
   },
   "outputs": [],
   "source": []
  }
 ],
 "metadata": {
  "_change_revision": 0,
  "_is_fork": false,
  "kernelspec": {
   "display_name": "Python 3",
   "language": "python",
   "name": "python3"
  },
  "language_info": {
   "codemirror_mode": {
    "name": "ipython",
    "version": 3
   },
   "file_extension": ".py",
   "mimetype": "text/x-python",
   "name": "python",
   "nbconvert_exporter": "python",
   "pygments_lexer": "ipython3",
   "version": "3.6.4"
  }
 },
 "nbformat": 4,
 "nbformat_minor": 1
}
