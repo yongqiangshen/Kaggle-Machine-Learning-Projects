{
 "cells": [
  {
   "cell_type": "markdown",
   "metadata": {
    "_cell_guid": "b678ac6c-8cbd-42c4-aa76-0217cb1a73fc",
    "_uuid": "7ad8db20721d8b449b72818a1af02e31aae04ca4"
   },
   "source": [
    "# Spam or Ham\n",
    "https://www.kaggle.com/uciml/sms-spam-collection-dataset"
   ]
  },
  {
   "cell_type": "code",
   "execution_count": 1,
   "metadata": {
    "_cell_guid": "a89760f4-9075-42be-b4c4-c8c87d175c88",
    "_uuid": "4429a082ddabcb23261daec29ee1ae9e68ba2a2e"
   },
   "outputs": [
    {
     "name": "stdout",
     "output_type": "stream",
     "text": [
      "     v1                                                 v2 Unnamed: 2  \\\n",
      "0   ham  Go until jurong point, crazy.. Available only ...        NaN   \n",
      "1   ham                      Ok lar... Joking wif u oni...        NaN   \n",
      "2  spam  Free entry in 2 a wkly comp to win FA Cup fina...        NaN   \n",
      "3   ham  U dun say so early hor... U c already then say...        NaN   \n",
      "4   ham  Nah I don't think he goes to usf, he lives aro...        NaN   \n",
      "\n",
      "  Unnamed: 3 Unnamed: 4  \n",
      "0        NaN        NaN  \n",
      "1        NaN        NaN  \n",
      "2        NaN        NaN  \n",
      "3        NaN        NaN  \n",
      "4        NaN        NaN  \n",
      "Messages after splitting\n",
      "1114    No no:)this is kallis home ground.amla home to...\n",
      "3589    I am in escape theatre now. . Going to watch K...\n",
      "3095    We walked from my moms. Right on stagwood pass...\n",
      "1012       I dunno they close oredi not... ÌÏ v ma fan...\n",
      "3320                               Yo im right by yo work\n",
      "4130    \\Its Ur luck to Love someone. Its Ur fortune t...\n",
      "1197     He also knows about lunch menu only da. . I know\n",
      "5426        Oh yeah! And my diet just flew out the window\n",
      "624     Nah it's straight, if you can just bring bud o...\n",
      "2260    SplashMobile: Choose from 1000s of gr8 tones e...\n",
      "Name: v2, dtype: object\n",
      "Spam or Ham after splitting\n",
      "1114     ham\n",
      "3589     ham\n",
      "3095     ham\n",
      "1012     ham\n",
      "3320     ham\n",
      "4130     ham\n",
      "1197     ham\n",
      "5426     ham\n",
      "624      ham\n",
      "2260    spam\n",
      "Name: v1, dtype: object\n"
     ]
    }
   ],
   "source": [
    "from sklearn.feature_extraction.text import CountVectorizer\n",
    "from sklearn.model_selection import train_test_split\n",
    "import pandas as pd\n",
    "import numpy as np\n",
    "\n",
    "data_dir = \"\"\n",
    "\n",
    "df = pd.read_csv(data_dir + 'spam.csv', encoding='latin-1')\n",
    "\n",
    "print (df.head())\n",
    "\n",
    "# split into train and test\n",
    "data_train, data_test, labels_train, labels_test = train_test_split(\n",
    "    df.v2,\n",
    "    df.v1, \n",
    "    test_size=0.2, \n",
    "    random_state=0)  \n",
    "\n",
    "print ('Messages after splitting')\n",
    "print (data_train[:10])  \n",
    "print ('Spam or Ham after splitting')\n",
    "print (labels_train[:10])"
   ]
  },
  {
   "cell_type": "markdown",
   "metadata": {
    "_cell_guid": "7d1e6ee3-af5b-4d66-98fe-5287e58aeb4e",
    "_uuid": "aa89509f18fd365a3ec9518722de0e98263c965d"
   },
   "source": [
    "Count the word numbers in training dataset"
   ]
  },
  {
   "cell_type": "code",
   "execution_count": 2,
   "metadata": {
    "_cell_guid": "92f9122c-0719-478a-9f26-214591331e11",
    "_uuid": "0277c5949b97ec351692f42399722d6b17358d14"
   },
   "outputs": [
    {
     "name": "stdout",
     "output_type": "stream",
     "text": [
      "Number of all the unique words : 13504\n"
     ]
    }
   ],
   "source": [
    "\n",
    "def GetVocabulary(data): \n",
    "    vocab_set = set([])\n",
    "    for document in data:\n",
    "        words = document.split()\n",
    "        for word in words:\n",
    "            vocab_set.add(word) \n",
    "    return list(vocab_set)\n",
    "\n",
    "vocab_list = GetVocabulary(data_train)\n",
    "print ('Number of all the unique words : ' + str(len(vocab_list)))\n",
    "\n"
   ]
  },
  {
   "cell_type": "markdown",
   "metadata": {
    "_cell_guid": "afc1b1ce-a1f5-4861-b641-db4a08c70e49",
    "_uuid": "257d26b2ad85f4e7fbd528aabf7bc5ae273658c7"
   },
   "source": [
    "Change the messages to word vector\n"
   ]
  },
  {
   "cell_type": "code",
   "execution_count": 3,
   "metadata": {
    "_cell_guid": "ce0c514a-1dd9-4d6a-97bb-6275fd0cca42",
    "_uuid": "944c3e38e2b9ab9b07c6eb2811de2061582a7324"
   },
   "outputs": [
    {
     "name": "stdout",
     "output_type": "stream",
     "text": [
      "3589    I am in escape theatre now. . Going to watch K...\n",
      "Name: v2, dtype: object\n",
      "We walked from my moms. Right on stagwood pass right on winterstone left on victors hill. Address is &lt;#&gt;\n"
     ]
    }
   ],
   "source": [
    "\n",
    "def Document2Vector(vocab_list, data):\n",
    "    word_vector = np.zeros(len(vocab_list))\n",
    "    words = data.split()\n",
    "    for word in words:\n",
    "        if word in vocab_list:\n",
    "            word_vector[vocab_list.index(word)] += 1\n",
    "    return word_vector\n",
    "\n",
    "print (data_train[1:2,])\n",
    "ans = Document2Vector(vocab_list,\"the the the\")\n",
    "print (data_train.values[2])\n"
   ]
  },
  {
   "cell_type": "code",
   "execution_count": 4,
   "metadata": {
    "_cell_guid": "fb0bce06-8225-4ae0-8b7f-2d55eb7be7db",
    "_uuid": "f8e259bb2ef260294478c4ec7929cdd10b68d84a"
   },
   "outputs": [
    {
     "name": "stdout",
     "output_type": "stream",
     "text": [
      "4457\n"
     ]
    }
   ],
   "source": [
    "train_matrix = []\n",
    "for document in data_train.values:\n",
    "    word_vector = Document2Vector(vocab_list, document)\n",
    "    train_matrix.append(word_vector)\n",
    "\n",
    "print (len(train_matrix))"
   ]
  },
  {
   "cell_type": "markdown",
   "metadata": {
    "_cell_guid": "9c45b4b5-09d5-462d-a862-5562f63e6415",
    "_uuid": "74c38f0817ee615141bc007c696ddfb65fc8bf34"
   },
   "source": [
    "Write my own naive bayes model"
   ]
  },
  {
   "cell_type": "code",
   "execution_count": 5,
   "metadata": {
    "_cell_guid": "565d5c42-f2f9-459a-a985-185ba5845350",
    "_uuid": "e9d96cc04ba14d79664e9a7c947e97785cf9ad4f"
   },
   "outputs": [
    {
     "name": "stdout",
     "output_type": "stream",
     "text": [
      "Train on the doc id:0\n",
      "Train on the doc id:500\n",
      "Train on the doc id:1000\n",
      "Train on the doc id:1500\n",
      "Train on the doc id:2000\n",
      "Train on the doc id:2500\n",
      "Train on the doc id:3000\n",
      "Train on the doc id:3500\n",
      "Train on the doc id:4000\n",
      "581\n",
      "3876\n"
     ]
    }
   ],
   "source": [
    "\n",
    "def NaiveBayes_train(train_matrix,labels_train):\n",
    "    num_docs = len(train_matrix)\n",
    "    num_words = len(train_matrix[0])\n",
    "    \n",
    "    spam_vector_count = np.ones(num_words);\n",
    "    ham_vector_count = np.ones(num_words)  \n",
    "    spam_total_count = num_words;\n",
    "    ham_total_count = num_words                  \n",
    "    \n",
    "    spam_count = 0\n",
    "    ham_count = 0\n",
    "    for i in range(num_docs):\n",
    "        if i % 500 == 0:\n",
    "            print ('Train on the doc id:' + str(i))\n",
    "            \n",
    "        if labels_train[i] == 'spam':\n",
    "            ham_vector_count += train_matrix[i]\n",
    "            ham_total_count += sum(train_matrix[i])\n",
    "            ham_count += 1\n",
    "        else:\n",
    "            spam_vector_count += train_matrix[i]\n",
    "            spam_total_count += sum(train_matrix[i])\n",
    "            spam_count += 1\n",
    "    \n",
    "    print (ham_count)\n",
    "    print (spam_count)\n",
    "    \n",
    "    p_spam_vector = np.log(ham_vector_count/ham_total_count)\n",
    "    p_ham_vector = np.log(spam_vector_count/spam_total_count)\n",
    "    return p_spam_vector, np.log(spam_count/num_docs), p_ham_vector, np.log(ham_count/num_docs)\n",
    "    \n",
    "    \n",
    "p_spam_vector, p_spam, p_ham_vector, p_ham = NaiveBayes_train(train_matrix, labels_train.values)"
   ]
  },
  {
   "cell_type": "code",
   "execution_count": 6,
   "metadata": {
    "_cell_guid": "052ce8ad-5971-4eb4-82a9-50b43ebc442c",
    "_uuid": "570fa7b2b2a36cdc5da9b41174eadabb50bb472a"
   },
   "outputs": [
    {
     "data": {
      "text/plain": [
       "(1115,)"
      ]
     },
     "execution_count": 6,
     "metadata": {},
     "output_type": "execute_result"
    }
   ],
   "source": [
    "data_test.values.shape"
   ]
  },
  {
   "cell_type": "code",
   "execution_count": 7,
   "metadata": {
    "_cell_guid": "e4415b37-0855-49bd-8926-afe63c668268",
    "_uuid": "1d737630d3f2df2b3d28355f57cabbf594c2bf23"
   },
   "outputs": [
    {
     "name": "stdout",
     "output_type": "stream",
     "text": [
      "Test on the doc id:0\n",
      "Test on the doc id:200\n",
      "Test on the doc id:400\n",
      "Test on the doc id:600\n",
      "Test on the doc id:800\n",
      "Test on the doc id:1000\n",
      "1115\n"
     ]
    }
   ],
   "source": [
    "\n",
    "    \n",
    "def Predict(test_word_vector,p_spam_vector, p_spam, p_ham_vector, p_ham):\n",
    "    \n",
    "    spam = sum(test_word_vector * p_spam_vector) + p_spam\n",
    "    ham = sum(test_word_vector * p_ham_vector) + p_ham\n",
    "    if spam > ham:\n",
    "        return 'spam'\n",
    "    else:\n",
    "        return 'ham'\n",
    "\n",
    "predictions = []\n",
    "i = 0\n",
    "for document in data_test.values:\n",
    "    if i % 200 == 0:\n",
    "        print ('Test on the doc id:' + str(i))\n",
    "    i += 1    \n",
    "    test_word_vector = Document2Vector(vocab_list, document)\n",
    "    ans = Predict(test_word_vector, p_spam_vector, p_spam, p_ham_vector, p_ham)\n",
    "    predictions.append(ans)\n",
    "\n",
    "print (len(predictions))"
   ]
  },
  {
   "cell_type": "code",
   "execution_count": 8,
   "metadata": {
    "_cell_guid": "c2931bf8-7b90-4d1c-baee-99d77fea4335",
    "_uuid": "f9762a23132a2475c9ea551885edbb5f82f035ff"
   },
   "outputs": [
    {
     "name": "stdout",
     "output_type": "stream",
     "text": [
      "0.9318385650224216\n",
      "             precision    recall  f1-score   support\n",
      "\n",
      "        ham       0.99      0.93      0.96       949\n",
      "       spam       0.71      0.93      0.80       166\n",
      "\n",
      "avg / total       0.94      0.93      0.94      1115\n",
      "\n",
      "[[885  64]\n",
      " [ 12 154]]\n"
     ]
    }
   ],
   "source": [
    "# Test model\n",
    "\n",
    "from sklearn.metrics import accuracy_score,classification_report,confusion_matrix\n",
    "from sklearn.model_selection import cross_val_score\n",
    "\n",
    "\n",
    "print (accuracy_score(labels_test, predictions))\n",
    "print (classification_report(labels_test, predictions))\n",
    "print (confusion_matrix(labels_test, predictions))\n"
   ]
  }
 ],
 "metadata": {
  "kernelspec": {
   "display_name": "Python 3",
   "language": "python",
   "name": "python3"
  },
  "language_info": {
   "codemirror_mode": {
    "name": "ipython",
    "version": 3
   },
   "file_extension": ".py",
   "mimetype": "text/x-python",
   "name": "python",
   "nbconvert_exporter": "python",
   "pygments_lexer": "ipython3",
   "version": "3.6.4"
  }
 },
 "nbformat": 4,
 "nbformat_minor": 1
}
