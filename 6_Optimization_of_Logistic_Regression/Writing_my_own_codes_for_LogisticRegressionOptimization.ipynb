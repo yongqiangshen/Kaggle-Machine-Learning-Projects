{
 "cells": [
  {
   "cell_type": "markdown",
   "metadata": {
    "_cell_guid": "a3831ec7-2eac-4e85-bd06-d6db8db6869d",
    "_uuid": "d31ebf3dd76dc174bdd9ea243a342f458f0a25bc"
   },
   "source": [
    "# Write my own codes for optimization of Logistic Regression"
   ]
  },
  {
   "cell_type": "code",
   "execution_count": 1,
   "metadata": {
    "_cell_guid": "3229eefa-8aa0-4525-bbdf-b6f07f3e284c",
    "_uuid": "aafec8dd35e0addf45069d7baa49b8d9b4940cd4"
   },
   "outputs": [],
   "source": [
    "import numpy as np\n",
    "import pandas as pd\n",
    "from patsy import dmatrices\n",
    "from sklearn.linear_model import LogisticRegression\n",
    "from sklearn import metrics\n",
    "import matplotlib.pyplot as plt"
   ]
  },
  {
   "cell_type": "code",
   "execution_count": 2,
   "metadata": {
    "_cell_guid": "956ec183-7792-49b7-b275-c3bf465348d5",
    "_uuid": "fa94c0e1478efcb9b472e37b7ab7de85131afd3d"
   },
   "outputs": [],
   "source": [
    "data = pd.read_csv(\"HR_comma_sep.csv\")"
   ]
  },
  {
   "cell_type": "code",
   "execution_count": 3,
   "metadata": {
    "_cell_guid": "5e05b1bf-3330-4ef4-bf86-199a46b7f32a",
    "_uuid": "2a662d7aad0fac0bec395dee7d9232a55c287b63"
   },
   "outputs": [],
   "source": [
    "data.left = data.left.astype(int)"
   ]
  },
  {
   "cell_type": "code",
   "execution_count": 4,
   "metadata": {
    "_cell_guid": "b1b10abd-62c4-4874-ad8c-5f218eb4daaa",
    "_uuid": "ce815046b6271e7b510c8016e409f9ee319a2469"
   },
   "outputs": [],
   "source": [
    "y, X = dmatrices('left~satisfaction_level+last_evaluation+number_project+average_montly_hours+time_spend_company+Work_accident+promotion_last_5years+C(sales)+C(salary)', data, return_type='dataframe')\n",
    "X = np.asmatrix(X)\n",
    "y = np.ravel(y)"
   ]
  },
  {
   "cell_type": "markdown",
   "metadata": {
    "_cell_guid": "4d90ad13-d78f-4791-825a-30bc9fb746a8",
    "_uuid": "79c675a5265bb83d1bf86fef9f03bd9e2f7b40ab"
   },
   "source": [
    "Normalize all values"
   ]
  },
  {
   "cell_type": "code",
   "execution_count": 5,
   "metadata": {
    "_cell_guid": "421fe330-ef64-4a78-968f-6ad11b3ac4c7",
    "_uuid": "9cc5b470052ba640ca77d6e68f372ef3725fbbe2"
   },
   "outputs": [],
   "source": [
    "for i in range(1, X.shape[1]):\n",
    "    xmin = X[:,i].min()\n",
    "    xmax = X[:,i].max()\n",
    "    X[:, i] = (X[:, i] - xmin) / (xmax - xmin)"
   ]
  },
  {
   "cell_type": "code",
   "execution_count": 6,
   "metadata": {
    "_cell_guid": "e2449303-b0c8-4c01-a705-f0daf8e5edb9",
    "_uuid": "c46f47dd6c93beda549b5289c16cbe7dba087670"
   },
   "outputs": [
    {
     "name": "stdout",
     "output_type": "stream",
     "text": [
      "T=0 loss=1.120382327806672 error=0.5037002466831122\n",
      "T=5 loss=0.6492666637968594 error=0.2910194012934196\n",
      "T=10 loss=0.6095807663133693 error=0.26668444562970867\n",
      "T=15 loss=0.5816449211566243 error=0.25888392559503964\n",
      "T=20 loss=0.5607552377630786 error=0.2526835122341489\n",
      "T=25 loss=0.5450244708251245 error=0.2481498766584439\n",
      "T=30 loss=0.5328795073088821 error=0.24854990332688845\n",
      "T=35 loss=0.5231836380769039 error=0.2474164944329622\n",
      "T=40 loss=0.5151826947262421 error=0.24234948996599773\n",
      "T=45 loss=0.5083944951258156 error=0.23968264550970064\n",
      "T=50 loss=0.5025111703564583 error=0.23728248549903327\n",
      "T=55 loss=0.49733135447626586 error=0.23581572104806986\n",
      "T=60 loss=0.4927180171532152 error=0.23448229881992133\n",
      "T=65 loss=0.4885735612823292 error=0.23381558770584707\n",
      "T=70 loss=0.48482536350449806 error=0.23214880992066136\n",
      "T=75 loss=0.48141731701862545 error=0.22934862324154945\n",
      "T=80 loss=0.4783047579769051 error=0.22668177878525236\n",
      "T=85 loss=0.4754513034939728 error=0.22428161877458497\n",
      "T=90 loss=0.4728267902672707 error=0.2231482098806587\n",
      "T=95 loss=0.47040586746002977 error=0.22074804986999133\n",
      "T=100 loss=0.46816699480428575 error=0.22094806320421362\n",
      "T=105 loss=0.46609170331060074 error=0.22134808987265817\n",
      "T=110 loss=0.46416403394312195 error=0.22154810320688045\n",
      "T=115 loss=0.4623701018588734 error=0.2211480765384359\n",
      "T=120 loss=0.4606977522920368 error=0.2206813787585839\n",
      "T=125 loss=0.45913628516582644 error=0.22054803653576904\n",
      "T=130 loss=0.4576762323464665 error=0.22054803653576904\n",
      "T=135 loss=0.456309175882234 error=0.22021468097873192\n",
      "T=140 loss=0.4550275985604056 error=0.22101473431562105\n",
      "T=145 loss=0.4538247602068062 error=0.2211480765384359\n",
      "T=150 loss=0.4526945946606393 error=0.22074804986999133\n",
      "T=155 loss=0.4516316234713585 error=0.22021468097873192\n",
      "T=160 loss=0.4506308832028294 error=0.21974798319887992\n",
      "T=165 loss=0.4496878638712194 error=0.22001466764450964\n",
      "T=170 loss=0.4487984565390081 error=0.22061470764717647\n",
      "T=175 loss=0.44795890847507314 error=0.22048136542436161\n",
      "T=180 loss=0.4471657845958744 error=0.21988132542169478\n",
      "T=185 loss=0.44641593414467695 error=0.21928128541902794\n",
      "T=190 loss=0.4457064617585627 error=0.21954796986465763\n",
      "T=195 loss=0.4450347022275213 error=0.21981465431028735\n",
      "T=200 loss=0.4443981983740911 error=0.2201480098673245\n",
      "T=205 loss=0.44379468158251134 error=0.21981465431028735\n",
      "T=210 loss=0.4432220545875695 error=0.2177478498566571\n",
      "T=215 loss=0.442678376199685 error=0.21694779651976798\n",
      "T=220 loss=0.44216184769643685 error=0.216481098739916\n",
      "T=225 loss=0.4416708006550691 error=0.21621441429428628\n",
      "T=230 loss=0.44120368603666404 error=0.21621441429428628\n",
      "T=235 loss=0.4407590643622404 error=0.21621441429428628\n",
      "T=240 loss=0.4403355968458539 error=0.21561437429161945\n",
      "T=245 loss=0.43993203736979597 error=0.21494766317754516\n",
      "T=250 loss=0.43954722520399775 error=0.2142809520634709\n",
      "T=255 loss=0.4391800783855862 error=0.21388092539502634\n",
      "T=260 loss=0.4388295876863491 error=0.21308087205813722\n",
      "T=265 loss=0.4384948111055622 error=0.21274751650110008\n",
      "T=270 loss=0.43817486883384554 error=0.21268084538969265\n",
      "T=275 loss=0.4378689386406205 error=0.21201413427561838\n",
      "T=280 loss=0.43757625164374897 error=0.21174744982998867\n",
      "T=285 loss=0.4372960884246278 error=0.21168077871858124\n",
      "T=290 loss=0.4370277754566001 error=0.21154743649576638\n",
      "T=295 loss=0.43677068181787676 error=0.21148076538435895\n",
      "T=300 loss=0.4365242161635873 error=0.21154743649576638\n",
      "T=305 loss=0.43628782393403137 error=0.21094739649309954\n",
      "T=310 loss=0.43606098477877575 error=0.2104140276018401\n",
      "T=315 loss=0.43584321017814276 error=0.21028068537902528\n",
      "T=320 loss=0.4356340412455387 error=0.20968064537635842\n",
      "T=325 loss=0.43543304669561994 error=0.20954730315354356\n",
      "T=330 loss=0.43523982096472097 error=0.20954730315354356\n",
      "T=335 loss=0.4350539824711322 error=0.20908060537369158\n",
      "T=340 loss=0.43487517200410236 error=0.20908060537369158\n",
      "T=345 loss=0.43470305123124675 error=0.20881392092806186\n",
      "T=350 loss=0.43453730131500257 error=0.20874724981665443\n",
      "T=355 loss=0.43437762162965166 error=0.20861390759383958\n",
      "T=360 loss=0.43422372857102726 error=0.20854723648243217\n",
      "T=365 loss=0.43407535445173173 error=0.20881392092806186\n",
      "T=370 loss=0.43393224647536216 error=0.20874724981665443\n",
      "T=375 loss=0.4337941657835865 error=0.209147276485099\n",
      "T=380 loss=0.43366088657063606 error=0.209147276485099\n",
      "T=385 loss=0.4335321952600236 error=0.20881392092806186\n",
      "T=390 loss=0.4334078897388679 error=0.209613974264951\n",
      "T=395 loss=0.43328777864544116 error=0.20968064537635842\n",
      "T=400 loss=0.4331716807060205 error=0.20954730315354356\n",
      "T=405 loss=0.43305942411730436 error=0.209147276485099\n",
      "T=410 loss=0.4329508459711239 error=0.2088805920394693\n",
      "T=415 loss=0.4328457917181876 error=0.208680578705247\n",
      "T=420 loss=0.4327441146681553 error=0.20788052536835788\n",
      "T=425 loss=0.4326456755232327 error=0.2076138409227282\n",
      "T=430 loss=0.43255034194299175 error=0.20768051203413562\n",
      "T=435 loss=0.43245798813795217 error=0.20721381425428362\n",
      "T=440 loss=0.4323684944901125 error=0.20701380092006133\n",
      "T=445 loss=0.43228174719826234 error=0.20728048536569105\n",
      "T=450 loss=0.4321976379464111 error=0.20708047203146876\n",
      "T=455 loss=0.4321160635936715 error=0.20708047203146876\n",
      "T=460 loss=0.4320369258840835 error=0.20721381425428362\n",
      "T=465 loss=0.4319601311749402 error=0.20721381425428362\n",
      "T=470 loss=0.4318855901823608 error=0.2071471431428762\n",
      "T=475 loss=0.4318132177428435 error=0.2069471298086539\n",
      "T=480 loss=0.4317429325897832 error=0.20674711647443164\n",
      "T=485 loss=0.4316746571438184 error=0.20661377425161678\n",
      "T=490 loss=0.4316083173161056 error=0.20634708980598707\n",
      "T=495 loss=0.4315438423236524 error=0.2058803920261351\n"
     ]
    }
   ],
   "source": [
    "np.random.seed(1)\n",
    "alpha = 1  # learning rate\n",
    "beta = np.random.randn(X.shape[1]) # initilize beta\n",
    "for T in range(500):\n",
    "    prob = np.array(1. / (1 + np.exp(-np.matmul(X, beta)))).ravel()  \n",
    "    prob_y = list(zip(prob, y))\n",
    "    loss = -sum([np.log(p) if y == 1 else np.log(1 - p) for p, y in prob_y]) / len(y) \n",
    "    error_rate = 0\n",
    "    for i in range(len(y)):\n",
    "        if ((prob[i] > 0.5 and y[i] == 0) or (prob[i] <= 0.5 and y[i] == 1)):\n",
    "            error_rate += 1;\n",
    "    error_rate /= len(y)\n",
    "    if T % 5 ==0 :\n",
    "        print('T=' + str(T) + ' loss=' + str(loss) + ' error=' + str(error_rate))\n",
    "    \n",
    "    deriv = np.zeros(X.shape[1])\n",
    "    for i in range(len(y)):\n",
    "        deriv += np.asarray(X[i,:]).ravel() * (prob[i] - y[i])\n",
    "    deriv /= len(y)\n",
    "    \n",
    "    beta -= alpha * deriv"
   ]
  },
  {
   "cell_type": "code",
   "execution_count": null,
   "metadata": {
    "_cell_guid": "072ef887-5bb2-4965-adbf-f2112281419b",
    "_uuid": "4e775c187e5f23f981d7d60f7edef73a3ba0fc07",
    "collapsed": true
   },
   "outputs": [],
   "source": []
  }
 ],
 "metadata": {
  "kernelspec": {
   "display_name": "Python 3",
   "language": "python",
   "name": "python3"
  },
  "language_info": {
   "codemirror_mode": {
    "name": "ipython",
    "version": 3
   },
   "file_extension": ".py",
   "mimetype": "text/x-python",
   "name": "python",
   "nbconvert_exporter": "python",
   "pygments_lexer": "ipython3",
   "version": "3.6.4"
  }
 },
 "nbformat": 4,
 "nbformat_minor": 1
}
