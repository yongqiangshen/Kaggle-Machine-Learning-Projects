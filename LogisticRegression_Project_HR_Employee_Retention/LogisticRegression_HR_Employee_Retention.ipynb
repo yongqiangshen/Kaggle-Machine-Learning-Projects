{
  "cells": [
    {
      "metadata": {
        "collapsed": true,
        "_cell_guid": "86989804-26c9-46db-a80f-9e36e681fe6f",
        "_uuid": "0cb5cb0e09787643f40047a8f34ac053bb109406",
        "trusted": false
      },
      "cell_type": "code",
      "source": "import numpy as np # 数组常用库\nimport pandas as pd # 读入csv常用库\nfrom patsy import dmatrices # 可根据离散变量自动生成哑变量\nfrom sklearn.linear_model import LogisticRegression # sk-learn库Logistic Regression模型\nfrom sklearn.model_selection import train_test_split, cross_val_score # sk-learn库训练与测试\nfrom sklearn import metrics # 生成各项测试指标库\nimport matplotlib.pyplot as plt # 画图常用库",
      "execution_count": null,
      "outputs": []
    },
    {
      "metadata": {
        "_cell_guid": "684bd18c-a2f6-45f4-97e9-75837c2e2673",
        "_uuid": "0b29dc4be31f921263b367a85f7fd6d9d809e510"
      },
      "cell_type": "markdown",
      "source": "从../input/HR_comma_sep.csv文件中读入数据"
    },
    {
      "metadata": {
        "collapsed": true,
        "_cell_guid": "f49f9d6a-3ad4-4496-b179-742f80e22ce9",
        "_uuid": "23e98986533c3baf368a2cfc2f23c8098d67f26e",
        "trusted": false
      },
      "cell_type": "code",
      "source": "data = pd.read_csv(\"../input/HR_comma_sep.csv\")\ndata",
      "execution_count": null,
      "outputs": []
    },
    {
      "metadata": {
        "collapsed": true,
        "_cell_guid": "ddf128b4-5f08-4a09-b8fb-6cfaa00efde3",
        "_uuid": "7957141ed636f30c3134129e5bb5ca048de4d560",
        "trusted": false
      },
      "cell_type": "code",
      "source": "data.dtypes",
      "execution_count": null,
      "outputs": []
    },
    {
      "metadata": {
        "_cell_guid": "a71622f2-bb79-4570-b539-d0a47a3ab4b5",
        "_uuid": "a5b523f984375c2c20e0b7a2ba73079d50dac631"
      },
      "cell_type": "markdown",
      "source": "观察离职人数与工资分布的关系"
    },
    {
      "metadata": {
        "collapsed": true,
        "scrolled": false,
        "_cell_guid": "4bb0aee7-bdde-4a62-90b2-379b767060de",
        "_uuid": "4e7949ac76e340e0f2f0c4f99c1ee77c5ed20607",
        "trusted": false
      },
      "cell_type": "code",
      "source": "pd.crosstab(data.salary, data.left).plot(kind='bar')\nplt.show()",
      "execution_count": null,
      "outputs": []
    },
    {
      "metadata": {
        "_cell_guid": "f2ce3bcc-5347-4464-aac4-8b2e87e5b221",
        "_uuid": "61c990d2f9913f2b837775d1ee4d2fdcfc9995ed"
      },
      "cell_type": "markdown",
      "source": "观察离职比例与工资分布的关系"
    },
    {
      "metadata": {
        "collapsed": true,
        "_cell_guid": "91405333-e851-4aa2-a710-defcc5f37dcb",
        "_uuid": "27abeb49dba5f7a3d2409463ad1119d1a818c152",
        "trusted": false
      },
      "cell_type": "code",
      "source": "q = pd.crosstab(data.salary, data.left)\nprint(q)\nprint(q.sum(1))\nq.div(q.sum(1), axis = 0).plot(kind='bar', stacked = True)\nplt.show()",
      "execution_count": null,
      "outputs": []
    },
    {
      "metadata": {
        "_cell_guid": "41e92440-092f-429e-9a62-690c5d3ed493",
        "_uuid": "864780075b04f515d8bda837316ee335ffacd61f"
      },
      "cell_type": "markdown",
      "source": "观察员工满意度的分布图(histogram)"
    },
    {
      "metadata": {
        "collapsed": true,
        "scrolled": true,
        "_cell_guid": "974a0e38-8dcf-4602-9584-784738abba7f",
        "_uuid": "bd786f958c3f72e6c64ae3d7a132c6ee6f639672",
        "trusted": false
      },
      "cell_type": "code",
      "source": "data[data.left==0].satisfaction_level.hist()\nplt.show()",
      "execution_count": null,
      "outputs": []
    },
    {
      "metadata": {
        "collapsed": true,
        "_cell_guid": "86b99a99-1ff6-4827-bae1-de997fe2f403",
        "_uuid": "98f83ae34d3c22aa8140e18e86b6ddeb41582cf2",
        "trusted": false
      },
      "cell_type": "code",
      "source": "data[data.left==1].satisfaction_level.hist()\nplt.show()",
      "execution_count": null,
      "outputs": []
    },
    {
      "metadata": {
        "_cell_guid": "1c7209a5-c27b-4836-971f-2f6f46241ee8",
        "_uuid": "ec02939ec48d605750b0dbb8cde0276ba271b641"
      },
      "cell_type": "markdown",
      "source": "dmatrices将数据中的离散变量变成哑变量，并指明用satisfaction_level, last_evaluation, ... 来预测left\n然后重命名列的名字"
    },
    {
      "metadata": {
        "collapsed": true,
        "_cell_guid": "b6dca5fc-6add-47a3-8c49-4b9043c86657",
        "_uuid": "b771b5839d4b4837cb5b64e02017fe83db4917e3",
        "trusted": false
      },
      "cell_type": "code",
      "source": "model = LogisticRegression()\ny, X = dmatrices('left~satisfaction_level+last_evaluation+number_project+average_montly_hours+time_spend_company+Work_accident+promotion_last_5years+C(sales)+C(salary)', data, return_type='dataframe')\nX = X.rename(columns = {\n    'C(sales)[T.RandD]': 'Department: Random',\n    'C(sales)[T.accounting]': 'Department: Accounting',\n    'C(sales)[T.hr]': 'Department: HR',\n    'C(sales)[T.management]': 'Department: Management',\n    'C(sales)[T.marketing]': 'Department: Marketing',\n    'C(sales)[T.product_mng]': 'Department: Product_Management',\n    'C(sales)[T.sales]': 'Department: Sales',\n    'C(sales)[T.support]': 'Department: Support',\n    'C(sales)[T.technical]': 'Department: Technical',\n    'C(salary)[T.low]': 'Salary: Low',\n    'C(salary)[T.medium]': 'Salary: Medium'}) \ny = np.ravel(y) # 将y变成np的一维数组",
      "execution_count": null,
      "outputs": []
    },
    {
      "metadata": {
        "_cell_guid": "9c53c218-58cc-4787-9516-9cffaa36cfb4",
        "_uuid": "bd9a66647987324e34aaf156e27bc8c6605b599e"
      },
      "cell_type": "markdown",
      "source": "用X和y训练模型，然后输出X中每一项自变量对于y的影响\nzip(a,b)可将a的每一个元素和b里对应位置的元素组成一对"
    },
    {
      "metadata": {
        "collapsed": true,
        "_cell_guid": "93454c1e-880a-432b-9c93-189bc2eaa020",
        "_uuid": "8c307c7e2e7fbeb51bfd6c3d15629df049456a2e",
        "trusted": false
      },
      "cell_type": "code",
      "source": "model.fit(X, y)\npd.DataFrame(list(zip(X.columns, np.transpose(model.coef_))))\n",
      "execution_count": null,
      "outputs": []
    },
    {
      "metadata": {
        "_cell_guid": "ee6b7ff1-a85a-42d3-99a3-938867450cf8",
        "_uuid": "ecf8487593c475e77e4e3b95b39b04ffceac8114"
      },
      "cell_type": "markdown",
      "source": "model.score为准确率(0到1之间)"
    },
    {
      "metadata": {
        "collapsed": true,
        "_cell_guid": "3beb638c-a5cb-4d8c-8c33-c40fb1b858a1",
        "_uuid": "a3211d55c9ea49137972fc68abe8941ac09994e1",
        "trusted": false
      },
      "cell_type": "code",
      "source": "print(model.score(X,y))",
      "execution_count": null,
      "outputs": []
    },
    {
      "metadata": {
        "collapsed": true,
        "_cell_guid": "3ac65bfd-4cbd-49a8-b3f8-95a426e0a7a2",
        "_uuid": "316e5f804189e63c874a107ee38b014b409457f3",
        "trusted": false
      },
      "cell_type": "code",
      "source": "#一个高工资HR，对公司满意度0.5, 上次评审0.7分，做过4个项目，每月平均工作160小时，在公司呆了3年，过去5年没有被晋升，没有工伤\nmodel.predict_proba([[1,0,0,1,0,0,0,0,0,0,0,0, 0.5, 0.7, 4.0, 160, 3.0, 0, 0]])",
      "execution_count": null,
      "outputs": []
    },
    {
      "metadata": {
        "collapsed": true,
        "_cell_guid": "e7d5f70d-8420-42fa-af48-f6563297b2b4",
        "_uuid": "07ea225da8c82ea52dc9849c8159ef6b9f2b0368",
        "trusted": false
      },
      "cell_type": "code",
      "source": "pred = model.predict(X)\n(abs(pred-y)).sum() / len(y)",
      "execution_count": null,
      "outputs": []
    },
    {
      "metadata": {
        "_cell_guid": "4ea9bb37-8ddc-46d0-999b-31f87420bae7",
        "_uuid": "bced90a78e5627996cbca642890e1a0361b66591"
      },
      "cell_type": "markdown",
      "source": "生成7:3的训练测试集"
    },
    {
      "metadata": {
        "collapsed": true,
        "_cell_guid": "1460e0cb-a956-4e9b-8b02-bffac44eb59a",
        "_uuid": "0695810436a508bc5b38c2756bbb8a307dc0b41e",
        "trusted": false
      },
      "cell_type": "code",
      "source": "Xtrain,Xtest,ytrain,ytest=train_test_split(X, y, test_size=0.3, random_state=0)\nmodel2 = LogisticRegression()\nmodel2.fit(Xtrain, ytrain)",
      "execution_count": null,
      "outputs": []
    },
    {
      "metadata": {
        "collapsed": true,
        "_cell_guid": "95202ad0-141e-4a6d-a918-0e9201a8f04e",
        "_uuid": "89df8f63f61a1cd7fe12fa1cc10798944904e3da",
        "trusted": false
      },
      "cell_type": "code",
      "source": "model2 = LogisticRegression(C=10000)\nmodel2.fit(Xtrain, ytrain)\npred = model2.predict(Xtest)\nmetrics.accuracy_score(ytest, pred)",
      "execution_count": null,
      "outputs": []
    },
    {
      "metadata": {
        "_cell_guid": "53f81836-6257-48c7-81b5-99ea3bad4100",
        "_uuid": "b55c4fdb1ab5fec5f726d8bb2f1ee0ed6f2a3f4c"
      },
      "cell_type": "markdown",
      "source": "观察实际离职/未离职被预测成为离职/未离职的数目"
    },
    {
      "metadata": {
        "collapsed": true,
        "_cell_guid": "d8da2382-9572-40e8-b9ab-d216d257f67e",
        "_uuid": "7b297e4a4c02a234036b775c8aea49a42f3211b8",
        "trusted": false
      },
      "cell_type": "code",
      "source": "metrics.confusion_matrix(ytest, pred)\n#        prediction\n#\n#\n#actual\n#\n#\n#",
      "execution_count": null,
      "outputs": []
    },
    {
      "metadata": {
        "_cell_guid": "5d654539-2137-42d7-8d7f-41764618a24e",
        "_uuid": "f2d6899107e73fc08ad64cc1f391d31e72aec078"
      },
      "cell_type": "markdown",
      "source": "classification_report会输出每一类对应的precision, recall"
    },
    {
      "metadata": {
        "collapsed": true,
        "scrolled": false,
        "_cell_guid": "d529d26c-fc11-4be8-909b-aa1edda9f987",
        "_uuid": "2f1781cf298e73ca9af880b0c8a37456c6225693",
        "trusted": false
      },
      "cell_type": "code",
      "source": "#sklearn.metrics.classification_report(y_true, y_pred)\nprint(metrics.classification_report(ytest, pred))\n",
      "execution_count": null,
      "outputs": []
    },
    {
      "metadata": {
        "_cell_guid": "7be8653b-a979-4627-ad4c-bd4e080d9872",
        "_uuid": "56349c5d5a1f64a1ffa57910765649c2bf8bdf39"
      },
      "cell_type": "markdown",
      "source": "10份的交叉验证Cross Validation"
    },
    {
      "metadata": {
        "collapsed": true,
        "_cell_guid": "b6449f15-d544-4562-ac3c-da63821edb28",
        "_uuid": "3945ee226e6527a24f6cb7d4be9a5a482c9ba54d",
        "trusted": false
      },
      "cell_type": "code",
      "source": "print(cross_val_score(LogisticRegression(), X, y, scoring='accuracy', cv=10))",
      "execution_count": null,
      "outputs": []
    }
  ],
  "metadata": {
    "kernelspec": {
      "display_name": "Python 3",
      "language": "python",
      "name": "python3"
    },
    "language_info": {
      "pygments_lexer": "ipython3",
      "codemirror_mode": {
        "version": 3,
        "name": "ipython"
      },
      "mimetype": "text/x-python",
      "file_extension": ".py",
      "version": "3.6.4",
      "name": "python",
      "nbconvert_exporter": "python"
    }
  },
  "nbformat": 4,
  "nbformat_minor": 1
}